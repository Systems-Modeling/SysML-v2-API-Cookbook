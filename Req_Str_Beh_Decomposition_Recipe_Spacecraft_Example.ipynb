{
 "cells": [
  {
   "cell_type": "markdown",
   "id": "3ee4834f",
   "metadata": {},
   "source": [
    "# Initializing the SysML v2 API"
   ]
  },
  {
   "cell_type": "code",
   "execution_count": 2,
   "id": "6b5fef59",
   "metadata": {},
   "outputs": [],
   "source": [
    "from __future__ import print_function\n",
    "\n",
    "import time\n",
    "import requests\n",
    "from pprint import pprint\n",
    "import pandas as pd\n",
    "import json\n",
    "\n",
    "#host = \"<SysML2-API-Repo-Host:Port>\"\n",
    "host = \"Specify the URL of the SysML v2 API and Service Repository\""
   ]
  },
  {
   "cell_type": "markdown",
   "id": "04c1ff93",
   "metadata": {},
   "source": [
    "# Get projects"
   ]
  },
  {
   "cell_type": "code",
   "execution_count": 3,
   "id": "f7d5de82-fd62-4178-b1ef-5666393fa51f",
   "metadata": {},
   "outputs": [
    {
     "data": {
      "text/html": [
       "<div>\n",
       "<style scoped>\n",
       "    .dataframe tbody tr th:only-of-type {\n",
       "        vertical-align: middle;\n",
       "    }\n",
       "\n",
       "    .dataframe tbody tr th {\n",
       "        vertical-align: top;\n",
       "    }\n",
       "\n",
       "    .dataframe thead th {\n",
       "        text-align: right;\n",
       "    }\n",
       "</style>\n",
       "<table border=\"1\" class=\"dataframe\">\n",
       "  <thead>\n",
       "    <tr style=\"text-align: right;\">\n",
       "      <th></th>\n",
       "      <th>Project Name</th>\n",
       "      <th>Project ID</th>\n",
       "    </tr>\n",
       "  </thead>\n",
       "  <tbody>\n",
       "    <tr>\n",
       "      <th>0</th>\n",
       "      <td>7b-Variant Configurations Mon Mar 13 17:54:29 ...</td>\n",
       "      <td>000e9890-6935-43e6-a5d7-5d7cac601f4c</td>\n",
       "    </tr>\n",
       "    <tr>\n",
       "      <th>1</th>\n",
       "      <td>6-Individual and Snapshots Mon Mar 13 17:53:49...</td>\n",
       "      <td>00bbbdc9-ea5e-4ab6-8198-94b4708639c4</td>\n",
       "    </tr>\n",
       "    <tr>\n",
       "      <th>2</th>\n",
       "      <td>11a-View-Viewpoint Mon Mar 13 17:59:02 EDT 2023</td>\n",
       "      <td>021b60e9-1d9d-4c0e-af6b-8478b5928ccf</td>\n",
       "    </tr>\n",
       "    <tr>\n",
       "      <th>3</th>\n",
       "      <td>VehiclePackage Fri May 05 12:28:40 UTC 2023</td>\n",
       "      <td>0768a0aa-9be9-457d-b693-12d45c68343c</td>\n",
       "    </tr>\n",
       "    <tr>\n",
       "      <th>4</th>\n",
       "      <td>sleon_filtering_test Sat Jun 10 03:30:40 UTC 2023</td>\n",
       "      <td>0a8f97fe-a4c8-4806-bfa9-0d95e377761a</td>\n",
       "    </tr>\n",
       "    <tr>\n",
       "      <th>...</th>\n",
       "      <td>...</td>\n",
       "      <td>...</td>\n",
       "    </tr>\n",
       "    <tr>\n",
       "      <th>71</th>\n",
       "      <td>updated-test-project-19/05/2023 13:36:25</td>\n",
       "      <td>f5d672c5-8a36-4a5a-8fcc-4eb7bfb703ff</td>\n",
       "    </tr>\n",
       "    <tr>\n",
       "      <th>72</th>\n",
       "      <td>13b-Safety and Security Features Element Group...</td>\n",
       "      <td>f9079904-26cf-437e-ab74-e1bd6b6013fb</td>\n",
       "    </tr>\n",
       "    <tr>\n",
       "      <th>73</th>\n",
       "      <td>ts-usage-views Fri Jun 09 06:35:30 UTC 2023</td>\n",
       "      <td>fcf4f295-8813-4737-ad97-f21267e3738b</td>\n",
       "    </tr>\n",
       "    <tr>\n",
       "      <th>74</th>\n",
       "      <td>VehicleMasses_MapleConnector Mon Jan 22 20:32:...</td>\n",
       "      <td>fee1b365-a84d-4de1-ba56-1d364f10478c</td>\n",
       "    </tr>\n",
       "    <tr>\n",
       "      <th>75</th>\n",
       "      <td>BasicAJMExampleIF1 Fri Sep 22 14:00:29 UTC 2023</td>\n",
       "      <td>ff444e8e-0bb0-430d-ad75-c6e3de10af30</td>\n",
       "    </tr>\n",
       "  </tbody>\n",
       "</table>\n",
       "<p>76 rows × 2 columns</p>\n",
       "</div>"
      ],
      "text/plain": [
       "                                         Project Name  \\\n",
       "0   7b-Variant Configurations Mon Mar 13 17:54:29 ...   \n",
       "1   6-Individual and Snapshots Mon Mar 13 17:53:49...   \n",
       "2     11a-View-Viewpoint Mon Mar 13 17:59:02 EDT 2023   \n",
       "3         VehiclePackage Fri May 05 12:28:40 UTC 2023   \n",
       "4   sleon_filtering_test Sat Jun 10 03:30:40 UTC 2023   \n",
       "..                                                ...   \n",
       "71           updated-test-project-19/05/2023 13:36:25   \n",
       "72  13b-Safety and Security Features Element Group...   \n",
       "73        ts-usage-views Fri Jun 09 06:35:30 UTC 2023   \n",
       "74  VehicleMasses_MapleConnector Mon Jan 22 20:32:...   \n",
       "75    BasicAJMExampleIF1 Fri Sep 22 14:00:29 UTC 2023   \n",
       "\n",
       "                              Project ID  \n",
       "0   000e9890-6935-43e6-a5d7-5d7cac601f4c  \n",
       "1   00bbbdc9-ea5e-4ab6-8198-94b4708639c4  \n",
       "2   021b60e9-1d9d-4c0e-af6b-8478b5928ccf  \n",
       "3   0768a0aa-9be9-457d-b693-12d45c68343c  \n",
       "4   0a8f97fe-a4c8-4806-bfa9-0d95e377761a  \n",
       "..                                   ...  \n",
       "71  f5d672c5-8a36-4a5a-8fcc-4eb7bfb703ff  \n",
       "72  f9079904-26cf-437e-ab74-e1bd6b6013fb  \n",
       "73  fcf4f295-8813-4737-ad97-f21267e3738b  \n",
       "74  fee1b365-a84d-4de1-ba56-1d364f10478c  \n",
       "75  ff444e8e-0bb0-430d-ad75-c6e3de10af30  \n",
       "\n",
       "[76 rows x 2 columns]"
      ]
     },
     "metadata": {},
     "output_type": "display_data"
    }
   ],
   "source": [
    "projects_url = f\"{host}/projects\" \n",
    "projects_response = requests.get(projects_url)\n",
    "\n",
    "if projects_response.status_code == 200:\n",
    "    projects = projects_response.json()\n",
    "    \n",
    "    df = pd.DataFrame({'Project Name':[], 'Project ID':[]})\n",
    "    for p in projects:\n",
    "        df = pd.concat([df, pd.DataFrame({'Project Name':[p['name']], 'Project ID':[p['@id']]})], ignore_index=True)\n",
    "    display(df)"
   ]
  },
  {
   "cell_type": "markdown",
   "id": "d815e4fe",
   "metadata": {},
   "source": [
    "# Define a function to recursively iterate over feature members \n",
    "## Recursive graph traversal using FeatureMembership relations"
   ]
  },
  {
   "cell_type": "code",
   "execution_count": 34,
   "id": "24ec6146",
   "metadata": {},
   "outputs": [],
   "source": [
    "def get_member_features(project_id, commit_id, element_id, member_type, indent):\n",
    "    \n",
    "    # Fetch the element\n",
    "    element_url = f\"{host}/projects/{project_id}/commits/{commit_id}/elements/{element_id}\" \n",
    "    response = requests.get(element_url)\n",
    "    \n",
    "    element_data = response.json()\n",
    "    element_name = element_data['name']\n",
    "    element_id = element_data['@id']\n",
    "    element_type = element_data ['@type']\n",
    "    \n",
    "    if element_type == member_type:\n",
    "        print(f\"{indent} - {element_name} (id = {element_id}, type = {element_type})\")\n",
    "        # Feature memberships\n",
    "        element_features = element_data['feature']\n",
    "        if len(element_features) > 0:\n",
    "            for feature in element_features:\n",
    "                get_member_features(project_id, commit_id, feature['@id'], member_type, indent + \"  \")\n"
   ]
  },
  {
   "cell_type": "markdown",
   "id": "a47d1b56-9176-4c97-b0f8-443e159a1f20",
   "metadata": {},
   "source": [
    "## Project"
   ]
  },
  {
   "cell_type": "code",
   "execution_count": 35,
   "id": "a8cb5b5b-f182-49cd-bc83-a82dc94c422a",
   "metadata": {},
   "outputs": [],
   "source": [
    "spacecraft_project_id = 'a24a3f81-db33-4514-8cee-11b8db59d3e8'"
   ]
  },
  {
   "cell_type": "code",
   "execution_count": 36,
   "id": "482ddfe4",
   "metadata": {},
   "outputs": [
    {
     "name": "stdout",
     "output_type": "stream",
     "text": [
      "[{'@id': '40666fb1-cab2-415e-8764-75121b14ec87',\n",
      "  '@type': 'Commit',\n",
      "  'created': '2023-06-13T18:54:44.606759-04:00',\n",
      "  'description': None,\n",
      "  'owningProject': {'@id': 'a24a3f81-db33-4514-8cee-11b8db59d3e8'},\n",
      "  'previousCommit': None}]\n"
     ]
    }
   ],
   "source": [
    "spacecraft_project_commit_id = ''\n",
    "\n",
    "commits_url = f\"{host}/projects/{spacecraft_project_id}/commits\" \n",
    "commits_response = requests.get(commits_url)\n",
    "if commits_response.status_code == 200:\n",
    "    commits = commits_response.json()\n",
    "    pprint(commits)\n",
    "    spacecraft_project_commit_id = commits[0]['@id']\n"
   ]
  },
  {
   "cell_type": "markdown",
   "id": "487c0624",
   "metadata": {},
   "source": [
    "## Query to find Spacecraft part"
   ]
  },
  {
   "cell_type": "code",
   "execution_count": 37,
   "id": "3d724e27",
   "metadata": {},
   "outputs": [
    {
     "name": "stdout",
     "output_type": "stream",
     "text": [
      "[{'@id': '6a262fe1-6958-4c05-8ff1-c19d4cd68c41',\n",
      "  '@type': 'PartUsage',\n",
      "  'name': 'Spacecraft',\n",
      "  'owner': {'@id': 'e51d38d7-3459-4c19-b760-1d6a257641b1'}}]\n"
     ]
    }
   ],
   "source": [
    " \n",
    "data = {\n",
    "  '@type':'Query',\n",
    "  'select': ['name','@id','@type','owner'],\n",
    "  'where': {\n",
    "    '@type': 'CompositeConstraint',\n",
    "    'operator': 'and',\n",
    "    'constraint': [\n",
    "        {\n",
    "            '@type': 'PrimitiveConstraint',\n",
    "            'inverse': False,\n",
    "            'operator': '=',\n",
    "            'property': 'name',\n",
    "            'value': 'Spacecraft'\n",
    "        },\n",
    "        {\n",
    "            '@type': 'PrimitiveConstraint',\n",
    "            'inverse': False,\n",
    "            'operator': '=',\n",
    "            'property': '@type',\n",
    "            'value': 'PartUsage'\n",
    "        }\n",
    "    ]\n",
    "  }\n",
    "}\n",
    "\n",
    "payload = json.dumps(data)\n",
    "\n",
    "vehicle1_id = ''\n",
    "query_url = f\"{host}/projects/{spacecraft_project_id}/query-results\" \n",
    "\n",
    "query_response = requests.post(query_url, json=data)\n",
    "\n",
    "if query_response.status_code == 200:\n",
    "    query_response_json = query_response.json()\n",
    "    pprint(query_response_json)\n",
    "    spacecraft_part_id = query_response_json[0]['@id']"
   ]
  },
  {
   "cell_type": "markdown",
   "id": "0092a660",
   "metadata": {},
   "source": [
    "## Parts tree for Spacecraft (recursive FeatureMembership relation navigation)"
   ]
  },
  {
   "cell_type": "code",
   "execution_count": 38,
   "id": "406504bf",
   "metadata": {},
   "outputs": [
    {
     "name": "stdout",
     "output_type": "stream",
     "text": [
      "  - Spacecraft (id = 6a262fe1-6958-4c05-8ff1-c19d4cd68c41, type = PartUsage)\n",
      "    - Payload_Subsystem (id = 091aada9-3687-4bfc-a683-7d8b92972935, type = PartUsage)\n",
      "      - Payload_sensor (id = 9a2721e1-410c-49f9-9551-9c8721ef589e, type = PartUsage)\n",
      "      - Payload_software (id = 31fc0cdb-4ac4-4da3-bee8-713b41e5781c, type = PartUsage)\n",
      "    - Power_Subsystem (id = 32ab132f-9db6-4ea0-9c77-d399fdf41faa, type = PartUsage)\n",
      "      - Solar_Array (id = 97713133-38b4-42a3-929f-6a1f024ba37d, type = PartUsage)\n",
      "      - Battery (id = 4518e4c0-a6a5-441e-b007-38b66a4fc589, type = PartUsage)\n",
      "    - Communications_Subsystem (id = be62763d-fdff-425a-a993-d81cdf5fcf93, type = PartUsage)\n",
      "      - Communication_Software (id = f88566d8-65cd-4a9e-91df-44eda6faf7db, type = PartUsage)\n",
      "      - High_Rate_Antenna (id = cf7f9c85-f994-4496-a80e-2517d2bc75c7, type = PartUsage)\n",
      "    - Thermal_Subsystem (id = 0411b359-503e-43ef-af18-1b904f6b35b2, type = PartUsage)\n",
      "      - Radiator (id = 87963be9-6564-4e5b-b890-ab195f2faeb4, type = PartUsage)\n",
      "      - Heat_Pipe (id = b37ae9c9-68d1-4e36-894b-fe2dbbfaadb0, type = PartUsage)\n",
      "    - Structure_and_Mechanisms_Subsystem (id = 777e9209-3e37-4b85-9105-4229199f1405, type = PartUsage)\n",
      "      - Antenna_Gimbal (id = d3b285e5-3e73-4b0a-a7b9-1cd80c562f5d, type = PartUsage)\n",
      "      - Solar_Array_Gimbal (id = 4971b596-e0b0-4d4c-b41b-1e115b14295d, type = PartUsage)\n",
      "    - Avionics_Subsystem (id = c71bee28-2fda-49c1-8b8b-46ee864ba1c1, type = PartUsage)\n",
      "      - Onboard_Controller (id = 672471b6-6395-4900-a48c-66e37589b679, type = PartUsage)\n",
      "      - System_Controller (id = ef4e6b6a-7da6-4029-8ff8-5545d32e4e48, type = PartUsage)\n",
      "      - Onboard_Computer (id = a0142360-ed07-4411-92ad-bc6a30b87f58, type = PartUsage)\n",
      "        - Mission_Software (id = 8ab1b5d8-8675-4e54-8573-9df7389a75c2, type = PartUsage)\n",
      "        - Flight_Software (id = c1706220-0a73-434b-a6bd-3d5184346bf3, type = PartUsage)\n",
      "    - GNC_Subsystem (id = d5ec8534-e7ed-4c4f-ae12-663f8df74f9c, type = PartUsage)\n",
      "      - Reaction_Wheel (id = 31c8c58d-48ef-4d27-8fbd-c98a5b461f68, type = PartUsage)\n",
      "      - GNC_Software (id = d8866c3b-f07a-4583-9bdb-a8ec2266cbc3, type = PartUsage)\n",
      "    - Propulsion_Subsystem (id = dc94ce90-5390-415e-be7d-5f10e6b8867a, type = PartUsage)\n",
      "      - Propellant_Line (id = 5c34b5b1-b7b0-4844-948e-a0046f14c0d4, type = PartUsage)\n",
      "      - Propulsion_Software (id = d2544b57-2b06-42cf-92e3-414630bcd7ac, type = PartUsage)\n",
      "    - Harness_Subsystem (id = 789d0600-10de-4d09-9632-49d80cf9d386, type = PartUsage)\n",
      "      - Power_Harness (id = cfcdbe53-3075-416a-8200-5226fc9c5267, type = PartUsage)\n",
      "      - Data_Harness (id = 206d7021-5396-4fbe-a8a6-7e1704d2c5d3, type = PartUsage)\n"
     ]
    }
   ],
   "source": [
    "get_member_features(spacecraft_project_id,spacecraft_project_commit_id, spacecraft_part_id,'PartUsage',\" \")"
   ]
  },
  {
   "cell_type": "code",
   "execution_count": 39,
   "id": "5fa94a05-c45e-4d93-a145-7e5967a87cd9",
   "metadata": {},
   "outputs": [
    {
     "name": "stdout",
     "output_type": "stream",
     "text": [
      "[{'@id': '459f5ec9-dc82-45c0-87e3-d013ed6773e5',\n",
      "  '@type': 'RequirementUsage',\n",
      "  'name': 'Spacecraft_Specification',\n",
      "  'owner': {'@id': '26bc955e-5ea4-4a51-8099-db42169e7436'}}]\n"
     ]
    }
   ],
   "source": [
    "data = {\n",
    "  '@type':'Query',\n",
    "  'select': ['name','@id','@type','owner'],\n",
    "  'where': {\n",
    "    '@type': 'CompositeConstraint',\n",
    "    'operator': 'and',\n",
    "    'constraint': [\n",
    "        {\n",
    "            '@type': 'PrimitiveConstraint',\n",
    "            'inverse': False,\n",
    "            'operator': '=',\n",
    "            'property': 'name',\n",
    "            'value': 'Spacecraft_Specification'\n",
    "        },\n",
    "        {\n",
    "            '@type': 'PrimitiveConstraint',\n",
    "            'inverse': False,\n",
    "            'operator': '=',\n",
    "            'property': '@type',\n",
    "            'value': 'RequirementUsage'\n",
    "        }\n",
    "    ]\n",
    "  }\n",
    "}\n",
    "\n",
    "payload = json.dumps(data)\n",
    "\n",
    "vehicle_specification_id = ''\n",
    "query_url = f\"{host}/projects/{spacecraft_project_id}/query-results\" \n",
    "\n",
    "query_response = requests.post(query_url, json=data)\n",
    "\n",
    "if query_response.status_code == 200:\n",
    "    query_response_json = query_response.json()\n",
    "    pprint(query_response_json)\n",
    "    spacecraft_specification_id = query_response_json[0]['@id']"
   ]
  },
  {
   "cell_type": "code",
   "execution_count": 40,
   "id": "bd2276aa",
   "metadata": {},
   "outputs": [
    {
     "name": "stdout",
     "output_type": "stream",
     "text": [
      "  - Spacecraft_Specification (id = 459f5ec9-dc82-45c0-87e3-d013ed6773e5, type = RequirementUsage)\n",
      "    - Launch_Vehicle_Interface (id = 9df26fa1-e5c6-4679-8c45-4c482b544497, type = RequirementUsage)\n",
      "      - Launch_Vehicle_Mechanical_Interface (id = 6a262fdd-1964-490b-ad2b-b8f444aa60d7, type = RequirementUsage)\n",
      "      - Launch_Vehicle_Electrics_Interface (id = 0674630a-ee6e-4e03-8ada-3d24cc82f700, type = RequirementUsage)\n",
      "    - Functional_and_Performance (id = b2a2a88e-d6c8-4277-a43c-ce9c7e74bf95, type = RequirementUsage)\n",
      "      - Probability_of_Detection (id = b896853b-cdc3-4776-b28e-b11dba0701f7, type = RequirementUsage)\n",
      "      - Probability_of_False_Alarm (id = d1941cc0-fd36-4a74-933c-cc444e105d5d, type = RequirementUsage)\n",
      "      - Pointing_Accuracy (id = 24f75812-2686-4445-9c48-dd842b0a0b17, type = RequirementUsage)\n",
      "      - Downlink_Capacity (id = 71d84b57-0033-4a20-a598-781d547d5c51, type = RequirementUsage)\n",
      "      - Data_Storage (id = 9d9bcba4-4d1c-421a-b947-ebd1d19fc931, type = RequirementUsage)\n",
      "      - Fault_Management (id = ac07ab51-7583-4ef3-89c9-661e974ffae9, type = RequirementUsage)\n",
      "    - Physical (id = a9f208ca-a42e-4a49-9da5-4e7422d1e1da, type = RequirementUsage)\n",
      "      - Mass (id = 9b9737fa-96bd-460f-8d05-d76917f1c90b, type = RequirementUsage)\n",
      "      - Electrical_Power (id = 83a0bea4-ef39-49ee-af64-ea2e205c880f, type = RequirementUsage)\n",
      "      - Orbit_Constraints (id = f2e61320-d428-4f91-93aa-af2ac87154ea, type = RequirementUsage)\n",
      "      - Thermal_Protection (id = 14796f3e-6d17-479b-8d3c-ef29ed9166a2, type = RequirementUsage)\n",
      "      - Payload_Accomodation (id = 79ed4e4b-d99e-45f9-9a0a-cdd7cbbc41ae, type = RequirementUsage)\n",
      "      - Structural_Integrity (id = 9bbef78f-ed8c-47f3-b76a-4c203b07046d, type = RequirementUsage)\n",
      "    - Quality_Characteristics (id = 0a412f71-01f4-481b-a616-371f3263435a, type = RequirementUsage)\n",
      "      - Reliability (id = a465415d-c243-46a6-8148-4a42cbe0acd2, type = RequirementUsage)\n",
      "      - Lifetime (id = 59e08f8f-3e3e-4316-8b9a-0fe5db46b7fb, type = RequirementUsage)\n",
      "      - Unit_Cost (id = 1b9e87f8-4acd-4a32-9570-6e19a7f7caf0, type = RequirementUsage)\n"
     ]
    }
   ],
   "source": [
    "get_member_features(spacecraft_project_id, spacecraft_project_commit_id, spacecraft_specification_id,\"RequirementUsage\",\" \")"
   ]
  },
  {
   "cell_type": "code",
   "execution_count": null,
   "id": "c9d67e6b-d814-42d0-b180-41458eb34eb6",
   "metadata": {},
   "outputs": [],
   "source": []
  }
 ],
 "metadata": {
  "kernelspec": {
   "display_name": "Python 3 (ipykernel)",
   "language": "python",
   "name": "python3"
  },
  "language_info": {
   "codemirror_mode": {
    "name": "ipython",
    "version": 3
   },
   "file_extension": ".py",
   "mimetype": "text/x-python",
   "name": "python",
   "nbconvert_exporter": "python",
   "pygments_lexer": "ipython3",
   "version": "3.8.16"
  }
 },
 "nbformat": 4,
 "nbformat_minor": 5
}
