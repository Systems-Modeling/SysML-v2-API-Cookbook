{
 "cells": [
  {
   "cell_type": "markdown",
   "id": "3ee4834f",
   "metadata": {
    "tags": []
   },
   "source": [
    "# Initializing the SysML v2 API"
   ]
  },
  {
   "cell_type": "code",
   "execution_count": 1,
   "id": "6b5fef59",
   "metadata": {},
   "outputs": [],
   "source": [
    "from __future__ import print_function\n",
    "\n",
    "import time\n",
    "import requests\n",
    "from pprint import pprint\n",
    "import pandas as pd\n",
    "import json\n",
    "from datetime import datetime\n",
    "\n",
    "#host = \"<specify protocol://host:port of the server that is a provider of the SysML v2 REST/HTTP API\"\n",
    "host = \"http://sysml2-dev.intercax.com:9000\""
   ]
  },
  {
   "cell_type": "markdown",
   "id": "04c1ff93",
   "metadata": {},
   "source": [
    "# Get projects"
   ]
  },
  {
   "cell_type": "code",
   "execution_count": 2,
   "id": "78788ed9",
   "metadata": {},
   "outputs": [
    {
     "data": {
      "text/html": [
       "<style type=\"text/css\">\n",
       "</style>\n",
       "<table id=\"T_a40b2\">\n",
       "  <thead>\n",
       "    <tr>\n",
       "      <th id=\"T_a40b2_level0_col0\" class=\"col_heading level0 col0\" >Project Name</th>\n",
       "      <th id=\"T_a40b2_level0_col1\" class=\"col_heading level0 col1\" >Project ID</th>\n",
       "    </tr>\n",
       "  </thead>\n",
       "  <tbody>\n",
       "    <tr>\n",
       "      <td id=\"T_a40b2_row0_col0\" class=\"data row0 col0\" >4a-Functional Allocation Thu Jun 16 17:18:42 EDT 2022</td>\n",
       "      <td id=\"T_a40b2_row0_col1\" class=\"data row0 col1\" >02235ab1-46b0-4e88-8781-24876dfb7797</td>\n",
       "    </tr>\n",
       "    <tr>\n",
       "      <td id=\"T_a40b2_row1_col0\" class=\"data row1 col0\" >13a-Model Containment Thu Jun 16 17:23:32 EDT 2022</td>\n",
       "      <td id=\"T_a40b2_row1_col1\" class=\"data row1 col1\" >0606afde-a508-4806-bcd1-92e41e23e60a</td>\n",
       "    </tr>\n",
       "    <tr>\n",
       "      <td id=\"T_a40b2_row2_col0\" class=\"data row2 col0\" >18-Use Case Thu Jun 16 17:27:05 EDT 2022</td>\n",
       "      <td id=\"T_a40b2_row2_col1\" class=\"data row2 col1\" >0b8386f4-97dd-419f-8607-92ca345d4356</td>\n",
       "    </tr>\n",
       "    <tr>\n",
       "      <td id=\"T_a40b2_row3_col0\" class=\"data row3 col0\" >14c-Language Extensions Mon Jun 13 13:47:00 EDT 2022</td>\n",
       "      <td id=\"T_a40b2_row3_col1\" class=\"data row3 col1\" >0bac2595-df17-4edb-901b-373c7a92d729</td>\n",
       "    </tr>\n",
       "    <tr>\n",
       "      <td id=\"T_a40b2_row4_col0\" class=\"data row4 col0\" >10b-Trade-off Among Alternative Configurations Mon Jun 13 13:43:06 EDT 2022</td>\n",
       "      <td id=\"T_a40b2_row4_col1\" class=\"data row4 col1\" >115117fd-7e7b-454b-a7c6-d30e51ff910e</td>\n",
       "    </tr>\n",
       "    <tr>\n",
       "      <td id=\"T_a40b2_row5_col0\" class=\"data row5 col0\" >11a-View-Viewpoint Thu Jun 16 17:22:33 EDT 2022</td>\n",
       "      <td id=\"T_a40b2_row5_col1\" class=\"data row5 col1\" >11f9c415-0e30-438a-be15-cef64b480ac5</td>\n",
       "    </tr>\n",
       "    <tr>\n",
       "      <td id=\"T_a40b2_row6_col0\" class=\"data row6 col0\" >a1234 Mon Jul 11 12:05:47 EDT 2022</td>\n",
       "      <td id=\"T_a40b2_row6_col1\" class=\"data row6 col1\" >124c09f1-c639-4eec-964c-1b996dbed1f2</td>\n",
       "    </tr>\n",
       "    <tr>\n",
       "      <td id=\"T_a40b2_row7_col0\" class=\"data row7 col0\" >a1234 Mon Jul 11 12:05:53 EDT 2022</td>\n",
       "      <td id=\"T_a40b2_row7_col1\" class=\"data row7 col1\" >18da0870-4b9e-454d-9db6-9d9c1e292489</td>\n",
       "    </tr>\n",
       "    <tr>\n",
       "      <td id=\"T_a40b2_row8_col0\" class=\"data row8 col0\" >15_19-Materials with Properties Thu Jun 16 17:26:15 EDT 2022</td>\n",
       "      <td id=\"T_a40b2_row8_col1\" class=\"data row8 col1\" >1eb1a5b0-938b-460f-a610-82b784793d28</td>\n",
       "    </tr>\n",
       "    <tr>\n",
       "      <td id=\"T_a40b2_row9_col0\" class=\"data row9 col0\" >9-Verification-simplified Mon Jun 13 13:42:46 EDT 2022</td>\n",
       "      <td id=\"T_a40b2_row9_col1\" class=\"data row9 col1\" >202b22e1-9a4d-48de-8f7d-d84caa2ca96c</td>\n",
       "    </tr>\n",
       "    <tr>\n",
       "      <td id=\"T_a40b2_row10_col0\" class=\"data row10 col0\" >14c-Language Extensions Thu Jun 16 17:25:16 EDT 2022</td>\n",
       "      <td id=\"T_a40b2_row10_col1\" class=\"data row10 col1\" >21c0894a-b45b-4f15-b578-db3ddaca5bcf</td>\n",
       "    </tr>\n",
       "    <tr>\n",
       "      <td id=\"T_a40b2_row11_col0\" class=\"data row11 col0\" >ShapeItems Mon Jun 13 13:52:10 EDT 2022</td>\n",
       "      <td id=\"T_a40b2_row11_col1\" class=\"data row11 col1\" >2348eb43-22b4-4c3d-8561-9f66ba875bd3</td>\n",
       "    </tr>\n",
       "    <tr>\n",
       "      <td id=\"T_a40b2_row12_col0\" class=\"data row12 col0\" >2a-Parts Interconnection Fri Jul 15 19:04:25 EDT 2022</td>\n",
       "      <td id=\"T_a40b2_row12_col1\" class=\"data row12 col1\" >26fb0747-dffb-422c-ab15-160246c25524</td>\n",
       "    </tr>\n",
       "    <tr>\n",
       "      <td id=\"T_a40b2_row13_col0\" class=\"data row13 col0\" >10d-Dynamics Analysis Thu Jun 16 17:22:11 EDT 2022</td>\n",
       "      <td id=\"T_a40b2_row13_col1\" class=\"data row13 col1\" >2b8b9f26-c00a-41c3-8a78-eaf587ebd39a</td>\n",
       "    </tr>\n",
       "    <tr>\n",
       "      <td id=\"T_a40b2_row14_col0\" class=\"data row14 col0\" >14a-Language Extensions Thu Jun 16 17:24:44 EDT 2022</td>\n",
       "      <td id=\"T_a40b2_row14_col1\" class=\"data row14 col1\" >2cbd42b9-6d46-4be1-9696-53dca8fdfbbe</td>\n",
       "    </tr>\n",
       "    <tr>\n",
       "      <td id=\"T_a40b2_row15_col0\" class=\"data row15 col0\" >12a-Dependency Mon Jun 13 13:44:47 EDT 2022</td>\n",
       "      <td id=\"T_a40b2_row15_col1\" class=\"data row15 col1\" >311f82b5-bf62-41ce-8199-83cd7ef47794</td>\n",
       "    </tr>\n",
       "    <tr>\n",
       "      <td id=\"T_a40b2_row16_col0\" class=\"data row16 col0\" >5-State-based Behavior-1 Mon Jun 13 13:40:44 EDT 2022</td>\n",
       "      <td id=\"T_a40b2_row16_col1\" class=\"data row16 col1\" >31a060d8-3c6a-448b-84d6-e9d66e1e476e</td>\n",
       "    </tr>\n",
       "    <tr>\n",
       "      <td id=\"T_a40b2_row17_col0\" class=\"data row17 col0\" >ShapeItems Mon Jun 13 13:51:19 EDT 2022</td>\n",
       "      <td id=\"T_a40b2_row17_col1\" class=\"data row17 col1\" >31cd59bc-8862-4016-bf65-c025893dfd1f</td>\n",
       "    </tr>\n",
       "    <tr>\n",
       "      <td id=\"T_a40b2_row18_col0\" class=\"data row18 col0\" >11b-Safety and Security Feature Views Mon Jun 13 13:44:29 EDT 2022</td>\n",
       "      <td id=\"T_a40b2_row18_col1\" class=\"data row18 col1\" >333c2e1f-8c2b-4aa1-adcf-7248b733cd67</td>\n",
       "    </tr>\n",
       "    <tr>\n",
       "      <td id=\"T_a40b2_row19_col0\" class=\"data row19 col0\" >5-State-based Behavior-1a Mon Jun 13 13:41:12 EDT 2022</td>\n",
       "      <td id=\"T_a40b2_row19_col1\" class=\"data row19 col1\" >359c94f0-dec1-453f-bc4b-3fcb7cd0e13d</td>\n",
       "    </tr>\n",
       "    <tr>\n",
       "      <td id=\"T_a40b2_row20_col0\" class=\"data row20 col0\" >a1234 Mon Jul 11 11:42:42 EDT 2022</td>\n",
       "      <td id=\"T_a40b2_row20_col1\" class=\"data row20 col1\" >37c93d73-2b86-4f1a-bd72-260ef611955e</td>\n",
       "    </tr>\n",
       "    <tr>\n",
       "      <td id=\"T_a40b2_row21_col0\" class=\"data row21 col0\" >10c-Fuel Economy Analysis Mon Jun 13 13:43:25 EDT 2022</td>\n",
       "      <td id=\"T_a40b2_row21_col1\" class=\"data row21 col1\" >3977a407-ce82-4c77-aa0a-77fb80ef8b0b</td>\n",
       "    </tr>\n",
       "    <tr>\n",
       "      <td id=\"T_a40b2_row22_col0\" class=\"data row22 col0\" >a1234 Mon Jul 11 11:31:29 EDT 2022</td>\n",
       "      <td id=\"T_a40b2_row22_col1\" class=\"data row22 col1\" >3b4c63ff-18ea-4da8-bedd-a9e4c72a6805</td>\n",
       "    </tr>\n",
       "    <tr>\n",
       "      <td id=\"T_a40b2_row23_col0\" class=\"data row23 col0\" >7b-Variant Configurations Thu Jun 16 17:20:14 EDT 2022</td>\n",
       "      <td id=\"T_a40b2_row23_col1\" class=\"data row23 col1\" >3f1ef047-959a-4fb6-819c-e6431b3fc8b4</td>\n",
       "    </tr>\n",
       "    <tr>\n",
       "      <td id=\"T_a40b2_row24_col0\" class=\"data row24 col0\" >3a-Function-based Behavior-5 Thu Jun 16 17:18:26 EDT 2022</td>\n",
       "      <td id=\"T_a40b2_row24_col1\" class=\"data row24 col1\" >4023a9f1-01d7-4840-aa5b-28cd60547496</td>\n",
       "    </tr>\n",
       "    <tr>\n",
       "      <td id=\"T_a40b2_row25_col0\" class=\"data row25 col0\" >Spacecraft 2022-06-21 10:15:48.205913</td>\n",
       "      <td id=\"T_a40b2_row25_col1\" class=\"data row25 col1\" >47797bc7-cdf1-48a7-883f-62dd238305fc</td>\n",
       "    </tr>\n",
       "    <tr>\n",
       "      <td id=\"T_a40b2_row26_col0\" class=\"data row26 col0\" >13b-Safety and Security Features Element Group-2 Thu Jun 16 17:24:19 EDT 2022</td>\n",
       "      <td id=\"T_a40b2_row26_col1\" class=\"data row26 col1\" >484bc116-605b-43e3-9a0d-ab32482b689c</td>\n",
       "    </tr>\n",
       "    <tr>\n",
       "      <td id=\"T_a40b2_row27_col0\" class=\"data row27 col0\" >5-State-based Behavior-1a Thu Jun 16 17:19:28 EDT 2022</td>\n",
       "      <td id=\"T_a40b2_row27_col1\" class=\"data row27 col1\" >4af2b2c8-4a7d-4c46-886f-f4941d3be92f</td>\n",
       "    </tr>\n",
       "    <tr>\n",
       "      <td id=\"T_a40b2_row28_col0\" class=\"data row28 col0\" >12b-Allocation Thu Jun 16 17:23:20 EDT 2022</td>\n",
       "      <td id=\"T_a40b2_row28_col1\" class=\"data row28 col1\" >4cf7b13e-4ebb-4f36-beab-450cb0aad4c4</td>\n",
       "    </tr>\n",
       "    <tr>\n",
       "      <td id=\"T_a40b2_row29_col0\" class=\"data row29 col0\" >17a-Sequence-Modeling Mon Jun 13 13:48:18 EDT 2022</td>\n",
       "      <td id=\"T_a40b2_row29_col1\" class=\"data row29 col1\" >4db09ad2-4af3-4c9f-817b-fc74abb24c12</td>\n",
       "    </tr>\n",
       "    <tr>\n",
       "      <td id=\"T_a40b2_row30_col0\" class=\"data row30 col0\" >12b-Allocation Mon Jun 13 13:45:00 EDT 2022</td>\n",
       "      <td id=\"T_a40b2_row30_col1\" class=\"data row30 col1\" >4fd3eb53-9f26-4954-9a11-ed3744d5b66d</td>\n",
       "    </tr>\n",
       "    <tr>\n",
       "      <td id=\"T_a40b2_row31_col0\" class=\"data row31 col0\" >18-Use Case Mon Jun 13 13:48:48 EDT 2022</td>\n",
       "      <td id=\"T_a40b2_row31_col1\" class=\"data row31 col1\" >53337d0c-f0aa-4200-98bf-cc6503b6a70b</td>\n",
       "    </tr>\n",
       "    <tr>\n",
       "      <td id=\"T_a40b2_row32_col0\" class=\"data row32 col0\" >3a-Function-based Behavior-5 Fri Jul 15 19:08:20 EDT 2022</td>\n",
       "      <td id=\"T_a40b2_row32_col1\" class=\"data row32 col1\" >57cffff7-84a8-4e94-88c7-aa293be67eb3</td>\n",
       "    </tr>\n",
       "    <tr>\n",
       "      <td id=\"T_a40b2_row33_col0\" class=\"data row33 col0\" >8-Requirements Thu Jun 16 17:20:39 EDT 2022</td>\n",
       "      <td id=\"T_a40b2_row33_col1\" class=\"data row33 col1\" >5851a10c-76ad-41e9-9562-693dea55cb21</td>\n",
       "    </tr>\n",
       "    <tr>\n",
       "      <td id=\"T_a40b2_row34_col0\" class=\"data row34 col0\" >13a-Model Containment Mon Jun 13 13:45:13 EDT 2022</td>\n",
       "      <td id=\"T_a40b2_row34_col1\" class=\"data row34 col1\" >64d1251d-79e6-4785-8585-9918288abb0c</td>\n",
       "    </tr>\n",
       "    <tr>\n",
       "      <td id=\"T_a40b2_row35_col0\" class=\"data row35 col0\" >6-Individual and Snapshots Mon Jun 13 13:41:35 EDT 2022</td>\n",
       "      <td id=\"T_a40b2_row35_col1\" class=\"data row35 col1\" >669dc6f5-ddf7-4f09-949e-40b449a2155f</td>\n",
       "    </tr>\n",
       "    <tr>\n",
       "      <td id=\"T_a40b2_row36_col0\" class=\"data row36 col0\" >8-Requirements Mon Jun 13 13:42:24 EDT 2022</td>\n",
       "      <td id=\"T_a40b2_row36_col1\" class=\"data row36 col1\" >67b20369-a5d8-4e1a-92fc-4228cf9777b1</td>\n",
       "    </tr>\n",
       "    <tr>\n",
       "      <td id=\"T_a40b2_row37_col0\" class=\"data row37 col0\" >a1234 Mon Jul 11 11:41:22 EDT 2022</td>\n",
       "      <td id=\"T_a40b2_row37_col1\" class=\"data row37 col1\" >7247df22-8187-4490-adad-d1b22209ba96</td>\n",
       "    </tr>\n",
       "    <tr>\n",
       "      <td id=\"T_a40b2_row38_col0\" class=\"data row38 col0\" >14b-Language Extensions Thu Jun 16 17:25:01 EDT 2022</td>\n",
       "      <td id=\"T_a40b2_row38_col1\" class=\"data row38 col1\" >7566e53d-a163-4ce4-b5b7-0db9207715e1</td>\n",
       "    </tr>\n",
       "    <tr>\n",
       "      <td id=\"T_a40b2_row39_col0\" class=\"data row39 col0\" >a1234 Mon Jul 11 11:41:29 EDT 2022</td>\n",
       "      <td id=\"T_a40b2_row39_col1\" class=\"data row39 col1\" >79027464-c6c6-4717-aca5-255dd98abae1</td>\n",
       "    </tr>\n",
       "    <tr>\n",
       "      <td id=\"T_a40b2_row40_col0\" class=\"data row40 col0\" >15_10-Primitive Data Types Mon Jun 13 13:47:44 EDT 2022</td>\n",
       "      <td id=\"T_a40b2_row40_col1\" class=\"data row40 col1\" >7b17f736-b909-40ce-b7da-34e622db8c0e</td>\n",
       "    </tr>\n",
       "    <tr>\n",
       "      <td id=\"T_a40b2_row41_col0\" class=\"data row41 col0\" >10b-Trade-off Among Alternative Configurations Thu Jun 16 17:21:25 EDT 2022</td>\n",
       "      <td id=\"T_a40b2_row41_col1\" class=\"data row41 col1\" >818b9a9b-c6cd-4da4-af0e-7a929df7f5d7</td>\n",
       "    </tr>\n",
       "    <tr>\n",
       "      <td id=\"T_a40b2_row42_col0\" class=\"data row42 col0\" >15_10-Primitive Data Types Thu Jun 16 17:26:00 EDT 2022</td>\n",
       "      <td id=\"T_a40b2_row42_col1\" class=\"data row42 col1\" >86cbd86a-8322-4f03-99ce-a46f5edde464</td>\n",
       "    </tr>\n",
       "    <tr>\n",
       "      <td id=\"T_a40b2_row43_col0\" class=\"data row43 col0\" >15_19-Materials with Properties Mon Jun 13 13:47:59 EDT 2022</td>\n",
       "      <td id=\"T_a40b2_row43_col1\" class=\"data row43 col1\" >89922923-e086-4ff6-8034-0f343f3855b4</td>\n",
       "    </tr>\n",
       "    <tr>\n",
       "      <td id=\"T_a40b2_row44_col0\" class=\"data row44 col0\" >2a-Parts Interconnection Mon Jun 13 13:39:03 EDT 2022</td>\n",
       "      <td id=\"T_a40b2_row44_col1\" class=\"data row44 col1\" >89eeacf4-d0fc-42bb-9a9b-c75f9c8188bc</td>\n",
       "    </tr>\n",
       "    <tr>\n",
       "      <td id=\"T_a40b2_row45_col0\" class=\"data row45 col0\" >3a-Function-based Behavior-2 Mon Jun 13 13:39:51 EDT 2022</td>\n",
       "      <td id=\"T_a40b2_row45_col1\" class=\"data row45 col1\" >8a5cfb5f-6b5c-47d1-b352-941825419637</td>\n",
       "    </tr>\n",
       "    <tr>\n",
       "      <td id=\"T_a40b2_row46_col0\" class=\"data row46 col0\" >Spacecraft 2022-06-21 08:58:33.242226</td>\n",
       "      <td id=\"T_a40b2_row46_col1\" class=\"data row46 col1\" >8aef12b0-9b6c-4e2e-8235-2c3470b0c9f6</td>\n",
       "    </tr>\n",
       "    <tr>\n",
       "      <td id=\"T_a40b2_row47_col0\" class=\"data row47 col0\" >13b-Safety and Security Features Element Group Thu Jun 16 17:23:45 EDT 2022</td>\n",
       "      <td id=\"T_a40b2_row47_col1\" class=\"data row47 col1\" >8ffb1a97-96bd-4794-829f-77a687f1758e</td>\n",
       "    </tr>\n",
       "    <tr>\n",
       "      <td id=\"T_a40b2_row48_col0\" class=\"data row48 col0\" >11b-Safety and Security Feature Views Thu Jun 16 17:22:50 EDT 2022</td>\n",
       "      <td id=\"T_a40b2_row48_col1\" class=\"data row48 col1\" >92a73141-2648-4500-a613-b25462fa511b</td>\n",
       "    </tr>\n",
       "    <tr>\n",
       "      <td id=\"T_a40b2_row49_col0\" class=\"data row49 col0\" >12a-Dependency Thu Jun 16 17:23:07 EDT 2022</td>\n",
       "      <td id=\"T_a40b2_row49_col1\" class=\"data row49 col1\" >945c21f9-05f0-4541-a219-1a7d90674a7b</td>\n",
       "    </tr>\n",
       "    <tr>\n",
       "      <td id=\"T_a40b2_row50_col0\" class=\"data row50 col0\" >4a-Functional Allocation Mon Jun 13 13:40:25 EDT 2022</td>\n",
       "      <td id=\"T_a40b2_row50_col1\" class=\"data row50 col1\" >9765eb33-4104-461c-a8e7-578a32e8478a</td>\n",
       "    </tr>\n",
       "    <tr>\n",
       "      <td id=\"T_a40b2_row51_col0\" class=\"data row51 col0\" >a Thu Jul 07 15:00:49 EDT 2022</td>\n",
       "      <td id=\"T_a40b2_row51_col1\" class=\"data row51 col1\" >a66e64e3-5907-413d-bab3-cf87455de7c6</td>\n",
       "    </tr>\n",
       "    <tr>\n",
       "      <td id=\"T_a40b2_row52_col0\" class=\"data row52 col0\" >3a-Function-based Behavior-5 Mon Jun 13 13:40:09 EDT 2022</td>\n",
       "      <td id=\"T_a40b2_row52_col1\" class=\"data row52 col1\" >ad4f5833-1571-4693-bfe9-9d8dd40d6192</td>\n",
       "    </tr>\n",
       "    <tr>\n",
       "      <td id=\"T_a40b2_row53_col0\" class=\"data row53 col0\" >13b-Safety and Security Features Element Group-1 Mon Jun 13 13:45:41 EDT 2022</td>\n",
       "      <td id=\"T_a40b2_row53_col1\" class=\"data row53 col1\" >ae7132a0-656d-4ff1-8807-5bb9ecfa8b62</td>\n",
       "    </tr>\n",
       "    <tr>\n",
       "      <td id=\"T_a40b2_row54_col0\" class=\"data row54 col0\" >3a-Function-based Behavior-1 Mon Jun 13 13:39:31 EDT 2022</td>\n",
       "      <td id=\"T_a40b2_row54_col1\" class=\"data row54 col1\" >b6fd0cb0-6583-4cab-aa31-05b77c00c608</td>\n",
       "    </tr>\n",
       "    <tr>\n",
       "      <td id=\"T_a40b2_row55_col0\" class=\"data row55 col0\" >17b-Sequence-Modeling Thu Jun 16 17:26:51 EDT 2022</td>\n",
       "      <td id=\"T_a40b2_row55_col1\" class=\"data row55 col1\" >bb6966df-a56a-45f5-a11f-76566887e115</td>\n",
       "    </tr>\n",
       "    <tr>\n",
       "      <td id=\"T_a40b2_row56_col0\" class=\"data row56 col0\" >7b-Variant Configurations Mon Jun 13 13:41:55 EDT 2022</td>\n",
       "      <td id=\"T_a40b2_row56_col1\" class=\"data row56 col1\" >bc32c76d-af60-48b1-878e-4c91fed1247c</td>\n",
       "    </tr>\n",
       "    <tr>\n",
       "      <td id=\"T_a40b2_row57_col0\" class=\"data row57 col0\" >13b-Safety and Security Features Element Group Mon Jun 13 13:45:27 EDT 2022</td>\n",
       "      <td id=\"T_a40b2_row57_col1\" class=\"data row57 col1\" >c01bf68b-fd64-496a-8491-850fd4c8b5cf</td>\n",
       "    </tr>\n",
       "    <tr>\n",
       "      <td id=\"T_a40b2_row58_col0\" class=\"data row58 col0\" >a1234 Mon Jul 11 12:05:39 EDT 2022</td>\n",
       "      <td id=\"T_a40b2_row58_col1\" class=\"data row58 col1\" >c13b41ad-47a5-42fd-a3aa-02058386dd41</td>\n",
       "    </tr>\n",
       "    <tr>\n",
       "      <td id=\"T_a40b2_row59_col0\" class=\"data row59 col0\" >1c-Parts Tree Redefinition Mon Jun 13 13:38:32 EDT 2022</td>\n",
       "      <td id=\"T_a40b2_row59_col1\" class=\"data row59 col1\" >c2b441ad-a4d2-4101-bea6-4f7d7c03e09d</td>\n",
       "    </tr>\n",
       "    <tr>\n",
       "      <td id=\"T_a40b2_row60_col0\" class=\"data row60 col0\" >2a-Parts Interconnection Thu Jun 16 17:17:18 EDT 2022</td>\n",
       "      <td id=\"T_a40b2_row60_col1\" class=\"data row60 col1\" >c3c5e7c0-4124-450a-866d-716821f53e5f</td>\n",
       "    </tr>\n",
       "    <tr>\n",
       "      <td id=\"T_a40b2_row61_col0\" class=\"data row61 col0\" >9-Verification-simplified Thu Jun 16 17:21:02 EDT 2022</td>\n",
       "      <td id=\"T_a40b2_row61_col1\" class=\"data row61 col1\" >c450ca8e-0f48-431d-9702-309a88cfb8ae</td>\n",
       "    </tr>\n",
       "    <tr>\n",
       "      <td id=\"T_a40b2_row62_col0\" class=\"data row62 col0\" >a1234 Thu Jul 07 15:01:29 EDT 2022</td>\n",
       "      <td id=\"T_a40b2_row62_col1\" class=\"data row62 col1\" >c5c4f3bd-e228-4839-9f14-b8f60673d611</td>\n",
       "    </tr>\n",
       "    <tr>\n",
       "      <td id=\"T_a40b2_row63_col0\" class=\"data row63 col0\" >a Wed Jul 06 10:03:47 EDT 2022</td>\n",
       "      <td id=\"T_a40b2_row63_col1\" class=\"data row63 col1\" >c95c531c-ee07-4f4e-ba6d-ade906d8c806</td>\n",
       "    </tr>\n",
       "    <tr>\n",
       "      <td id=\"T_a40b2_row64_col0\" class=\"data row64 col0\" >1c-Parts Tree Redefinition Thu Jun 16 17:16:42 EDT 2022</td>\n",
       "      <td id=\"T_a40b2_row64_col1\" class=\"data row64 col1\" >cb7a45f4-38fd-4778-be4e-78d64b50c439</td>\n",
       "    </tr>\n",
       "    <tr>\n",
       "      <td id=\"T_a40b2_row65_col0\" class=\"data row65 col0\" >17a-Sequence-Modeling Thu Jun 16 17:26:36 EDT 2022</td>\n",
       "      <td id=\"T_a40b2_row65_col1\" class=\"data row65 col1\" >d50de042-4fb7-4636-8d42-9fbcc46f8223</td>\n",
       "    </tr>\n",
       "    <tr>\n",
       "      <td id=\"T_a40b2_row66_col0\" class=\"data row66 col0\" >10d-Dynamics Analysis Mon Jun 13 13:43:50 EDT 2022</td>\n",
       "      <td id=\"T_a40b2_row66_col1\" class=\"data row66 col1\" >d6e1b859-d7f0-4ab6-bb75-e3b0b88316a8</td>\n",
       "    </tr>\n",
       "    <tr>\n",
       "      <td id=\"T_a40b2_row67_col0\" class=\"data row67 col0\" >10c-Fuel Economy Analysis Thu Jun 16 17:21:43 EDT 2022</td>\n",
       "      <td id=\"T_a40b2_row67_col1\" class=\"data row67 col1\" >d9935057-67ce-46a4-97d1-e8c5b5746461</td>\n",
       "    </tr>\n",
       "    <tr>\n",
       "      <td id=\"T_a40b2_row68_col0\" class=\"data row68 col0\" >13b-Safety and Security Features Element Group-2 Mon Jun 13 13:46:03 EDT 2022</td>\n",
       "      <td id=\"T_a40b2_row68_col1\" class=\"data row68 col1\" >dac6f6e9-108a-43eb-adea-d28e0a117225</td>\n",
       "    </tr>\n",
       "    <tr>\n",
       "      <td id=\"T_a40b2_row69_col0\" class=\"data row69 col0\" >17b-Sequence-Modeling Mon Jun 13 13:48:33 EDT 2022</td>\n",
       "      <td id=\"T_a40b2_row69_col1\" class=\"data row69 col1\" >de4bb80e-deb3-4c5d-a185-7bffdad0ceb2</td>\n",
       "    </tr>\n",
       "    <tr>\n",
       "      <td id=\"T_a40b2_row70_col0\" class=\"data row70 col0\" >a1234 Mon Jul 11 12:09:39 EDT 2022</td>\n",
       "      <td id=\"T_a40b2_row70_col1\" class=\"data row70 col1\" >e0041915-4b2f-4a60-9994-20307dbd4d27</td>\n",
       "    </tr>\n",
       "    <tr>\n",
       "      <td id=\"T_a40b2_row71_col0\" class=\"data row71 col0\" >14a-Language Extensions Mon Jun 13 13:46:32 EDT 2022</td>\n",
       "      <td id=\"T_a40b2_row71_col1\" class=\"data row71 col1\" >e6e8d739-9c01-4e4a-88fb-ffd5297c3979</td>\n",
       "    </tr>\n",
       "    <tr>\n",
       "      <td id=\"T_a40b2_row72_col0\" class=\"data row72 col0\" >14b-Language Extensions Mon Jun 13 13:46:46 EDT 2022</td>\n",
       "      <td id=\"T_a40b2_row72_col1\" class=\"data row72 col1\" >e710e01f-b7ad-40c1-8a33-6159bc72525b</td>\n",
       "    </tr>\n",
       "    <tr>\n",
       "      <td id=\"T_a40b2_row73_col0\" class=\"data row73 col0\" >5-State-based Behavior-1 Thu Jun 16 17:19:02 EDT 2022</td>\n",
       "      <td id=\"T_a40b2_row73_col1\" class=\"data row73 col1\" >e8d8ac69-7de7-4c49-b9ce-d2dabb3272a4</td>\n",
       "    </tr>\n",
       "    <tr>\n",
       "      <td id=\"T_a40b2_row74_col0\" class=\"data row74 col0\" >3a-Function-based Behavior-1 Thu Jun 16 17:17:46 EDT 2022</td>\n",
       "      <td id=\"T_a40b2_row74_col1\" class=\"data row74 col1\" >eb95e9c6-89ce-423c-a8e1-4fb67cd5b003</td>\n",
       "    </tr>\n",
       "    <tr>\n",
       "      <td id=\"T_a40b2_row75_col0\" class=\"data row75 col0\" >15_05-Unification of Expression and Constraint Definition Mon Jun 13 13:47:27 EDT 2022</td>\n",
       "      <td id=\"T_a40b2_row75_col1\" class=\"data row75 col1\" >ec2e1ad3-d98b-46cd-b038-9c41f5098259</td>\n",
       "    </tr>\n",
       "    <tr>\n",
       "      <td id=\"T_a40b2_row76_col0\" class=\"data row76 col0\" >Spacecraft 2022-06-13 13:06:03.158117</td>\n",
       "      <td id=\"T_a40b2_row76_col1\" class=\"data row76 col1\" >efa5427e-d1af-4e8e-abfc-d0638d0b4748</td>\n",
       "    </tr>\n",
       "    <tr>\n",
       "      <td id=\"T_a40b2_row77_col0\" class=\"data row77 col0\" >13b-Safety and Security Features Element Group-1 Thu Jun 16 17:23:58 EDT 2022</td>\n",
       "      <td id=\"T_a40b2_row77_col1\" class=\"data row77 col1\" >f0923bb1-50f7-4c32-8d36-a40d58d40781</td>\n",
       "    </tr>\n",
       "    <tr>\n",
       "      <td id=\"T_a40b2_row78_col0\" class=\"data row78 col0\" >6-Individual and Snapshots Thu Jun 16 17:19:53 EDT 2022</td>\n",
       "      <td id=\"T_a40b2_row78_col1\" class=\"data row78 col1\" >f3ca279c-fff8-45e1-a96e-a84d6cfa651d</td>\n",
       "    </tr>\n",
       "    <tr>\n",
       "      <td id=\"T_a40b2_row79_col0\" class=\"data row79 col0\" >11a-View-Viewpoint Mon Jun 13 13:44:11 EDT 2022</td>\n",
       "      <td id=\"T_a40b2_row79_col1\" class=\"data row79 col1\" >f60589e2-06dd-4bcd-9048-63c6dba67663</td>\n",
       "    </tr>\n",
       "    <tr>\n",
       "      <td id=\"T_a40b2_row80_col0\" class=\"data row80 col0\" >15_05-Unification of Expression and Constraint Definition Thu Jun 16 17:25:43 EDT 2022</td>\n",
       "      <td id=\"T_a40b2_row80_col1\" class=\"data row80 col1\" >f618a491-d542-462e-912c-4b2362c5c228</td>\n",
       "    </tr>\n",
       "    <tr>\n",
       "      <td id=\"T_a40b2_row81_col0\" class=\"data row81 col0\" >3a-Function-based Behavior-2 Thu Jun 16 17:18:06 EDT 2022</td>\n",
       "      <td id=\"T_a40b2_row81_col1\" class=\"data row81 col1\" >f9133184-53dc-4973-8b22-5be148262179</td>\n",
       "    </tr>\n",
       "  </tbody>\n",
       "</table>\n"
      ],
      "text/plain": [
       "<pandas.io.formats.style.Styler at 0x11f746250>"
      ]
     },
     "metadata": {},
     "output_type": "display_data"
    }
   ],
   "source": [
    "projects_url = f\"{host}/projects\" \n",
    "projects_response = requests.get(projects_url)\n",
    "\n",
    "if projects_response.status_code == 200:\n",
    "    projects = projects_response.json()\n",
    "    projects_data = list(map(lambda b: {'Project Name':b['name'], 'Project ID':b['@id']}, projects))\n",
    "    df = pd.DataFrame.from_records(projects_data).style.hide(axis='index')\n",
    "    # if len(projects_data) > 0:\n",
    "    #     df = df.style.sort_values(by='Project Name')\n",
    "    display(df)\n",
    "else:\n",
    "    pprint(\"Problem in fetching projects\")"
   ]
  },
  {
   "cell_type": "markdown",
   "id": "77345839-9d8f-409f-9131-440d1b30cbea",
   "metadata": {},
   "source": [
    "# Create a new project"
   ]
  },
  {
   "cell_type": "code",
   "execution_count": 3,
   "id": "6d2ba2fc-157a-4ac8-b8f3-876bbd3a21ea",
   "metadata": {},
   "outputs": [
    {
     "name": "stdout",
     "output_type": "stream",
     "text": [
      "{'@id': '25616f90-bcb8-46d9-a24c-079f2f99019d',\n",
      " '@type': 'Project',\n",
      " 'defaultBranch': {'@id': 'f146cf01-0523-44f7-bb1a-6fdad0d21851'},\n",
      " 'description': 'Spacecraft project with multiple commits, branches, and tags',\n",
      " 'name': 'Spacecraft project with branches and tags - 2022-07-19 '\n",
      "         '15:34:59.073337'}\n"
     ]
    }
   ],
   "source": [
    "timestamp = datetime.now()\n",
    "project_name = f\"Spacecraft project with branches and tags - {timestamp}\"\n",
    "project_data = {\n",
    "  \"@type\":\"Project\",\n",
    "  \"name\": project_name,\n",
    "  \"description\": \"Spacecraft project with multiple commits, branches, and tags\"\n",
    "}\n",
    "\n",
    "project_post_url = f\"{host}/projects\" \n",
    "\n",
    "project_post_response = requests.post(project_post_url, \n",
    "                                      headers={\"Content-Type\": \"application/json\"}, \n",
    "                                      data=json.dumps(project_data))\n",
    "\n",
    "project_id = \"\"\n",
    "\n",
    "if project_post_response.status_code == 200:\n",
    "    project_response_json = project_post_response.json()\n",
    "    pprint(project_response_json)\n",
    "    project_id = project_response_json['@id']\n",
    "    project_name = project_response_json['name']\n",
    "else:\n",
    "    pprint(f\"Problem in creating a new Spacecraft project at {timestamp}\")\n",
    "    pprint(project_post_response)"
   ]
  },
  {
   "cell_type": "markdown",
   "id": "921efbfd-04a1-4c5c-8e66-b31f0390aa45",
   "metadata": {},
   "source": [
    "# Get branches"
   ]
  },
  {
   "cell_type": "code",
   "execution_count": 4,
   "id": "df3e1039-ba51-4653-8897-e98be111078e",
   "metadata": {},
   "outputs": [
    {
     "data": {
      "text/html": [
       "<style type=\"text/css\">\n",
       "</style>\n",
       "<table id=\"T_f0a59\">\n",
       "  <thead>\n",
       "    <tr>\n",
       "      <th id=\"T_f0a59_level0_col0\" class=\"col_heading level0 col0\" >Branch Name</th>\n",
       "      <th id=\"T_f0a59_level0_col1\" class=\"col_heading level0 col1\" >Branch ID</th>\n",
       "      <th id=\"T_f0a59_level0_col2\" class=\"col_heading level0 col2\" >Ref Commit (head)</th>\n",
       "    </tr>\n",
       "  </thead>\n",
       "  <tbody>\n",
       "    <tr>\n",
       "      <td id=\"T_f0a59_row0_col0\" class=\"data row0 col0\" >main</td>\n",
       "      <td id=\"T_f0a59_row0_col1\" class=\"data row0 col1\" >f146cf01-0523-44f7-bb1a-6fdad0d21851</td>\n",
       "      <td id=\"T_f0a59_row0_col2\" class=\"data row0 col2\" >None</td>\n",
       "    </tr>\n",
       "  </tbody>\n",
       "</table>\n"
      ],
      "text/plain": [
       "<pandas.io.formats.style.Styler at 0x11f738a60>"
      ]
     },
     "metadata": {},
     "output_type": "display_data"
    }
   ],
   "source": [
    "branches_url = f\"{host}/projects/{project_id}/branches\" \n",
    "branches_response = requests.get(branches_url)\n",
    "\n",
    "if branches_response.status_code == 200:\n",
    "    branches = branches_response.json()\n",
    "    branches_data = list(map(lambda b: {'Branch Name':b['name'], 'Branch ID':b['@id'], 'Ref Commit (head)':b['head']}, branches))\n",
    "\n",
    "    df = pd.DataFrame.from_records(branches_data).sort_values(by='Branch Name').style.hide(axis='index')\n",
    "    display(df)\n",
    "else:\n",
    "    pprint(f\"Problem in fetching branches of Spacecraft project {project_id}\")\n",
    "    pprint(branches_response)"
   ]
  },
  {
   "cell_type": "markdown",
   "id": "5f761af7-0b40-4708-8c8e-217c9b2b6e8a",
   "metadata": {},
   "source": [
    "# Get tags"
   ]
  },
  {
   "cell_type": "code",
   "execution_count": 5,
   "id": "65deeb6c-ce34-43c5-ad62-bf145e946f1d",
   "metadata": {},
   "outputs": [
    {
     "name": "stdout",
     "output_type": "stream",
     "text": [
      "[]\n"
     ]
    },
    {
     "data": {
      "text/html": [
       "<style type=\"text/css\">\n",
       "</style>\n",
       "<table id=\"T_46790\">\n",
       "  <thead>\n",
       "  </thead>\n",
       "  <tbody>\n",
       "  </tbody>\n",
       "</table>\n"
      ],
      "text/plain": [
       "<pandas.io.formats.style.Styler at 0x11f738f70>"
      ]
     },
     "metadata": {},
     "output_type": "display_data"
    }
   ],
   "source": [
    "tags_url = f\"{host}/projects/{project_id}/tags\" \n",
    "tags_response = requests.get(tags_url)\n",
    "\n",
    "if tags_response.status_code == 200:\n",
    "    tags = tags_response.json()\n",
    "    pprint(tags)\n",
    "    tags_data = list(map(lambda b: {'Tag Name':b['name'], 'Tag ID':b['@id'], 'Tagged Commit':b['taggedCommit']}, tags))\n",
    "\n",
    "    df = pd.DataFrame.from_records(tags_data).style.hide(axis='index')\n",
    "    display(df)\n",
    "else:\n",
    "    pprint(f\"Problem in fetching tags of Spacecraft project {project_id}\")\n",
    "    pprint(tags_response)"
   ]
  },
  {
   "cell_type": "markdown",
   "id": "569ca8f1-ebf1-41d2-93f3-8795a2439eea",
   "metadata": {},
   "source": [
    "# Create 1st Commit"
   ]
  },
  {
   "cell_type": "code",
   "execution_count": 6,
   "id": "3eed91b9-903b-441f-b1f2-10dbcfafa342",
   "metadata": {},
   "outputs": [
    {
     "name": "stdout",
     "output_type": "stream",
     "text": [
      "{'@id': '022286b4-dcdf-496b-994c-c1d4a2748129',\n",
      " '@type': 'Commit',\n",
      " 'owningProject': {'@id': '25616f90-bcb8-46d9-a24c-079f2f99019d'},\n",
      " 'previousCommit': None,\n",
      " 'timestamp': '2022-07-19T15:35:13.438917-04:00'}\n"
     ]
    }
   ],
   "source": [
    "commit_body = {\n",
    "  \"@type\": \"Commit\",\n",
    "  \"change\": [\n",
    "    {\n",
    "      \"@type\": \"DataVersion\",\n",
    "      \"payload\": {\n",
    "        \"@type\": \"PartDefinition\",\n",
    "        \"name\":\"Spacecraft System\"\n",
    "      }\n",
    "    },\n",
    "    {\n",
    "      \"@type\": \"DataVersion\",\n",
    "      \"payload\": {\n",
    "        \"@type\": \"PartDefinition\",\n",
    "        \"name\":\"Payload System\"\n",
    "      }\n",
    "    },\n",
    "    {\n",
    "      \"@type\": \"DataVersion\",\n",
    "      \"payload\": {\n",
    "        \"@type\": \"PartDefinition\",\n",
    "        \"name\":\"Propulsion System\"\n",
    "      }\n",
    "    }\n",
    "  ]\n",
    "}\n",
    "\n",
    "commit_post_url = f\"{host}/projects/{project_id}/commits\" \n",
    "\n",
    "commit_post_response = requests.post(commit_post_url, \n",
    "                                      headers={\"Content-Type\": \"application/json\"}, \n",
    "                                      data=json.dumps(commit_body))\n",
    "\n",
    "commit1_id = \"\"\n",
    "\n",
    "if commit_post_response.status_code == 200:\n",
    "    commit_response_json = commit_post_response.json()\n",
    "    pprint(commit_response_json)\n",
    "    commit1_id = commit_response_json['@id']\n",
    "else:\n",
    "    pprint(f\"Problem in creating a new commit in Spacecraft project {project_id}\")\n",
    "    pprint(commit_post_response)"
   ]
  },
  {
   "cell_type": "code",
   "execution_count": 7,
   "id": "65537f5c-f521-469e-92e4-9a2568afed05",
   "metadata": {},
   "outputs": [
    {
     "data": {
      "text/html": [
       "<style type=\"text/css\">\n",
       "</style>\n",
       "<table id=\"T_757fe\">\n",
       "  <thead>\n",
       "    <tr>\n",
       "      <th id=\"T_757fe_level0_col0\" class=\"col_heading level0 col0\" >Element Name</th>\n",
       "      <th id=\"T_757fe_level0_col1\" class=\"col_heading level0 col1\" >Element ID</th>\n",
       "    </tr>\n",
       "  </thead>\n",
       "  <tbody>\n",
       "    <tr>\n",
       "      <td id=\"T_757fe_row0_col0\" class=\"data row0 col0\" >Payload System</td>\n",
       "      <td id=\"T_757fe_row0_col1\" class=\"data row0 col1\" >d051e410-9ad2-4101-94ff-a4110e73ec89</td>\n",
       "    </tr>\n",
       "    <tr>\n",
       "      <td id=\"T_757fe_row1_col0\" class=\"data row1 col0\" >Propulsion System</td>\n",
       "      <td id=\"T_757fe_row1_col1\" class=\"data row1 col1\" >957d97ce-41e5-43c1-b772-45cac191565c</td>\n",
       "    </tr>\n",
       "    <tr>\n",
       "      <td id=\"T_757fe_row2_col0\" class=\"data row2 col0\" >Spacecraft System</td>\n",
       "      <td id=\"T_757fe_row2_col1\" class=\"data row2 col1\" >433f4040-ea4c-4ebc-b948-2b45bc8c4a5a</td>\n",
       "    </tr>\n",
       "  </tbody>\n",
       "</table>\n"
      ],
      "text/plain": [
       "<pandas.io.formats.style.Styler at 0x1075d47f0>"
      ]
     },
     "metadata": {},
     "output_type": "display_data"
    }
   ],
   "source": [
    "element_get_url = f\"{host}/projects/{project_id}/commits/{commit1_id}/elements\" \n",
    "\n",
    "element_get_response = requests.get(element_get_url)\n",
    "\n",
    "if element_get_response.status_code == 200:\n",
    "    elements = element_get_response.json()\n",
    "    elements_data = list(map(lambda b: {'Element Name':b['name'], 'Element ID':b['@id']}, elements))\n",
    "    df = pd.DataFrame.from_records(elements_data).sort_values(by='Element Name').style.hide(axis='index')\n",
    "    display(df)\n",
    "else:\n",
    "    pprint(f\"Problem in fetching elements in the Spacecraft project {project_id} at commit {commit1_id}.\")\n",
    "    pprint(element_get_response)"
   ]
  },
  {
   "cell_type": "markdown",
   "id": "8e38b288-6517-4a7b-90e5-ae73c5f89df3",
   "metadata": {},
   "source": [
    "# Create 2nd Commit"
   ]
  },
  {
   "cell_type": "code",
   "execution_count": 8,
   "id": "76d80cb1-40c8-4f24-aeb5-51e509f4e159",
   "metadata": {
    "tags": []
   },
   "outputs": [
    {
     "name": "stdout",
     "output_type": "stream",
     "text": [
      "{'@id': '38643857-0090-4b81-89b7-b3411f117336',\n",
      " '@type': 'Commit',\n",
      " 'owningProject': {'@id': '25616f90-bcb8-46d9-a24c-079f2f99019d'},\n",
      " 'previousCommit': {'@id': '022286b4-dcdf-496b-994c-c1d4a2748129'},\n",
      " 'timestamp': '2022-07-19T15:35:17.309787-04:00'}\n"
     ]
    }
   ],
   "source": [
    "commit_body = {\n",
    "  \"@type\": \"Commit\",\n",
    "  \"change\": [\n",
    "    {\n",
    "      \"@type\": \"DataVersion\",\n",
    "      \"payload\": {\n",
    "        \"@type\": \"PartDefinition\",\n",
    "        \"name\":\"Avionics System\"\n",
    "      }\n",
    "    },\n",
    "    {\n",
    "      \"@type\": \"DataVersion\",\n",
    "      \"payload\": {\n",
    "        \"@type\": \"PartDefinition\",\n",
    "        \"name\":\"Power System\"\n",
    "      }\n",
    "    }\n",
    "  ],\n",
    "  \"previousCommit\": {\n",
    "      \"@id\": commit1_id\n",
    "    }\n",
    "}\n",
    "\n",
    "commit_post_url = f\"{host}/projects/{project_id}/commits\" \n",
    "\n",
    "commit_post_response = requests.post(commit_post_url, \n",
    "                                      headers={\"Content-Type\": \"application/json\"}, \n",
    "                                      data=json.dumps(commit_body))\n",
    "\n",
    "commit2_id = \"\"\n",
    "\n",
    "if commit_post_response.status_code == 200:\n",
    "    commit_response_json = commit_post_response.json()\n",
    "    pprint(commit_response_json)\n",
    "    commit2_id = commit_response_json['@id']\n",
    "else:\n",
    "    pprint(f\"Problem in creating a new commit in Spacecraft project {project_id}\")\n",
    "    pprint(commit_post_response)"
   ]
  },
  {
   "cell_type": "markdown",
   "id": "d815e4fe",
   "metadata": {},
   "source": [
    "# Get all elements after the 2nd commit"
   ]
  },
  {
   "cell_type": "code",
   "execution_count": 9,
   "id": "eac0a387-e4cf-4fc8-8b47-c64ed2ebff62",
   "metadata": {},
   "outputs": [
    {
     "data": {
      "text/html": [
       "<style type=\"text/css\">\n",
       "</style>\n",
       "<table id=\"T_5c56f\">\n",
       "  <thead>\n",
       "    <tr>\n",
       "      <th id=\"T_5c56f_level0_col0\" class=\"col_heading level0 col0\" >Element Name</th>\n",
       "      <th id=\"T_5c56f_level0_col1\" class=\"col_heading level0 col1\" >Element ID</th>\n",
       "    </tr>\n",
       "  </thead>\n",
       "  <tbody>\n",
       "    <tr>\n",
       "      <td id=\"T_5c56f_row0_col0\" class=\"data row0 col0\" >Avionics System</td>\n",
       "      <td id=\"T_5c56f_row0_col1\" class=\"data row0 col1\" >4ff90e5b-2ac9-488c-b2d2-0d017802b121</td>\n",
       "    </tr>\n",
       "    <tr>\n",
       "      <td id=\"T_5c56f_row1_col0\" class=\"data row1 col0\" >Payload System</td>\n",
       "      <td id=\"T_5c56f_row1_col1\" class=\"data row1 col1\" >d051e410-9ad2-4101-94ff-a4110e73ec89</td>\n",
       "    </tr>\n",
       "    <tr>\n",
       "      <td id=\"T_5c56f_row2_col0\" class=\"data row2 col0\" >Power System</td>\n",
       "      <td id=\"T_5c56f_row2_col1\" class=\"data row2 col1\" >256a44f2-4bf8-4ce9-95a5-3a0af661aeb3</td>\n",
       "    </tr>\n",
       "    <tr>\n",
       "      <td id=\"T_5c56f_row3_col0\" class=\"data row3 col0\" >Propulsion System</td>\n",
       "      <td id=\"T_5c56f_row3_col1\" class=\"data row3 col1\" >957d97ce-41e5-43c1-b772-45cac191565c</td>\n",
       "    </tr>\n",
       "    <tr>\n",
       "      <td id=\"T_5c56f_row4_col0\" class=\"data row4 col0\" >Spacecraft System</td>\n",
       "      <td id=\"T_5c56f_row4_col1\" class=\"data row4 col1\" >433f4040-ea4c-4ebc-b948-2b45bc8c4a5a</td>\n",
       "    </tr>\n",
       "  </tbody>\n",
       "</table>\n"
      ],
      "text/plain": [
       "<pandas.io.formats.style.Styler at 0x1075968e0>"
      ]
     },
     "metadata": {},
     "output_type": "display_data"
    }
   ],
   "source": [
    "element_get_url = f\"{host}/projects/{project_id}/commits/{commit2_id}/elements\" \n",
    "\n",
    "element_get_response = requests.get(element_get_url)\n",
    "\n",
    "if element_get_response.status_code == 200:\n",
    "    elements = element_get_response.json()\n",
    "    elements_data = list(map(lambda b: {'Element Name':b['name'], 'Element ID':b['@id']}, elements))\n",
    "    df = pd.DataFrame.from_records(elements_data).sort_values(by='Element Name').style.hide(axis='index')\n",
    "    display(df)\n",
    "else:\n",
    "    pprint(f\"Problem in fetching elements in the Spacecraft project {project_id} at commit {commit2_id}.\")\n",
    "    pprint(element_get_response)"
   ]
  },
  {
   "cell_type": "markdown",
   "id": "4b841d77-eb20-4f3c-bc64-fe08031d01bc",
   "metadata": {},
   "source": [
    "# Create a tag"
   ]
  },
  {
   "cell_type": "code",
   "execution_count": 10,
   "id": "886842cc-c983-424f-9af9-083257a5732c",
   "metadata": {},
   "outputs": [
    {
     "name": "stdout",
     "output_type": "stream",
     "text": [
      "{'@id': '758b401a-d6c9-4e9d-89d9-16a3fee3c049',\n",
      " '@type': 'Tag',\n",
      " 'name': 'Spacecraft Internal Release 0.1',\n",
      " 'owningProject': {'@id': '25616f90-bcb8-46d9-a24c-079f2f99019d'},\n",
      " 'referencedCommit': {'@id': '38643857-0090-4b81-89b7-b3411f117336'},\n",
      " 'taggedCommit': {'@id': '38643857-0090-4b81-89b7-b3411f117336'},\n",
      " 'timestamp': '2022-07-19T15:35:21.841551-04:00'}\n"
     ]
    }
   ],
   "source": [
    "tag_body = {\n",
    "    \"@type\": \"Tag\",\n",
    "    \"name\": \"Spacecraft Internal Release 0.1\",\n",
    "    \"taggedCommit\": {\n",
    "      \"@id\": commit2_id\n",
    "    }\n",
    "}\n",
    "\n",
    "tag_post_url = f\"{host}/projects/{project_id}/tags\" \n",
    "\n",
    "tag_post_response = requests.post(tag_post_url, \n",
    "                                  headers={\"Content-Type\": \"application/json\"}, \n",
    "                                  data=json.dumps(tag_body))\n",
    "\n",
    "tag1_id = \"\"\n",
    "\n",
    "if tag_post_response.status_code == 200:\n",
    "    tag_response_json = tag_post_response.json()\n",
    "    pprint(tag_response_json)\n",
    "    tag1_id = tag_response_json['@id']\n",
    "else:\n",
    "    pprint(f\"Problem in creating a new tag in Spacecraft project {project_id}.\")\n",
    "    pprint(tag_post_response)"
   ]
  },
  {
   "cell_type": "markdown",
   "id": "ec239663-ce0d-4ae6-acd7-5910299dedda",
   "metadata": {},
   "source": [
    "# Get Tags"
   ]
  },
  {
   "cell_type": "code",
   "execution_count": 11,
   "id": "bf1ce47b-079d-429f-b43b-491c3aa156c8",
   "metadata": {},
   "outputs": [
    {
     "data": {
      "text/html": [
       "<style type=\"text/css\">\n",
       "</style>\n",
       "<table id=\"T_ab4f7\">\n",
       "  <thead>\n",
       "    <tr>\n",
       "      <th id=\"T_ab4f7_level0_col0\" class=\"col_heading level0 col0\" >Tag Name</th>\n",
       "      <th id=\"T_ab4f7_level0_col1\" class=\"col_heading level0 col1\" >Tag ID</th>\n",
       "      <th id=\"T_ab4f7_level0_col2\" class=\"col_heading level0 col2\" >Tagged Commit</th>\n",
       "    </tr>\n",
       "  </thead>\n",
       "  <tbody>\n",
       "    <tr>\n",
       "      <td id=\"T_ab4f7_row0_col0\" class=\"data row0 col0\" >Spacecraft Internal Release 0.1</td>\n",
       "      <td id=\"T_ab4f7_row0_col1\" class=\"data row0 col1\" >758b401a-d6c9-4e9d-89d9-16a3fee3c049</td>\n",
       "      <td id=\"T_ab4f7_row0_col2\" class=\"data row0 col2\" >{'@id': '38643857-0090-4b81-89b7-b3411f117336'}</td>\n",
       "    </tr>\n",
       "  </tbody>\n",
       "</table>\n"
      ],
      "text/plain": [
       "<pandas.io.formats.style.Styler at 0x11f9286a0>"
      ]
     },
     "metadata": {},
     "output_type": "display_data"
    }
   ],
   "source": [
    "tags_url = f\"{host}/projects/{project_id}/tags\" \n",
    "tags_response = requests.get(tags_url)\n",
    "\n",
    "if tags_response.status_code == 200:\n",
    "    tags = tags_response.json()\n",
    "    tags_data = list(map(lambda b: {'Tag Name':b['name'], 'Tag ID':b['@id'], 'Tagged Commit':b['taggedCommit']}, tags))\n",
    "\n",
    "    df = pd.DataFrame.from_records(tags_data).style.hide(axis='index')\n",
    "    display(df)\n",
    "else:\n",
    "    pprint(f\"Problem in fetching tags in Spacecraft project {project_id}.\")\n",
    "    pprint(tag_post_response)"
   ]
  },
  {
   "cell_type": "markdown",
   "id": "5a0ec0fa-af50-4944-8401-183f2cb165af",
   "metadata": {},
   "source": [
    "# Create a new branch at the second commit (also tagged as 0.1)"
   ]
  },
  {
   "cell_type": "code",
   "execution_count": 12,
   "id": "cc9620df-e407-4a25-8ae4-bd803d1cde32",
   "metadata": {},
   "outputs": [
    {
     "name": "stdout",
     "output_type": "stream",
     "text": [
      "{'@id': 'cb011176-6e8f-46e0-a314-741edae69f26',\n",
      " '@type': 'Branch',\n",
      " 'head': {'@id': '38643857-0090-4b81-89b7-b3411f117336'},\n",
      " 'name': 'develop',\n",
      " 'owningProject': {'@id': '25616f90-bcb8-46d9-a24c-079f2f99019d'},\n",
      " 'referencedCommit': {'@id': '38643857-0090-4b81-89b7-b3411f117336'},\n",
      " 'timestamp': '2022-07-19T15:35:26.061576-04:00'}\n"
     ]
    }
   ],
   "source": [
    "branch_body = {\n",
    "  \"@type\": \"Branch\",\n",
    "  \"name\": \"develop\",\n",
    "  \"head\": {\n",
    "      \"@id\": commit2_id\n",
    "    }\n",
    "}\n",
    "\n",
    "branch_post_url = f\"{host}/projects/{project_id}/branches\" \n",
    "\n",
    "branch_post_response = requests.post(branch_post_url, \n",
    "                                      headers={\"Content-Type\": \"application/json\"}, \n",
    "                                      data=json.dumps(branch_body))\n",
    "\n",
    "branch_develop_id = \"\"\n",
    "\n",
    "if branch_post_response.status_code == 200:\n",
    "    branch_response_json = branch_post_response.json()\n",
    "    pprint(branch_response_json)\n",
    "    branch_develop_id = branch_response_json['@id']\n",
    "else:\n",
    "    pprint(f\"Problem in creating a new branch in Spacecraft project {project_id}\")\n",
    "    pprint(branch_post_response)"
   ]
  },
  {
   "cell_type": "markdown",
   "id": "19ba5702-85d2-40ec-b01c-de6f112e8bfa",
   "metadata": {
    "tags": []
   },
   "source": [
    "# Get branches"
   ]
  },
  {
   "cell_type": "code",
   "execution_count": 13,
   "id": "61faab74-218a-4bf4-832d-2e3a3d70578d",
   "metadata": {},
   "outputs": [
    {
     "data": {
      "text/html": [
       "<style type=\"text/css\">\n",
       "</style>\n",
       "<table id=\"T_3f875\">\n",
       "  <thead>\n",
       "    <tr>\n",
       "      <th id=\"T_3f875_level0_col0\" class=\"col_heading level0 col0\" >Branch Name</th>\n",
       "      <th id=\"T_3f875_level0_col1\" class=\"col_heading level0 col1\" >Branch ID</th>\n",
       "      <th id=\"T_3f875_level0_col2\" class=\"col_heading level0 col2\" >Ref Commit (head)</th>\n",
       "    </tr>\n",
       "  </thead>\n",
       "  <tbody>\n",
       "    <tr>\n",
       "      <td id=\"T_3f875_row0_col0\" class=\"data row0 col0\" >develop</td>\n",
       "      <td id=\"T_3f875_row0_col1\" class=\"data row0 col1\" >cb011176-6e8f-46e0-a314-741edae69f26</td>\n",
       "      <td id=\"T_3f875_row0_col2\" class=\"data row0 col2\" >{'@id': '38643857-0090-4b81-89b7-b3411f117336'}</td>\n",
       "    </tr>\n",
       "    <tr>\n",
       "      <td id=\"T_3f875_row1_col0\" class=\"data row1 col0\" >main</td>\n",
       "      <td id=\"T_3f875_row1_col1\" class=\"data row1 col1\" >f146cf01-0523-44f7-bb1a-6fdad0d21851</td>\n",
       "      <td id=\"T_3f875_row1_col2\" class=\"data row1 col2\" >{'@id': '38643857-0090-4b81-89b7-b3411f117336'}</td>\n",
       "    </tr>\n",
       "  </tbody>\n",
       "</table>\n"
      ],
      "text/plain": [
       "<pandas.io.formats.style.Styler at 0x11f9084f0>"
      ]
     },
     "metadata": {},
     "output_type": "display_data"
    }
   ],
   "source": [
    "branches_url = f\"{host}/projects/{project_id}/branches\" \n",
    "branches_response = requests.get(branches_url)\n",
    "\n",
    "if branches_response.status_code == 200:\n",
    "    branches = branches_response.json()\n",
    "    branches_data = list(map(lambda b: {'Branch Name':b['name'], 'Branch ID':b['@id'], 'Ref Commit (head)':b['head']}, branches))\n",
    "\n",
    "    df = pd.DataFrame.from_records(branches_data).sort_values(by='Branch Name').style.hide(axis='index')\n",
    "    display(df)\n",
    "else:\n",
    "    pprint(f\"Problem in fetching branches in Spacecraft project {project_id}\")\n",
    "    pprint(branches_response)"
   ]
  },
  {
   "cell_type": "markdown",
   "id": "8dbea034-4180-415f-9604-8e1afb149fdc",
   "metadata": {},
   "source": [
    "# Create a new commit in the develop branch"
   ]
  },
  {
   "cell_type": "code",
   "execution_count": 14,
   "id": "055f42b3-18de-4f94-ae53-43660948493b",
   "metadata": {},
   "outputs": [
    {
     "name": "stdout",
     "output_type": "stream",
     "text": [
      "{'@id': '2705a620-834a-421a-a24b-208344aec910',\n",
      " '@type': 'Commit',\n",
      " 'owningProject': {'@id': '25616f90-bcb8-46d9-a24c-079f2f99019d'},\n",
      " 'previousCommit': {'@id': '38643857-0090-4b81-89b7-b3411f117336'},\n",
      " 'timestamp': '2022-07-19T15:35:29.750462-04:00'}\n"
     ]
    }
   ],
   "source": [
    "commit_body = {\n",
    "  \"@type\": \"Commit\",\n",
    "  \"change\": [\n",
    "    {\n",
    "      \"@type\": \"DataVersion\",\n",
    "      \"payload\": {\n",
    "        \"@type\": \"PartDefinition\",\n",
    "        \"name\":\"GN & C System\"\n",
    "      }\n",
    "    }\n",
    "  ],\n",
    "  \"previousCommit\": {\n",
    "      \"@id\": commit2_id\n",
    "    }\n",
    "}\n",
    "\n",
    "commit_post_url = f\"{host}/projects/{project_id}/commits\" \n",
    "\n",
    "commit_post_response = requests.post(commit_post_url, \n",
    "                                      headers={\"Content-Type\": \"application/json\"}, \n",
    "                                      data=json.dumps(commit_body),\n",
    "                                      params={\"branchId\":branch_develop_id})\n",
    "\n",
    "commit3_id = \"\"\n",
    "\n",
    "if commit_post_response.status_code == 200:\n",
    "    commit_response_json = commit_post_response.json()\n",
    "    pprint(commit_response_json)\n",
    "    commit3_id = commit_response_json['@id']\n",
    "else:\n",
    "    pprint(f\"Problem in creating a new commit in Spacecraft project {project_id}\")\n",
    "    pprint(commit_post_response)"
   ]
  },
  {
   "cell_type": "markdown",
   "id": "e2ba3c85-db23-460d-b6d4-6afbd6461e7d",
   "metadata": {},
   "source": [
    "# Get Branches"
   ]
  },
  {
   "cell_type": "code",
   "execution_count": 15,
   "id": "ead42406-7536-4f47-b0d8-d34a48e9054e",
   "metadata": {},
   "outputs": [
    {
     "data": {
      "text/html": [
       "<style type=\"text/css\">\n",
       "</style>\n",
       "<table id=\"T_2d715\">\n",
       "  <thead>\n",
       "    <tr>\n",
       "      <th id=\"T_2d715_level0_col0\" class=\"col_heading level0 col0\" >Branch Name</th>\n",
       "      <th id=\"T_2d715_level0_col1\" class=\"col_heading level0 col1\" >Branch ID</th>\n",
       "      <th id=\"T_2d715_level0_col2\" class=\"col_heading level0 col2\" >Ref Commit (head)</th>\n",
       "    </tr>\n",
       "  </thead>\n",
       "  <tbody>\n",
       "    <tr>\n",
       "      <td id=\"T_2d715_row0_col0\" class=\"data row0 col0\" >develop</td>\n",
       "      <td id=\"T_2d715_row0_col1\" class=\"data row0 col1\" >cb011176-6e8f-46e0-a314-741edae69f26</td>\n",
       "      <td id=\"T_2d715_row0_col2\" class=\"data row0 col2\" >{'@id': '2705a620-834a-421a-a24b-208344aec910'}</td>\n",
       "    </tr>\n",
       "    <tr>\n",
       "      <td id=\"T_2d715_row1_col0\" class=\"data row1 col0\" >main</td>\n",
       "      <td id=\"T_2d715_row1_col1\" class=\"data row1 col1\" >f146cf01-0523-44f7-bb1a-6fdad0d21851</td>\n",
       "      <td id=\"T_2d715_row1_col2\" class=\"data row1 col2\" >{'@id': '38643857-0090-4b81-89b7-b3411f117336'}</td>\n",
       "    </tr>\n",
       "  </tbody>\n",
       "</table>\n"
      ],
      "text/plain": [
       "<pandas.io.formats.style.Styler at 0x1075968e0>"
      ]
     },
     "metadata": {},
     "output_type": "display_data"
    }
   ],
   "source": [
    "branches_url = f\"{host}/projects/{project_id}/branches\" \n",
    "branches_response = requests.get(branches_url)\n",
    "\n",
    "if branches_response.status_code == 200:\n",
    "    branches = branches_response.json()\n",
    "    branches_data = list(map(lambda b: {'Branch Name':b['name'], 'Branch ID':b['@id'], 'Ref Commit (head)':b['head']}, branches))\n",
    "\n",
    "    df = pd.DataFrame.from_records(branches_data).sort_values(by='Branch Name').style.hide(axis='index')\n",
    "    display(df)\n",
    "else:\n",
    "    pprint(f\"Problem in fetching branches in Spacecraft project {project_id}\")\n",
    "    pprint(commit_post_response)"
   ]
  },
  {
   "cell_type": "markdown",
   "id": "61cdaecd-44db-4e27-85dd-de5d002648cc",
   "metadata": {},
   "source": [
    "# Get all elements as of the latest commit on main branch"
   ]
  },
  {
   "cell_type": "code",
   "execution_count": 16,
   "id": "86008838-368a-4e58-9d5b-70e9c57442f4",
   "metadata": {},
   "outputs": [
    {
     "name": "stdout",
     "output_type": "stream",
     "text": [
      "'Fetching elements at commit 38643857-0090-4b81-89b7-b3411f117336'\n"
     ]
    },
    {
     "data": {
      "text/html": [
       "<style type=\"text/css\">\n",
       "</style>\n",
       "<table id=\"T_5245d\">\n",
       "  <thead>\n",
       "    <tr>\n",
       "      <th id=\"T_5245d_level0_col0\" class=\"col_heading level0 col0\" >Element Name</th>\n",
       "      <th id=\"T_5245d_level0_col1\" class=\"col_heading level0 col1\" >Element ID</th>\n",
       "    </tr>\n",
       "  </thead>\n",
       "  <tbody>\n",
       "    <tr>\n",
       "      <td id=\"T_5245d_row0_col0\" class=\"data row0 col0\" >Avionics System</td>\n",
       "      <td id=\"T_5245d_row0_col1\" class=\"data row0 col1\" >4ff90e5b-2ac9-488c-b2d2-0d017802b121</td>\n",
       "    </tr>\n",
       "    <tr>\n",
       "      <td id=\"T_5245d_row1_col0\" class=\"data row1 col0\" >Payload System</td>\n",
       "      <td id=\"T_5245d_row1_col1\" class=\"data row1 col1\" >d051e410-9ad2-4101-94ff-a4110e73ec89</td>\n",
       "    </tr>\n",
       "    <tr>\n",
       "      <td id=\"T_5245d_row2_col0\" class=\"data row2 col0\" >Power System</td>\n",
       "      <td id=\"T_5245d_row2_col1\" class=\"data row2 col1\" >256a44f2-4bf8-4ce9-95a5-3a0af661aeb3</td>\n",
       "    </tr>\n",
       "    <tr>\n",
       "      <td id=\"T_5245d_row3_col0\" class=\"data row3 col0\" >Propulsion System</td>\n",
       "      <td id=\"T_5245d_row3_col1\" class=\"data row3 col1\" >957d97ce-41e5-43c1-b772-45cac191565c</td>\n",
       "    </tr>\n",
       "    <tr>\n",
       "      <td id=\"T_5245d_row4_col0\" class=\"data row4 col0\" >Spacecraft System</td>\n",
       "      <td id=\"T_5245d_row4_col1\" class=\"data row4 col1\" >433f4040-ea4c-4ebc-b948-2b45bc8c4a5a</td>\n",
       "    </tr>\n",
       "  </tbody>\n",
       "</table>\n"
      ],
      "text/plain": [
       "<pandas.io.formats.style.Styler at 0x108a74f40>"
      ]
     },
     "metadata": {},
     "output_type": "display_data"
    }
   ],
   "source": [
    "pprint(f\"Fetching elements at commit {commit2_id}\")\n",
    "element_get_url = f\"{host}/projects/{project_id}/commits/{commit2_id}/elements\" \n",
    "\n",
    "element_get_response = requests.get(element_get_url)\n",
    "\n",
    "if element_get_response.status_code == 200:\n",
    "    elements = element_get_response.json()\n",
    "    elements_data = list(map(lambda b: {'Element Name':b['name'], 'Element ID':b['@id']}, elements))\n",
    "    df = pd.DataFrame.from_records(elements_data).sort_values(by='Element Name').style.hide(axis='index')\n",
    "    display(df)\n",
    "else:\n",
    "    pprint(f\"Problem in fetching elements in the Spacecraft project {project_id} at commit {commit2_id}\")\n",
    "    pprint(element_get_response)"
   ]
  },
  {
   "cell_type": "markdown",
   "id": "24a94903-9a4e-4f2b-b1bf-be21b7e22e48",
   "metadata": {},
   "source": [
    "# Get all elements as of the latest commit on develop branch"
   ]
  },
  {
   "cell_type": "code",
   "execution_count": 17,
   "id": "60bf125d-5258-4546-99da-3680de66dd1b",
   "metadata": {},
   "outputs": [
    {
     "name": "stdout",
     "output_type": "stream",
     "text": [
      "'Fetching elements at commit 2705a620-834a-421a-a24b-208344aec910'\n"
     ]
    },
    {
     "data": {
      "text/html": [
       "<style type=\"text/css\">\n",
       "</style>\n",
       "<table id=\"T_34299\">\n",
       "  <thead>\n",
       "    <tr>\n",
       "      <th id=\"T_34299_level0_col0\" class=\"col_heading level0 col0\" >Element Name</th>\n",
       "      <th id=\"T_34299_level0_col1\" class=\"col_heading level0 col1\" >Element ID</th>\n",
       "    </tr>\n",
       "  </thead>\n",
       "  <tbody>\n",
       "    <tr>\n",
       "      <td id=\"T_34299_row0_col0\" class=\"data row0 col0\" >Avionics System</td>\n",
       "      <td id=\"T_34299_row0_col1\" class=\"data row0 col1\" >4ff90e5b-2ac9-488c-b2d2-0d017802b121</td>\n",
       "    </tr>\n",
       "    <tr>\n",
       "      <td id=\"T_34299_row1_col0\" class=\"data row1 col0\" >GN & C System</td>\n",
       "      <td id=\"T_34299_row1_col1\" class=\"data row1 col1\" >83fa4826-7df8-4a8f-8227-180be69c79f6</td>\n",
       "    </tr>\n",
       "    <tr>\n",
       "      <td id=\"T_34299_row2_col0\" class=\"data row2 col0\" >Payload System</td>\n",
       "      <td id=\"T_34299_row2_col1\" class=\"data row2 col1\" >d051e410-9ad2-4101-94ff-a4110e73ec89</td>\n",
       "    </tr>\n",
       "    <tr>\n",
       "      <td id=\"T_34299_row3_col0\" class=\"data row3 col0\" >Power System</td>\n",
       "      <td id=\"T_34299_row3_col1\" class=\"data row3 col1\" >256a44f2-4bf8-4ce9-95a5-3a0af661aeb3</td>\n",
       "    </tr>\n",
       "    <tr>\n",
       "      <td id=\"T_34299_row4_col0\" class=\"data row4 col0\" >Propulsion System</td>\n",
       "      <td id=\"T_34299_row4_col1\" class=\"data row4 col1\" >957d97ce-41e5-43c1-b772-45cac191565c</td>\n",
       "    </tr>\n",
       "    <tr>\n",
       "      <td id=\"T_34299_row5_col0\" class=\"data row5 col0\" >Spacecraft System</td>\n",
       "      <td id=\"T_34299_row5_col1\" class=\"data row5 col1\" >433f4040-ea4c-4ebc-b948-2b45bc8c4a5a</td>\n",
       "    </tr>\n",
       "  </tbody>\n",
       "</table>\n"
      ],
      "text/plain": [
       "<pandas.io.formats.style.Styler at 0x11f928e80>"
      ]
     },
     "metadata": {},
     "output_type": "display_data"
    }
   ],
   "source": [
    "pprint(f\"Fetching elements at commit {commit3_id}\")\n",
    "element_get_url = f\"{host}/projects/{project_id}/commits/{commit3_id}/elements\" \n",
    "\n",
    "element_get_response = requests.get(element_get_url)\n",
    "\n",
    "if element_get_response.status_code == 200:\n",
    "    elements = element_get_response.json()\n",
    "    elements_data = list(map(lambda b: {'Element Name':b['name'], 'Element ID':b['@id']}, elements))\n",
    "    df = pd.DataFrame.from_records(elements_data).sort_values(by='Element Name').style.hide(axis='index')\n",
    "    display(df)\n",
    "else:\n",
    "    pprint(f\"Problem in fetching elements in the Spacecraft project {project_id} at commit {commit3_id}\")\n",
    "    pprint(element_get_response)"
   ]
  },
  {
   "cell_type": "markdown",
   "id": "f162ef4e-3e68-4a66-b8fa-2abde70e867d",
   "metadata": {},
   "source": [
    "# Create a tag at the last commit on develop branch"
   ]
  },
  {
   "cell_type": "code",
   "execution_count": 18,
   "id": "b3e26544-b2e4-4370-bb85-9d23aabcc0b5",
   "metadata": {},
   "outputs": [
    {
     "name": "stdout",
     "output_type": "stream",
     "text": [
      "{'@id': '8721d368-432f-4253-a827-46f01a0f906d',\n",
      " '@type': 'Tag',\n",
      " 'name': 'Spacecraft Internal Release 0.2 build 1',\n",
      " 'owningProject': {'@id': '25616f90-bcb8-46d9-a24c-079f2f99019d'},\n",
      " 'referencedCommit': {'@id': '2705a620-834a-421a-a24b-208344aec910'},\n",
      " 'taggedCommit': {'@id': '2705a620-834a-421a-a24b-208344aec910'},\n",
      " 'timestamp': '2022-07-19T15:58:41.175306-04:00'}\n"
     ]
    }
   ],
   "source": [
    "tag_body = {\n",
    "    \"@type\": \"Tag\",\n",
    "    \"name\": \"Spacecraft Internal Release 0.2 build 1\",\n",
    "    \"taggedCommit\": {\n",
    "      \"@id\": commit3_id\n",
    "    }\n",
    "}\n",
    "\n",
    "tag_post_url = f\"{host}/projects/{project_id}/tags\" \n",
    "\n",
    "tag_post_response = requests.post(tag_post_url, \n",
    "                                  headers={\"Content-Type\": \"application/json\"}, \n",
    "                                  data=json.dumps(tag_body))\n",
    "\n",
    "tag1_id = \"\"\n",
    "\n",
    "if tag_post_response.status_code == 200:\n",
    "    tag_response_json = tag_post_response.json()\n",
    "    pprint(tag_response_json)\n",
    "    tag1_id = tag_response_json['@id']\n",
    "else:\n",
    "    pprint(f\"Problem in creating a new tag in Spacecraft project {project_id}.\")\n",
    "    pprint(tag_post_response)"
   ]
  },
  {
   "cell_type": "markdown",
   "id": "20dfd748-3149-4442-a7e8-fbef247377a7",
   "metadata": {},
   "source": [
    "# Get all tags"
   ]
  },
  {
   "cell_type": "code",
   "execution_count": 19,
   "id": "aee7a152-8b4c-476a-8691-4766fc94c240",
   "metadata": {},
   "outputs": [
    {
     "data": {
      "text/html": [
       "<style type=\"text/css\">\n",
       "</style>\n",
       "<table id=\"T_c5aa8\">\n",
       "  <thead>\n",
       "    <tr>\n",
       "      <th id=\"T_c5aa8_level0_col0\" class=\"col_heading level0 col0\" >Tag Name</th>\n",
       "      <th id=\"T_c5aa8_level0_col1\" class=\"col_heading level0 col1\" >Tag ID</th>\n",
       "      <th id=\"T_c5aa8_level0_col2\" class=\"col_heading level0 col2\" >Tagged Commit</th>\n",
       "    </tr>\n",
       "  </thead>\n",
       "  <tbody>\n",
       "    <tr>\n",
       "      <td id=\"T_c5aa8_row0_col0\" class=\"data row0 col0\" >Spacecraft Internal Release 0.1</td>\n",
       "      <td id=\"T_c5aa8_row0_col1\" class=\"data row0 col1\" >758b401a-d6c9-4e9d-89d9-16a3fee3c049</td>\n",
       "      <td id=\"T_c5aa8_row0_col2\" class=\"data row0 col2\" >{'@id': '38643857-0090-4b81-89b7-b3411f117336'}</td>\n",
       "    </tr>\n",
       "    <tr>\n",
       "      <td id=\"T_c5aa8_row1_col0\" class=\"data row1 col0\" >Spacecraft Internal Release 0.2 build 1</td>\n",
       "      <td id=\"T_c5aa8_row1_col1\" class=\"data row1 col1\" >8721d368-432f-4253-a827-46f01a0f906d</td>\n",
       "      <td id=\"T_c5aa8_row1_col2\" class=\"data row1 col2\" >{'@id': '2705a620-834a-421a-a24b-208344aec910'}</td>\n",
       "    </tr>\n",
       "  </tbody>\n",
       "</table>\n"
      ],
      "text/plain": [
       "<pandas.io.formats.style.Styler at 0x1075bed00>"
      ]
     },
     "metadata": {},
     "output_type": "display_data"
    }
   ],
   "source": [
    "tags_url = f\"{host}/projects/{project_id}/tags\" \n",
    "tags_response = requests.get(tags_url)\n",
    "\n",
    "if tags_response.status_code == 200:\n",
    "    tags = tags_response.json()\n",
    "    tags_data = list(map(lambda b: {'Tag Name':b['name'], 'Tag ID':b['@id'], 'Tagged Commit':b['taggedCommit']}, tags))\n",
    "\n",
    "    df = pd.DataFrame.from_records(tags_data).style.hide(axis='index')\n",
    "    display(df)\n",
    "else:\n",
    "    pprint(f\"Problem in fetching tags in Spacecraft project {project_id}.\")\n",
    "    pprint(tag_post_response)"
   ]
  },
  {
   "cell_type": "code",
   "execution_count": null,
   "id": "6bdbb8ac-22dc-41f7-bd05-3dc857ac6c3c",
   "metadata": {},
   "outputs": [],
   "source": []
  }
 ],
 "metadata": {
  "kernelspec": {
   "display_name": "Python 3 (ipykernel)",
   "language": "python",
   "name": "python3"
  },
  "language_info": {
   "codemirror_mode": {
    "name": "ipython",
    "version": 3
   },
   "file_extension": ".py",
   "mimetype": "text/x-python",
   "name": "python",
   "nbconvert_exporter": "python",
   "pygments_lexer": "ipython3",
   "version": "3.8.13"
  }
 },
 "nbformat": 4,
 "nbformat_minor": 5
}
