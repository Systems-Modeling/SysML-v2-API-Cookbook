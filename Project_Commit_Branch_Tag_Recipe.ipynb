{
 "cells": [
  {
   "cell_type": "markdown",
   "id": "3ee4834f",
   "metadata": {},
   "source": [
    "# Initializing the SysML v2 API"
   ]
  },
  {
   "cell_type": "code",
   "execution_count": 1,
   "id": "6b5fef59",
   "metadata": {},
   "outputs": [],
   "source": [
    "from __future__ import print_function\n",
    "\n",
    "import time\n",
    "import requests\n",
    "from pprint import pprint\n",
    "import pandas as pd\n",
    "import json\n",
    "from datetime import datetime\n",
    "\n",
    "host = \"<specify protocol://host:port of the server that is a provider of the SysML v2 REST/HTTP API\""
   ]
  },
  {
   "cell_type": "markdown",
   "id": "04c1ff93",
   "metadata": {},
   "source": [
    "# Get projects"
   ]
  },
  {
   "cell_type": "code",
   "execution_count": 2,
   "id": "78788ed9",
   "metadata": {},
   "outputs": [
    {
     "data": {
      "text/html": [
       "<style type=\"text/css\">\n",
       "</style>\n",
       "<table id=\"T_b5a39\">\n",
       "  <thead>\n",
       "    <tr>\n",
       "      <th id=\"T_b5a39_level0_col0\" class=\"col_heading level0 col0\" >Project Name</th>\n",
       "      <th id=\"T_b5a39_level0_col1\" class=\"col_heading level0 col1\" >Project ID</th>\n",
       "    </tr>\n",
       "  </thead>\n",
       "  <tbody>\n",
       "    <tr>\n",
       "      <td id=\"T_b5a39_row0_col0\" class=\"data row0 col0\" >10b-Trade-off Among Alternative Configurations Tue May 17 15:07:31 EDT 2022</td>\n",
       "      <td id=\"T_b5a39_row0_col1\" class=\"data row0 col1\" >862bf932-940e-4707-af0a-6dfda5e0e24e</td>\n",
       "    </tr>\n",
       "    <tr>\n",
       "      <td id=\"T_b5a39_row1_col0\" class=\"data row1 col0\" >10c-Fuel Economy Analysis Tue May 17 15:07:51 EDT 2022</td>\n",
       "      <td id=\"T_b5a39_row1_col1\" class=\"data row1 col1\" >afe315eb-87f7-4ae1-8e64-2305d4e2d725</td>\n",
       "    </tr>\n",
       "    <tr>\n",
       "      <td id=\"T_b5a39_row2_col0\" class=\"data row2 col0\" >10d-Dynamics Analysis Tue May 17 15:08:17 EDT 2022</td>\n",
       "      <td id=\"T_b5a39_row2_col1\" class=\"data row2 col1\" >0b42e175-272e-481d-aaea-d14fbf1b8e03</td>\n",
       "    </tr>\n",
       "    <tr>\n",
       "      <td id=\"T_b5a39_row3_col0\" class=\"data row3 col0\" >11a-View-Viewpoint Tue May 17 15:08:41 EDT 2022</td>\n",
       "      <td id=\"T_b5a39_row3_col1\" class=\"data row3 col1\" >c22c4769-979e-4590-a4e5-a505884ca136</td>\n",
       "    </tr>\n",
       "    <tr>\n",
       "      <td id=\"T_b5a39_row4_col0\" class=\"data row4 col0\" >11b-Safety and Security Feature Views Tue May 17 15:08:59 EDT 2022</td>\n",
       "      <td id=\"T_b5a39_row4_col1\" class=\"data row4 col1\" >05e04320-f883-46a7-8e86-e9b27dd38bbf</td>\n",
       "    </tr>\n",
       "    <tr>\n",
       "      <td id=\"T_b5a39_row5_col0\" class=\"data row5 col0\" >12a-Dependency Tue May 17 15:09:17 EDT 2022</td>\n",
       "      <td id=\"T_b5a39_row5_col1\" class=\"data row5 col1\" >18d6e46e-0fab-4bb8-9c34-5cca040b4317</td>\n",
       "    </tr>\n",
       "    <tr>\n",
       "      <td id=\"T_b5a39_row6_col0\" class=\"data row6 col0\" >12b-Allocation Tue May 17 15:09:29 EDT 2022</td>\n",
       "      <td id=\"T_b5a39_row6_col1\" class=\"data row6 col1\" >a60d254b-322d-46ad-9dce-cda7b63b3f66</td>\n",
       "    </tr>\n",
       "    <tr>\n",
       "      <td id=\"T_b5a39_row7_col0\" class=\"data row7 col0\" >13a-Model Containment Tue May 17 15:09:42 EDT 2022</td>\n",
       "      <td id=\"T_b5a39_row7_col1\" class=\"data row7 col1\" >3ed5fa65-3098-4d0f-a061-fb986e3fc204</td>\n",
       "    </tr>\n",
       "    <tr>\n",
       "      <td id=\"T_b5a39_row8_col0\" class=\"data row8 col0\" >13b-Safety and Security Features Element Group Tue May 17 15:09:55 EDT 2022</td>\n",
       "      <td id=\"T_b5a39_row8_col1\" class=\"data row8 col1\" >0ad176f2-ded0-4802-a41f-acf44fd63202</td>\n",
       "    </tr>\n",
       "    <tr>\n",
       "      <td id=\"T_b5a39_row9_col0\" class=\"data row9 col0\" >13b-Safety and Security Features Element Group-1 Tue May 17 15:10:08 EDT 2022</td>\n",
       "      <td id=\"T_b5a39_row9_col1\" class=\"data row9 col1\" >20291d54-1092-4dba-9769-a9282f70371c</td>\n",
       "    </tr>\n",
       "    <tr>\n",
       "      <td id=\"T_b5a39_row10_col0\" class=\"data row10 col0\" >13b-Safety and Security Features Element Group-2 Tue May 17 15:10:30 EDT 2022</td>\n",
       "      <td id=\"T_b5a39_row10_col1\" class=\"data row10 col1\" >ecce7efa-fc62-4f7e-85ac-58647e488a09</td>\n",
       "    </tr>\n",
       "    <tr>\n",
       "      <td id=\"T_b5a39_row11_col0\" class=\"data row11 col0\" >14a-Language Extensions Tue May 17 15:10:57 EDT 2022</td>\n",
       "      <td id=\"T_b5a39_row11_col1\" class=\"data row11 col1\" >a22abf6d-a659-4c61-b8e2-55581250df83</td>\n",
       "    </tr>\n",
       "    <tr>\n",
       "      <td id=\"T_b5a39_row12_col0\" class=\"data row12 col0\" >14b-Language Extensions Tue May 17 15:11:10 EDT 2022</td>\n",
       "      <td id=\"T_b5a39_row12_col1\" class=\"data row12 col1\" >703e0d2f-6c1b-4ae2-ae90-93125b5f03a7</td>\n",
       "    </tr>\n",
       "    <tr>\n",
       "      <td id=\"T_b5a39_row13_col0\" class=\"data row13 col0\" >14c-Language Extensions Tue May 17 15:11:24 EDT 2022</td>\n",
       "      <td id=\"T_b5a39_row13_col1\" class=\"data row13 col1\" >dcaa3319-1453-4677-9112-fbc8e34c969c</td>\n",
       "    </tr>\n",
       "    <tr>\n",
       "      <td id=\"T_b5a39_row14_col0\" class=\"data row14 col0\" >14c-Language-Extensions Tue May 17 15:21:01 EDT 2022</td>\n",
       "      <td id=\"T_b5a39_row14_col1\" class=\"data row14 col1\" >64aee99d-b5bb-49f0-bf01-2cf9287998ed</td>\n",
       "    </tr>\n",
       "    <tr>\n",
       "      <td id=\"T_b5a39_row15_col0\" class=\"data row15 col0\" >15_05-Unification of Expression and Constraint Definition Tue May 17 15:11:54 EDT 2022</td>\n",
       "      <td id=\"T_b5a39_row15_col1\" class=\"data row15 col1\" >5651ebdc-1ec9-41fc-8604-5ee6536bdfb8</td>\n",
       "    </tr>\n",
       "    <tr>\n",
       "      <td id=\"T_b5a39_row16_col0\" class=\"data row16 col0\" >15_10-Primitive Data Types Tue May 17 15:12:13 EDT 2022</td>\n",
       "      <td id=\"T_b5a39_row16_col1\" class=\"data row16 col1\" >d176635d-885d-4133-97bd-b13e176ece40</td>\n",
       "    </tr>\n",
       "    <tr>\n",
       "      <td id=\"T_b5a39_row17_col0\" class=\"data row17 col0\" >15_19-Materials with Properties Tue May 17 15:12:29 EDT 2022</td>\n",
       "      <td id=\"T_b5a39_row17_col1\" class=\"data row17 col1\" >96aad4d0-be3d-4b27-aea9-86a929874683</td>\n",
       "    </tr>\n",
       "    <tr>\n",
       "      <td id=\"T_b5a39_row18_col0\" class=\"data row18 col0\" >17a-Sequence-Modeling Tue May 17 15:12:50 EDT 2022</td>\n",
       "      <td id=\"T_b5a39_row18_col1\" class=\"data row18 col1\" >cb1fe451-28ac-49f7-aa97-26adc23f260a</td>\n",
       "    </tr>\n",
       "    <tr>\n",
       "      <td id=\"T_b5a39_row19_col0\" class=\"data row19 col0\" >17b-Sequence-Modeling Tue May 17 15:13:05 EDT 2022</td>\n",
       "      <td id=\"T_b5a39_row19_col1\" class=\"data row19 col1\" >658dfe11-8ada-4bd2-906e-4cc634df51fe</td>\n",
       "    </tr>\n",
       "    <tr>\n",
       "      <td id=\"T_b5a39_row20_col0\" class=\"data row20 col0\" >18-Use Case Tue May 17 15:13:19 EDT 2022</td>\n",
       "      <td id=\"T_b5a39_row20_col1\" class=\"data row20 col1\" >3f1c0c11-cf92-44d6-a585-12171fc55f04</td>\n",
       "    </tr>\n",
       "    <tr>\n",
       "      <td id=\"T_b5a39_row21_col0\" class=\"data row21 col0\" >1c-Parts Tree Redefinition Tue May 17 15:02:36 EDT 2022</td>\n",
       "      <td id=\"T_b5a39_row21_col1\" class=\"data row21 col1\" >1497a33b-242c-4dce-868d-8a4139fd36d8</td>\n",
       "    </tr>\n",
       "    <tr>\n",
       "      <td id=\"T_b5a39_row22_col0\" class=\"data row22 col0\" >2a-Parts Interconnection Tue May 17 15:03:09 EDT 2022</td>\n",
       "      <td id=\"T_b5a39_row22_col1\" class=\"data row22 col1\" >d57bb6a1-4f1e-41c5-a855-5f6c68ff1849</td>\n",
       "    </tr>\n",
       "    <tr>\n",
       "      <td id=\"T_b5a39_row23_col0\" class=\"data row23 col0\" >3a-Function-based Behavior-1 Tue May 17 15:03:40 EDT 2022</td>\n",
       "      <td id=\"T_b5a39_row23_col1\" class=\"data row23 col1\" >69321b99-47e6-4754-94c6-284c0c29f362</td>\n",
       "    </tr>\n",
       "    <tr>\n",
       "      <td id=\"T_b5a39_row24_col0\" class=\"data row24 col0\" >3a-Function-based Behavior-2 Tue May 17 15:04:02 EDT 2022</td>\n",
       "      <td id=\"T_b5a39_row24_col1\" class=\"data row24 col1\" >5bb84a66-03a5-496d-ac95-b676dd0d8ec6</td>\n",
       "    </tr>\n",
       "    <tr>\n",
       "      <td id=\"T_b5a39_row25_col0\" class=\"data row25 col0\" >3a-Function-based Behavior-5 Tue May 17 15:04:22 EDT 2022</td>\n",
       "      <td id=\"T_b5a39_row25_col1\" class=\"data row25 col1\" >d834035b-a295-459d-a1fc-9a39ce131aea</td>\n",
       "    </tr>\n",
       "    <tr>\n",
       "      <td id=\"T_b5a39_row26_col0\" class=\"data row26 col0\" >4a-Functional Allocation Tue May 17 15:04:39 EDT 2022</td>\n",
       "      <td id=\"T_b5a39_row26_col1\" class=\"data row26 col1\" >ea0dadaa-3ddf-4950-a539-fdaba18b6e73</td>\n",
       "    </tr>\n",
       "    <tr>\n",
       "      <td id=\"T_b5a39_row27_col0\" class=\"data row27 col0\" >5-State-based Behavior-1 Tue May 17 15:05:03 EDT 2022</td>\n",
       "      <td id=\"T_b5a39_row27_col1\" class=\"data row27 col1\" >c0348390-1c87-4c70-b7e2-7d8282dfaf87</td>\n",
       "    </tr>\n",
       "    <tr>\n",
       "      <td id=\"T_b5a39_row28_col0\" class=\"data row28 col0\" >5-State-based Behavior-1a Tue May 17 15:05:31 EDT 2022</td>\n",
       "      <td id=\"T_b5a39_row28_col1\" class=\"data row28 col1\" >e41f3050-4b2f-4219-b5bc-8be77594e62f</td>\n",
       "    </tr>\n",
       "    <tr>\n",
       "      <td id=\"T_b5a39_row29_col0\" class=\"data row29 col0\" >6-Individual and Snapshots Tue May 17 15:05:58 EDT 2022</td>\n",
       "      <td id=\"T_b5a39_row29_col1\" class=\"data row29 col1\" >bf1b55da-bb52-42a2-860f-94bc9c8ecfaa</td>\n",
       "    </tr>\n",
       "    <tr>\n",
       "      <td id=\"T_b5a39_row30_col0\" class=\"data row30 col0\" >7b-Variant Configurations Tue May 17 15:06:19 EDT 2022</td>\n",
       "      <td id=\"T_b5a39_row30_col1\" class=\"data row30 col1\" >ce53e21c-294e-417e-b539-85b802b1ca3b</td>\n",
       "    </tr>\n",
       "    <tr>\n",
       "      <td id=\"T_b5a39_row31_col0\" class=\"data row31 col0\" >8-Requirements Tue May 17 15:06:44 EDT 2022</td>\n",
       "      <td id=\"T_b5a39_row31_col1\" class=\"data row31 col1\" >2444bd2e-a76f-46ff-9cff-e17b11276772</td>\n",
       "    </tr>\n",
       "    <tr>\n",
       "      <td id=\"T_b5a39_row32_col0\" class=\"data row32 col0\" >9-Verification-simplified Tue May 17 15:07:10 EDT 2022</td>\n",
       "      <td id=\"T_b5a39_row32_col1\" class=\"data row32 col1\" >9c8c29d7-4f22-44e3-9ac4-b388980e16ae</td>\n",
       "    </tr>\n",
       "    <tr>\n",
       "      <td id=\"T_b5a39_row33_col0\" class=\"data row33 col0\" >Interface Example Wed May 25 09:24:40 EEST 2022</td>\n",
       "      <td id=\"T_b5a39_row33_col1\" class=\"data row33 col1\" >bba806d5-8767-4ef2-a22c-9ca079ded04a</td>\n",
       "    </tr>\n",
       "    <tr>\n",
       "      <td id=\"T_b5a39_row34_col0\" class=\"data row34 col0\" >ShapeItems Thu May 26 11:55:20 EDT 2022</td>\n",
       "      <td id=\"T_b5a39_row34_col1\" class=\"data row34 col1\" >ab6e0cfe-07bb-4da9-8dc5-694449df7f7d</td>\n",
       "    </tr>\n",
       "    <tr>\n",
       "      <td id=\"T_b5a39_row35_col0\" class=\"data row35 col0\" >ShapeItems Thu May 26 11:58:17 EDT 2022</td>\n",
       "      <td id=\"T_b5a39_row35_col1\" class=\"data row35 col1\" >527d4536-f596-490a-8a4d-c989ddafb7af</td>\n",
       "    </tr>\n",
       "    <tr>\n",
       "      <td id=\"T_b5a39_row36_col0\" class=\"data row36 col0\" >Spacecraft 2022-06-06</td>\n",
       "      <td id=\"T_b5a39_row36_col1\" class=\"data row36 col1\" >7c28ff07-74f4-4c2a-83c8-534edd4f44a1</td>\n",
       "    </tr>\n",
       "    <tr>\n",
       "      <td id=\"T_b5a39_row37_col0\" class=\"data row37 col0\" >Spacecraft 2022-06-06</td>\n",
       "      <td id=\"T_b5a39_row37_col1\" class=\"data row37 col1\" >5287189d-3aff-4834-bedd-d44abe11e603</td>\n",
       "    </tr>\n",
       "    <tr>\n",
       "      <td id=\"T_b5a39_row38_col0\" class=\"data row38 col0\" >Spacecraft 2022-06-06</td>\n",
       "      <td id=\"T_b5a39_row38_col1\" class=\"data row38 col1\" >3311dc42-74e8-40b4-bc71-3a40a0e60f15</td>\n",
       "    </tr>\n",
       "    <tr>\n",
       "      <td id=\"T_b5a39_row39_col0\" class=\"data row39 col0\" >Spacecraft 2022-06-06</td>\n",
       "      <td id=\"T_b5a39_row39_col1\" class=\"data row39 col1\" >0aa33412-cd1b-4209-80f4-2af680319a0a</td>\n",
       "    </tr>\n",
       "    <tr>\n",
       "      <td id=\"T_b5a39_row40_col0\" class=\"data row40 col0\" >Spacecraft 2022-06-06 22:38:57.871457</td>\n",
       "      <td id=\"T_b5a39_row40_col1\" class=\"data row40 col1\" >03a7384a-ac2f-476b-8de1-3d13a9abe0ef</td>\n",
       "    </tr>\n",
       "    <tr>\n",
       "      <td id=\"T_b5a39_row41_col0\" class=\"data row41 col0\" >Spacecraft 2022-06-06 22:39:57.539779</td>\n",
       "      <td id=\"T_b5a39_row41_col1\" class=\"data row41 col1\" >80c9ae8d-d6e7-4c67-8509-c0aed27cb24b</td>\n",
       "    </tr>\n",
       "    <tr>\n",
       "      <td id=\"T_b5a39_row42_col0\" class=\"data row42 col0\" >Spacecraft 2022-06-07 07:55:09.721900</td>\n",
       "      <td id=\"T_b5a39_row42_col1\" class=\"data row42 col1\" >a16dd267-3c1e-463d-aecd-d46893c81a03</td>\n",
       "    </tr>\n",
       "    <tr>\n",
       "      <td id=\"T_b5a39_row43_col0\" class=\"data row43 col0\" >Spacecraft 2022-06-07 10:29:23.535360</td>\n",
       "      <td id=\"T_b5a39_row43_col1\" class=\"data row43 col1\" >d32d424c-132d-4fa2-b4ad-a9781cfc13bf</td>\n",
       "    </tr>\n",
       "    <tr>\n",
       "      <td id=\"T_b5a39_row44_col0\" class=\"data row44 col0\" >Spacecraft 2022-06-07 10:48:51.677426</td>\n",
       "      <td id=\"T_b5a39_row44_col1\" class=\"data row44 col1\" >3bc928fc-17bc-4c56-9ff0-9237d5104566</td>\n",
       "    </tr>\n",
       "    <tr>\n",
       "      <td id=\"T_b5a39_row45_col0\" class=\"data row45 col0\" >Spacecraft 2022-06-07 11:20:35.222068</td>\n",
       "      <td id=\"T_b5a39_row45_col1\" class=\"data row45 col1\" >0c6e2540-d8e6-4cf3-913f-18f35c3c43fe</td>\n",
       "    </tr>\n",
       "    <tr>\n",
       "      <td id=\"T_b5a39_row46_col0\" class=\"data row46 col0\" >Spacecraft Test</td>\n",
       "      <td id=\"T_b5a39_row46_col1\" class=\"data row46 col1\" >1f231825-2b29-4d2d-beec-cbc1c3f802c2</td>\n",
       "    </tr>\n",
       "    <tr>\n",
       "      <td id=\"T_b5a39_row47_col0\" class=\"data row47 col0\" >Spacecraft Test 2</td>\n",
       "      <td id=\"T_b5a39_row47_col1\" class=\"data row47 col1\" >9ec3d0c9-b699-4db2-afd5-e0f6cf299d60</td>\n",
       "    </tr>\n",
       "  </tbody>\n",
       "</table>\n"
      ],
      "text/plain": [
       "<pandas.io.formats.style.Styler at 0x111964520>"
      ]
     },
     "metadata": {},
     "output_type": "display_data"
    }
   ],
   "source": [
    "projects_url = f\"{host}/projects\" \n",
    "projects_response = requests.get(projects_url)\n",
    "\n",
    "if projects_response.status_code == 200:\n",
    "    projects = projects_response.json()\n",
    "    projects_data = list(map(lambda b: {'Project Name':b['name'], 'Project ID':b['@id']}, projects))\n",
    "    df = pd.DataFrame.from_records(projects_data).sort_values(by='Project Name').style.hide(axis='index')\n",
    "    display(df)\n",
    "else:\n",
    "    pprint(\"Problem in fetching projects\")"
   ]
  },
  {
   "cell_type": "markdown",
   "id": "77345839-9d8f-409f-9131-440d1b30cbea",
   "metadata": {},
   "source": [
    "# Create a new project"
   ]
  },
  {
   "cell_type": "code",
   "execution_count": 3,
   "id": "6d2ba2fc-157a-4ac8-b8f3-876bbd3a21ea",
   "metadata": {},
   "outputs": [
    {
     "name": "stdout",
     "output_type": "stream",
     "text": [
      "{'@id': '25021e68-5a8a-426e-a43f-e8b15610519c',\n",
      " '@type': 'Project',\n",
      " 'defaultBranch': {'@id': '813b2e97-82b5-4930-8100-0881d5658a17'},\n",
      " 'description': 'Spacecraft project with data',\n",
      " 'name': 'Spacecraft 2022-06-07 11:54:09.837268'}\n"
     ]
    }
   ],
   "source": [
    "timestamp = datetime.now()\n",
    "project_name = f\"Spacecraft {timestamp}\"\n",
    "project_data = {\n",
    "  \"@type\":\"Project\",\n",
    "  \"name\": project_name,\n",
    "  \"description\": \"Spacecraft project with data\"\n",
    "}\n",
    "\n",
    "project_post_url = f\"{host}/projects\" \n",
    "\n",
    "project_post_response = requests.post(project_post_url, \n",
    "                                      headers={\"Content-Type\": \"application/json\"}, \n",
    "                                      data=json.dumps(project_data))\n",
    "\n",
    "project_id = \"\"\n",
    "\n",
    "if project_post_response.status_code == 200:\n",
    "    project_response_json = project_post_response.json()\n",
    "    pprint(project_response_json)\n",
    "    project_id = project_response_json['@id']\n",
    "    project_name = project_response_json['name']\n",
    "else:\n",
    "    pprint(f\"Problem in creating a new Spacecraft project at {timestamp}\")\n",
    "    pprint(project_post_response)"
   ]
  },
  {
   "cell_type": "markdown",
   "id": "921efbfd-04a1-4c5c-8e66-b31f0390aa45",
   "metadata": {},
   "source": [
    "# Get branches"
   ]
  },
  {
   "cell_type": "code",
   "execution_count": 4,
   "id": "df3e1039-ba51-4653-8897-e98be111078e",
   "metadata": {},
   "outputs": [
    {
     "data": {
      "text/html": [
       "<style type=\"text/css\">\n",
       "</style>\n",
       "<table id=\"T_5ca1f\">\n",
       "  <thead>\n",
       "    <tr>\n",
       "      <th id=\"T_5ca1f_level0_col0\" class=\"col_heading level0 col0\" >Branch Name</th>\n",
       "      <th id=\"T_5ca1f_level0_col1\" class=\"col_heading level0 col1\" >Branch ID</th>\n",
       "      <th id=\"T_5ca1f_level0_col2\" class=\"col_heading level0 col2\" >Ref Commit (head)</th>\n",
       "    </tr>\n",
       "  </thead>\n",
       "  <tbody>\n",
       "    <tr>\n",
       "      <td id=\"T_5ca1f_row0_col0\" class=\"data row0 col0\" >main</td>\n",
       "      <td id=\"T_5ca1f_row0_col1\" class=\"data row0 col1\" >813b2e97-82b5-4930-8100-0881d5658a17</td>\n",
       "      <td id=\"T_5ca1f_row0_col2\" class=\"data row0 col2\" >None</td>\n",
       "    </tr>\n",
       "  </tbody>\n",
       "</table>\n"
      ],
      "text/plain": [
       "<pandas.io.formats.style.Styler at 0x1323614f0>"
      ]
     },
     "metadata": {},
     "output_type": "display_data"
    }
   ],
   "source": [
    "branches_url = f\"{host}/projects/{project_id}/branches\" \n",
    "branches_response = requests.get(branches_url)\n",
    "\n",
    "if branches_response.status_code == 200:\n",
    "    branches = branches_response.json()\n",
    "    branches_data = list(map(lambda b: {'Branch Name':b['name'], 'Branch ID':b['@id'], 'Ref Commit (head)':b['head']}, branches))\n",
    "\n",
    "    df = pd.DataFrame.from_records(branches_data).sort_values(by='Branch Name').style.hide(axis='index')\n",
    "    display(df)\n",
    "else:\n",
    "    pprint(f\"Problem in fetching branches of Spacecraft project {project_id}\")\n",
    "    pprint(branches_response)"
   ]
  },
  {
   "cell_type": "markdown",
   "id": "5f761af7-0b40-4708-8c8e-217c9b2b6e8a",
   "metadata": {},
   "source": [
    "# Get tags"
   ]
  },
  {
   "cell_type": "code",
   "execution_count": 5,
   "id": "65deeb6c-ce34-43c5-ad62-bf145e946f1d",
   "metadata": {},
   "outputs": [
    {
     "name": "stdout",
     "output_type": "stream",
     "text": [
      "[]\n"
     ]
    },
    {
     "data": {
      "text/html": [
       "<style type=\"text/css\">\n",
       "</style>\n",
       "<table id=\"T_6a71b\">\n",
       "  <thead>\n",
       "  </thead>\n",
       "  <tbody>\n",
       "  </tbody>\n",
       "</table>\n"
      ],
      "text/plain": [
       "<pandas.io.formats.style.Styler at 0x13234aeb0>"
      ]
     },
     "metadata": {},
     "output_type": "display_data"
    }
   ],
   "source": [
    "tags_url = f\"{host}/projects/{project_id}/tags\" \n",
    "tags_response = requests.get(tags_url)\n",
    "\n",
    "if tags_response.status_code == 200:\n",
    "    tags = tags_response.json()\n",
    "    pprint(tags)\n",
    "    tags_data = list(map(lambda b: {'Tag Name':b['name'], 'Tag ID':b['@id'], 'Tagged Commit':b['taggedCommit']}, tags))\n",
    "\n",
    "    df = pd.DataFrame.from_records(tags_data).style.hide(axis='index')\n",
    "    display(df)\n",
    "else:\n",
    "    pprint(f\"Problem in fetching tags of Spacecraft project {project_id}\")\n",
    "    pprint(tags_response)"
   ]
  },
  {
   "cell_type": "markdown",
   "id": "569ca8f1-ebf1-41d2-93f3-8795a2439eea",
   "metadata": {},
   "source": [
    "# Create 1st Commit"
   ]
  },
  {
   "cell_type": "code",
   "execution_count": 6,
   "id": "3eed91b9-903b-441f-b1f2-10dbcfafa342",
   "metadata": {},
   "outputs": [
    {
     "name": "stdout",
     "output_type": "stream",
     "text": [
      "{'@id': '1da6d589-8232-47c5-8e5b-d8c1ced0961d',\n",
      " '@type': 'Commit',\n",
      " 'owningProject': {'@id': '25021e68-5a8a-426e-a43f-e8b15610519c'},\n",
      " 'previousCommit': None,\n",
      " 'timestamp': '2022-06-07T11:54:16.923686-04:00'}\n"
     ]
    }
   ],
   "source": [
    "commit_body = {\n",
    "  \"@type\": \"Commit\",\n",
    "  \"change\": [\n",
    "    {\n",
    "      \"@type\": \"DataVersion\",\n",
    "      \"payload\": {\n",
    "        \"@type\": \"PartDefinition\",\n",
    "        \"name\":\"Spacecraft System\"\n",
    "      }\n",
    "    },\n",
    "    {\n",
    "      \"@type\": \"DataVersion\",\n",
    "      \"payload\": {\n",
    "        \"@type\": \"PartDefinition\",\n",
    "        \"name\":\"Payload System\"\n",
    "      }\n",
    "    },\n",
    "    {\n",
    "      \"@type\": \"DataVersion\",\n",
    "      \"payload\": {\n",
    "        \"@type\": \"PartDefinition\",\n",
    "        \"name\":\"Propulsion System\"\n",
    "      }\n",
    "    }\n",
    "  ]\n",
    "}\n",
    "\n",
    "commit_post_url = f\"{host}/projects/{project_id}/commits\" \n",
    "\n",
    "commit_post_response = requests.post(commit_post_url, \n",
    "                                      headers={\"Content-Type\": \"application/json\"}, \n",
    "                                      data=json.dumps(commit_body))\n",
    "\n",
    "commit1_id = \"\"\n",
    "\n",
    "if commit_post_response.status_code == 200:\n",
    "    commit_response_json = commit_post_response.json()\n",
    "    pprint(commit_response_json)\n",
    "    commit1_id = commit_response_json['@id']\n",
    "else:\n",
    "    pprint(f\"Problem in creating a new commit in Spacecraft project {project_id}\")\n",
    "    pprint(commit_post_response)"
   ]
  },
  {
   "cell_type": "code",
   "execution_count": 7,
   "id": "65537f5c-f521-469e-92e4-9a2568afed05",
   "metadata": {},
   "outputs": [
    {
     "data": {
      "text/html": [
       "<style type=\"text/css\">\n",
       "</style>\n",
       "<table id=\"T_c10dd\">\n",
       "  <thead>\n",
       "    <tr>\n",
       "      <th id=\"T_c10dd_level0_col0\" class=\"col_heading level0 col0\" >Element Name</th>\n",
       "      <th id=\"T_c10dd_level0_col1\" class=\"col_heading level0 col1\" >Element ID</th>\n",
       "    </tr>\n",
       "  </thead>\n",
       "  <tbody>\n",
       "    <tr>\n",
       "      <td id=\"T_c10dd_row0_col0\" class=\"data row0 col0\" >Payload System</td>\n",
       "      <td id=\"T_c10dd_row0_col1\" class=\"data row0 col1\" >3bacaac2-1548-498c-a3a9-35e1224fb333</td>\n",
       "    </tr>\n",
       "    <tr>\n",
       "      <td id=\"T_c10dd_row1_col0\" class=\"data row1 col0\" >Propulsion System</td>\n",
       "      <td id=\"T_c10dd_row1_col1\" class=\"data row1 col1\" >40c690e7-fc67-4e0b-9de1-51f5fa63aaad</td>\n",
       "    </tr>\n",
       "    <tr>\n",
       "      <td id=\"T_c10dd_row2_col0\" class=\"data row2 col0\" >Spacecraft System</td>\n",
       "      <td id=\"T_c10dd_row2_col1\" class=\"data row2 col1\" >08f2762c-daee-4170-9d3a-1ea874796bf0</td>\n",
       "    </tr>\n",
       "  </tbody>\n",
       "</table>\n"
      ],
      "text/plain": [
       "<pandas.io.formats.style.Styler at 0x122768190>"
      ]
     },
     "metadata": {},
     "output_type": "display_data"
    }
   ],
   "source": [
    "element_get_url = f\"{host}/projects/{project_id}/commits/{commit1_id}/elements\" \n",
    "\n",
    "element_get_response = requests.get(element_get_url)\n",
    "\n",
    "if element_get_response.status_code == 200:\n",
    "    elements = element_get_response.json()\n",
    "    elements_data = list(map(lambda b: {'Element Name':b['name'], 'Element ID':b['@id']}, elements))\n",
    "    df = pd.DataFrame.from_records(elements_data).sort_values(by='Element Name').style.hide(axis='index')\n",
    "    display(df)\n",
    "else:\n",
    "    pprint(f\"Problem in fetching elements in the Spacecraft project {project_id} at commit {commit1_id}.\")\n",
    "    pprint(element_get_response)"
   ]
  },
  {
   "cell_type": "markdown",
   "id": "8e38b288-6517-4a7b-90e5-ae73c5f89df3",
   "metadata": {},
   "source": [
    "# Create 2nd Commit"
   ]
  },
  {
   "cell_type": "code",
   "execution_count": 8,
   "id": "76d80cb1-40c8-4f24-aeb5-51e509f4e159",
   "metadata": {
    "tags": []
   },
   "outputs": [
    {
     "name": "stdout",
     "output_type": "stream",
     "text": [
      "{'@id': 'd2b90e4b-e2fa-4603-b7ae-5ac1329fdfe4',\n",
      " '@type': 'Commit',\n",
      " 'owningProject': {'@id': '25021e68-5a8a-426e-a43f-e8b15610519c'},\n",
      " 'previousCommit': {'@id': '1da6d589-8232-47c5-8e5b-d8c1ced0961d'},\n",
      " 'timestamp': '2022-06-07T11:54:21.512896-04:00'}\n"
     ]
    }
   ],
   "source": [
    "commit_body = {\n",
    "  \"@type\": \"Commit\",\n",
    "  \"change\": [\n",
    "    {\n",
    "      \"@type\": \"DataVersion\",\n",
    "      \"payload\": {\n",
    "        \"@type\": \"PartDefinition\",\n",
    "        \"name\":\"Avionics System\"\n",
    "      }\n",
    "    },\n",
    "    {\n",
    "      \"@type\": \"DataVersion\",\n",
    "      \"payload\": {\n",
    "        \"@type\": \"PartDefinition\",\n",
    "        \"name\":\"Power System\"\n",
    "      }\n",
    "    }\n",
    "  ],\n",
    "  \"previousCommit\": {\n",
    "      \"@id\": commit1_id\n",
    "    }\n",
    "}\n",
    "\n",
    "commit_post_url = f\"{host}/projects/{project_id}/commits\" \n",
    "\n",
    "commit_post_response = requests.post(commit_post_url, \n",
    "                                      headers={\"Content-Type\": \"application/json\"}, \n",
    "                                      data=json.dumps(commit_body))\n",
    "\n",
    "commit2_id = \"\"\n",
    "\n",
    "if commit_post_response.status_code == 200:\n",
    "    commit_response_json = commit_post_response.json()\n",
    "    pprint(commit_response_json)\n",
    "    commit2_id = commit_response_json['@id']\n",
    "else:\n",
    "    pprint(f\"Problem in creating a new commit in Spacecraft project {project_id}\")\n",
    "    pprint(commit_post_response)"
   ]
  },
  {
   "cell_type": "markdown",
   "id": "d815e4fe",
   "metadata": {},
   "source": [
    "# Get all elements after the 2nd commit"
   ]
  },
  {
   "cell_type": "code",
   "execution_count": 9,
   "id": "eac0a387-e4cf-4fc8-8b47-c64ed2ebff62",
   "metadata": {},
   "outputs": [
    {
     "data": {
      "text/html": [
       "<style type=\"text/css\">\n",
       "</style>\n",
       "<table id=\"T_f49fd\">\n",
       "  <thead>\n",
       "    <tr>\n",
       "      <th id=\"T_f49fd_level0_col0\" class=\"col_heading level0 col0\" >Element Name</th>\n",
       "      <th id=\"T_f49fd_level0_col1\" class=\"col_heading level0 col1\" >Element ID</th>\n",
       "    </tr>\n",
       "  </thead>\n",
       "  <tbody>\n",
       "    <tr>\n",
       "      <td id=\"T_f49fd_row0_col0\" class=\"data row0 col0\" >Avionics System</td>\n",
       "      <td id=\"T_f49fd_row0_col1\" class=\"data row0 col1\" >c3a9cd95-d892-4f80-8e74-e69279ace767</td>\n",
       "    </tr>\n",
       "    <tr>\n",
       "      <td id=\"T_f49fd_row1_col0\" class=\"data row1 col0\" >Payload System</td>\n",
       "      <td id=\"T_f49fd_row1_col1\" class=\"data row1 col1\" >3bacaac2-1548-498c-a3a9-35e1224fb333</td>\n",
       "    </tr>\n",
       "    <tr>\n",
       "      <td id=\"T_f49fd_row2_col0\" class=\"data row2 col0\" >Power System</td>\n",
       "      <td id=\"T_f49fd_row2_col1\" class=\"data row2 col1\" >67409bf0-066a-463d-98af-0bd29753daf3</td>\n",
       "    </tr>\n",
       "    <tr>\n",
       "      <td id=\"T_f49fd_row3_col0\" class=\"data row3 col0\" >Propulsion System</td>\n",
       "      <td id=\"T_f49fd_row3_col1\" class=\"data row3 col1\" >40c690e7-fc67-4e0b-9de1-51f5fa63aaad</td>\n",
       "    </tr>\n",
       "    <tr>\n",
       "      <td id=\"T_f49fd_row4_col0\" class=\"data row4 col0\" >Spacecraft System</td>\n",
       "      <td id=\"T_f49fd_row4_col1\" class=\"data row4 col1\" >08f2762c-daee-4170-9d3a-1ea874796bf0</td>\n",
       "    </tr>\n",
       "  </tbody>\n",
       "</table>\n"
      ],
      "text/plain": [
       "<pandas.io.formats.style.Styler at 0x12738d760>"
      ]
     },
     "metadata": {},
     "output_type": "display_data"
    }
   ],
   "source": [
    "element_get_url = f\"{host}/projects/{project_id}/commits/{commit2_id}/elements\" \n",
    "\n",
    "element_get_response = requests.get(element_get_url)\n",
    "\n",
    "if element_get_response.status_code == 200:\n",
    "    elements = element_get_response.json()\n",
    "    elements_data = list(map(lambda b: {'Element Name':b['name'], 'Element ID':b['@id']}, elements))\n",
    "    df = pd.DataFrame.from_records(elements_data).sort_values(by='Element Name').style.hide(axis='index')\n",
    "    display(df)\n",
    "else:\n",
    "    pprint(f\"Problem in fetching elements in the Spacecraft project {project_id} at commit {commit2_id}.\")\n",
    "    pprint(element_get_response)"
   ]
  },
  {
   "cell_type": "markdown",
   "id": "4b841d77-eb20-4f3c-bc64-fe08031d01bc",
   "metadata": {},
   "source": [
    "# Create a tag"
   ]
  },
  {
   "cell_type": "code",
   "execution_count": 10,
   "id": "886842cc-c983-424f-9af9-083257a5732c",
   "metadata": {},
   "outputs": [
    {
     "name": "stdout",
     "output_type": "stream",
     "text": [
      "{'@id': '24c65293-1361-473a-bd2b-cfe63843cb21',\n",
      " '@type': 'Tag',\n",
      " 'name': 'Spacecraft Internal Release 0.1',\n",
      " 'owningProject': {'@id': '25021e68-5a8a-426e-a43f-e8b15610519c'},\n",
      " 'referencedCommit': {'@id': 'd2b90e4b-e2fa-4603-b7ae-5ac1329fdfe4'},\n",
      " 'taggedCommit': {'@id': 'd2b90e4b-e2fa-4603-b7ae-5ac1329fdfe4'},\n",
      " 'timestamp': '2022-06-07T11:54:25.857998-04:00'}\n"
     ]
    }
   ],
   "source": [
    "tag_body = {\n",
    "    \"@type\": \"Tag\",\n",
    "    \"name\": \"Spacecraft Internal Release 0.1\",\n",
    "    \"taggedCommit\": {\n",
    "      \"@id\": commit2_id\n",
    "    }\n",
    "}\n",
    "\n",
    "tag_post_url = f\"{host}/projects/{project_id}/tags\" \n",
    "\n",
    "tag_post_response = requests.post(tag_post_url, \n",
    "                                  headers={\"Content-Type\": \"application/json\"}, \n",
    "                                  data=json.dumps(tag_body))\n",
    "\n",
    "tag1_id = \"\"\n",
    "\n",
    "if tag_post_response.status_code == 200:\n",
    "    tag_response_json = tag_post_response.json()\n",
    "    pprint(tag_response_json)\n",
    "    tag1_id = tag_response_json['@id']\n",
    "else:\n",
    "    pprint(f\"Problem in creating a new tag in Spacecraft project {project_id}.\")\n",
    "    pprint(tag_post_response)"
   ]
  },
  {
   "cell_type": "markdown",
   "id": "ec239663-ce0d-4ae6-acd7-5910299dedda",
   "metadata": {},
   "source": [
    "# Get Tags"
   ]
  },
  {
   "cell_type": "code",
   "execution_count": 11,
   "id": "bf1ce47b-079d-429f-b43b-491c3aa156c8",
   "metadata": {},
   "outputs": [
    {
     "data": {
      "text/html": [
       "<style type=\"text/css\">\n",
       "</style>\n",
       "<table id=\"T_7806a\">\n",
       "  <thead>\n",
       "    <tr>\n",
       "      <th id=\"T_7806a_level0_col0\" class=\"col_heading level0 col0\" >Tag Name</th>\n",
       "      <th id=\"T_7806a_level0_col1\" class=\"col_heading level0 col1\" >Tag ID</th>\n",
       "      <th id=\"T_7806a_level0_col2\" class=\"col_heading level0 col2\" >Tagged Commit</th>\n",
       "    </tr>\n",
       "  </thead>\n",
       "  <tbody>\n",
       "    <tr>\n",
       "      <td id=\"T_7806a_row0_col0\" class=\"data row0 col0\" >Spacecraft Internal Release 0.1</td>\n",
       "      <td id=\"T_7806a_row0_col1\" class=\"data row0 col1\" >24c65293-1361-473a-bd2b-cfe63843cb21</td>\n",
       "      <td id=\"T_7806a_row0_col2\" class=\"data row0 col2\" >{'@id': 'd2b90e4b-e2fa-4603-b7ae-5ac1329fdfe4'}</td>\n",
       "    </tr>\n",
       "  </tbody>\n",
       "</table>\n"
      ],
      "text/plain": [
       "<pandas.io.formats.style.Styler at 0x13234a4c0>"
      ]
     },
     "metadata": {},
     "output_type": "display_data"
    }
   ],
   "source": [
    "tags_url = f\"{host}/projects/{project_id}/tags\" \n",
    "tags_response = requests.get(tags_url)\n",
    "\n",
    "if tags_response.status_code == 200:\n",
    "    tags = tags_response.json()\n",
    "    tags_data = list(map(lambda b: {'Tag Name':b['name'], 'Tag ID':b['@id'], 'Tagged Commit':b['taggedCommit']}, tags))\n",
    "\n",
    "    df = pd.DataFrame.from_records(tags_data).style.hide(axis='index')\n",
    "    display(df)\n",
    "else:\n",
    "    pprint(f\"Problem in fetching tags in Spacecraft project {project_id}.\")\n",
    "    pprint(tag_post_response)"
   ]
  },
  {
   "cell_type": "markdown",
   "id": "5a0ec0fa-af50-4944-8401-183f2cb165af",
   "metadata": {},
   "source": [
    "# Create a new branch at the second commit (also tagged as 0.1)"
   ]
  },
  {
   "cell_type": "code",
   "execution_count": 12,
   "id": "cc9620df-e407-4a25-8ae4-bd803d1cde32",
   "metadata": {},
   "outputs": [
    {
     "name": "stdout",
     "output_type": "stream",
     "text": [
      "{'@id': '3bc848fe-5d2c-49c7-a91b-e4335edd3e7a',\n",
      " '@type': 'Branch',\n",
      " 'head': {'@id': 'd2b90e4b-e2fa-4603-b7ae-5ac1329fdfe4'},\n",
      " 'name': 'develop',\n",
      " 'owningProject': {'@id': '25021e68-5a8a-426e-a43f-e8b15610519c'},\n",
      " 'referencedCommit': {'@id': 'd2b90e4b-e2fa-4603-b7ae-5ac1329fdfe4'},\n",
      " 'timestamp': '2022-06-07T11:54:30.360571-04:00'}\n"
     ]
    }
   ],
   "source": [
    "branch_body = {\n",
    "  \"@type\": \"Branch\",\n",
    "  \"name\": \"develop\",\n",
    "  \"head\": {\n",
    "      \"@id\": commit2_id\n",
    "    }\n",
    "}\n",
    "\n",
    "branch_post_url = f\"{host}/projects/{project_id}/branches\" \n",
    "\n",
    "branch_post_response = requests.post(branch_post_url, \n",
    "                                      headers={\"Content-Type\": \"application/json\"}, \n",
    "                                      data=json.dumps(branch_body))\n",
    "\n",
    "branch_develop_id = \"\"\n",
    "\n",
    "if branch_post_response.status_code == 200:\n",
    "    branch_response_json = branch_post_response.json()\n",
    "    pprint(branch_response_json)\n",
    "    branch_develop_id = branch_response_json['@id']\n",
    "else:\n",
    "    pprint(f\"Problem in creating a new branch in Spacecraft project {project_id}\")\n",
    "    pprint(branch_post_response)"
   ]
  },
  {
   "cell_type": "markdown",
   "id": "19ba5702-85d2-40ec-b01c-de6f112e8bfa",
   "metadata": {
    "tags": []
   },
   "source": [
    "# Get branches"
   ]
  },
  {
   "cell_type": "code",
   "execution_count": 13,
   "id": "61faab74-218a-4bf4-832d-2e3a3d70578d",
   "metadata": {},
   "outputs": [
    {
     "data": {
      "text/html": [
       "<style type=\"text/css\">\n",
       "</style>\n",
       "<table id=\"T_63544\">\n",
       "  <thead>\n",
       "    <tr>\n",
       "      <th id=\"T_63544_level0_col0\" class=\"col_heading level0 col0\" >Branch Name</th>\n",
       "      <th id=\"T_63544_level0_col1\" class=\"col_heading level0 col1\" >Branch ID</th>\n",
       "      <th id=\"T_63544_level0_col2\" class=\"col_heading level0 col2\" >Ref Commit (head)</th>\n",
       "    </tr>\n",
       "  </thead>\n",
       "  <tbody>\n",
       "    <tr>\n",
       "      <td id=\"T_63544_row0_col0\" class=\"data row0 col0\" >develop</td>\n",
       "      <td id=\"T_63544_row0_col1\" class=\"data row0 col1\" >3bc848fe-5d2c-49c7-a91b-e4335edd3e7a</td>\n",
       "      <td id=\"T_63544_row0_col2\" class=\"data row0 col2\" >{'@id': 'd2b90e4b-e2fa-4603-b7ae-5ac1329fdfe4'}</td>\n",
       "    </tr>\n",
       "    <tr>\n",
       "      <td id=\"T_63544_row1_col0\" class=\"data row1 col0\" >main</td>\n",
       "      <td id=\"T_63544_row1_col1\" class=\"data row1 col1\" >813b2e97-82b5-4930-8100-0881d5658a17</td>\n",
       "      <td id=\"T_63544_row1_col2\" class=\"data row1 col2\" >{'@id': 'd2b90e4b-e2fa-4603-b7ae-5ac1329fdfe4'}</td>\n",
       "    </tr>\n",
       "  </tbody>\n",
       "</table>\n"
      ],
      "text/plain": [
       "<pandas.io.formats.style.Styler at 0x13235c040>"
      ]
     },
     "metadata": {},
     "output_type": "display_data"
    }
   ],
   "source": [
    "branches_url = f\"{host}/projects/{project_id}/branches\" \n",
    "branches_response = requests.get(branches_url)\n",
    "\n",
    "if branches_response.status_code == 200:\n",
    "    branches = branches_response.json()\n",
    "    branches_data = list(map(lambda b: {'Branch Name':b['name'], 'Branch ID':b['@id'], 'Ref Commit (head)':b['head']}, branches))\n",
    "\n",
    "    df = pd.DataFrame.from_records(branches_data).sort_values(by='Branch Name').style.hide(axis='index')\n",
    "    display(df)\n",
    "else:\n",
    "    pprint(f\"Problem in fetching branches in Spacecraft project {project_id}\")\n",
    "    pprint(branches_response)"
   ]
  },
  {
   "cell_type": "markdown",
   "id": "8dbea034-4180-415f-9604-8e1afb149fdc",
   "metadata": {},
   "source": [
    "# Create a new commit in the develop branch"
   ]
  },
  {
   "cell_type": "code",
   "execution_count": 14,
   "id": "055f42b3-18de-4f94-ae53-43660948493b",
   "metadata": {},
   "outputs": [
    {
     "name": "stdout",
     "output_type": "stream",
     "text": [
      "{'@id': '682a9635-10e4-45fb-80b8-299955d90f03',\n",
      " '@type': 'Commit',\n",
      " 'owningProject': {'@id': '25021e68-5a8a-426e-a43f-e8b15610519c'},\n",
      " 'previousCommit': {'@id': 'd2b90e4b-e2fa-4603-b7ae-5ac1329fdfe4'},\n",
      " 'timestamp': '2022-06-07T11:54:34.098474-04:00'}\n"
     ]
    }
   ],
   "source": [
    "commit_body = {\n",
    "  \"@type\": \"Commit\",\n",
    "  \"change\": [\n",
    "    {\n",
    "      \"@type\": \"DataVersion\",\n",
    "      \"payload\": {\n",
    "        \"@type\": \"PartDefinition\",\n",
    "        \"name\":\"GN & C System\"\n",
    "      }\n",
    "    }\n",
    "  ],\n",
    "  \"previousCommit\": {\n",
    "      \"@id\": commit2_id\n",
    "    }\n",
    "}\n",
    "\n",
    "commit_post_url = f\"{host}/projects/{project_id}/commits\" \n",
    "\n",
    "commit_post_response = requests.post(commit_post_url, \n",
    "                                      headers={\"Content-Type\": \"application/json\"}, \n",
    "                                      data=json.dumps(commit_body),\n",
    "                                      params={\"branchId\":branch_develop_id})\n",
    "\n",
    "commit3_id = \"\"\n",
    "\n",
    "if commit_post_response.status_code == 200:\n",
    "    commit_response_json = commit_post_response.json()\n",
    "    pprint(commit_response_json)\n",
    "    commit3_id = commit_response_json['@id']\n",
    "else:\n",
    "    pprint(f\"Problem in creating a new commit in Spacecraft project {project_id}\")\n",
    "    pprint(commit_post_response)"
   ]
  },
  {
   "cell_type": "markdown",
   "id": "e2ba3c85-db23-460d-b6d4-6afbd6461e7d",
   "metadata": {},
   "source": [
    "# Get Branches"
   ]
  },
  {
   "cell_type": "code",
   "execution_count": 15,
   "id": "ead42406-7536-4f47-b0d8-d34a48e9054e",
   "metadata": {},
   "outputs": [
    {
     "data": {
      "text/html": [
       "<style type=\"text/css\">\n",
       "</style>\n",
       "<table id=\"T_f28d8\">\n",
       "  <thead>\n",
       "    <tr>\n",
       "      <th id=\"T_f28d8_level0_col0\" class=\"col_heading level0 col0\" >Branch Name</th>\n",
       "      <th id=\"T_f28d8_level0_col1\" class=\"col_heading level0 col1\" >Branch ID</th>\n",
       "      <th id=\"T_f28d8_level0_col2\" class=\"col_heading level0 col2\" >Ref Commit (head)</th>\n",
       "    </tr>\n",
       "  </thead>\n",
       "  <tbody>\n",
       "    <tr>\n",
       "      <td id=\"T_f28d8_row0_col0\" class=\"data row0 col0\" >develop</td>\n",
       "      <td id=\"T_f28d8_row0_col1\" class=\"data row0 col1\" >3bc848fe-5d2c-49c7-a91b-e4335edd3e7a</td>\n",
       "      <td id=\"T_f28d8_row0_col2\" class=\"data row0 col2\" >{'@id': '682a9635-10e4-45fb-80b8-299955d90f03'}</td>\n",
       "    </tr>\n",
       "    <tr>\n",
       "      <td id=\"T_f28d8_row1_col0\" class=\"data row1 col0\" >main</td>\n",
       "      <td id=\"T_f28d8_row1_col1\" class=\"data row1 col1\" >813b2e97-82b5-4930-8100-0881d5658a17</td>\n",
       "      <td id=\"T_f28d8_row1_col2\" class=\"data row1 col2\" >{'@id': 'd2b90e4b-e2fa-4603-b7ae-5ac1329fdfe4'}</td>\n",
       "    </tr>\n",
       "  </tbody>\n",
       "</table>\n"
      ],
      "text/plain": [
       "<pandas.io.formats.style.Styler at 0x132188580>"
      ]
     },
     "metadata": {},
     "output_type": "display_data"
    }
   ],
   "source": [
    "branches_url = f\"{host}/projects/{project_id}/branches\" \n",
    "branches_response = requests.get(branches_url)\n",
    "\n",
    "if branches_response.status_code == 200:\n",
    "    branches = branches_response.json()\n",
    "    branches_data = list(map(lambda b: {'Branch Name':b['name'], 'Branch ID':b['@id'], 'Ref Commit (head)':b['head']}, branches))\n",
    "\n",
    "    df = pd.DataFrame.from_records(branches_data).sort_values(by='Branch Name').style.hide(axis='index')\n",
    "    display(df)\n",
    "else:\n",
    "    pprint(f\"Problem in fetching branches in Spacecraft project {project_id}\")\n",
    "    pprint(commit_post_response)"
   ]
  },
  {
   "cell_type": "markdown",
   "id": "61cdaecd-44db-4e27-85dd-de5d002648cc",
   "metadata": {},
   "source": [
    "# Get all elements as of the latest commit on main branch"
   ]
  },
  {
   "cell_type": "code",
   "execution_count": 16,
   "id": "86008838-368a-4e58-9d5b-70e9c57442f4",
   "metadata": {},
   "outputs": [
    {
     "name": "stdout",
     "output_type": "stream",
     "text": [
      "'Fetching elements at commit d2b90e4b-e2fa-4603-b7ae-5ac1329fdfe4'\n"
     ]
    },
    {
     "data": {
      "text/html": [
       "<style type=\"text/css\">\n",
       "</style>\n",
       "<table id=\"T_e4ccd\">\n",
       "  <thead>\n",
       "    <tr>\n",
       "      <th id=\"T_e4ccd_level0_col0\" class=\"col_heading level0 col0\" >Element Name</th>\n",
       "      <th id=\"T_e4ccd_level0_col1\" class=\"col_heading level0 col1\" >Element ID</th>\n",
       "    </tr>\n",
       "  </thead>\n",
       "  <tbody>\n",
       "    <tr>\n",
       "      <td id=\"T_e4ccd_row0_col0\" class=\"data row0 col0\" >Avionics System</td>\n",
       "      <td id=\"T_e4ccd_row0_col1\" class=\"data row0 col1\" >c3a9cd95-d892-4f80-8e74-e69279ace767</td>\n",
       "    </tr>\n",
       "    <tr>\n",
       "      <td id=\"T_e4ccd_row1_col0\" class=\"data row1 col0\" >Payload System</td>\n",
       "      <td id=\"T_e4ccd_row1_col1\" class=\"data row1 col1\" >3bacaac2-1548-498c-a3a9-35e1224fb333</td>\n",
       "    </tr>\n",
       "    <tr>\n",
       "      <td id=\"T_e4ccd_row2_col0\" class=\"data row2 col0\" >Power System</td>\n",
       "      <td id=\"T_e4ccd_row2_col1\" class=\"data row2 col1\" >67409bf0-066a-463d-98af-0bd29753daf3</td>\n",
       "    </tr>\n",
       "    <tr>\n",
       "      <td id=\"T_e4ccd_row3_col0\" class=\"data row3 col0\" >Propulsion System</td>\n",
       "      <td id=\"T_e4ccd_row3_col1\" class=\"data row3 col1\" >40c690e7-fc67-4e0b-9de1-51f5fa63aaad</td>\n",
       "    </tr>\n",
       "    <tr>\n",
       "      <td id=\"T_e4ccd_row4_col0\" class=\"data row4 col0\" >Spacecraft System</td>\n",
       "      <td id=\"T_e4ccd_row4_col1\" class=\"data row4 col1\" >08f2762c-daee-4170-9d3a-1ea874796bf0</td>\n",
       "    </tr>\n",
       "  </tbody>\n",
       "</table>\n"
      ],
      "text/plain": [
       "<pandas.io.formats.style.Styler at 0x132177c40>"
      ]
     },
     "metadata": {},
     "output_type": "display_data"
    }
   ],
   "source": [
    "pprint(f\"Fetching elements at commit {commit2_id}\")\n",
    "element_get_url = f\"{host}/projects/{project_id}/commits/{commit2_id}/elements\" \n",
    "\n",
    "element_get_response = requests.get(element_get_url)\n",
    "\n",
    "if element_get_response.status_code == 200:\n",
    "    elements = element_get_response.json()\n",
    "    elements_data = list(map(lambda b: {'Element Name':b['name'], 'Element ID':b['@id']}, elements))\n",
    "    df = pd.DataFrame.from_records(elements_data).sort_values(by='Element Name').style.hide(axis='index')\n",
    "    display(df)\n",
    "else:\n",
    "    pprint(f\"Problem in fetching elements in the Spacecraft project {project_id} at commit {commit2_id}\")\n",
    "    pprint(element_get_response)"
   ]
  },
  {
   "cell_type": "markdown",
   "id": "24a94903-9a4e-4f2b-b1bf-be21b7e22e48",
   "metadata": {},
   "source": [
    "# Get all elements as of the latest commit on develop branch"
   ]
  },
  {
   "cell_type": "code",
   "execution_count": 17,
   "id": "60bf125d-5258-4546-99da-3680de66dd1b",
   "metadata": {},
   "outputs": [
    {
     "name": "stdout",
     "output_type": "stream",
     "text": [
      "'Fetching elements at commit 682a9635-10e4-45fb-80b8-299955d90f03'\n"
     ]
    },
    {
     "data": {
      "text/html": [
       "<style type=\"text/css\">\n",
       "</style>\n",
       "<table id=\"T_aa6ae\">\n",
       "  <thead>\n",
       "    <tr>\n",
       "      <th id=\"T_aa6ae_level0_col0\" class=\"col_heading level0 col0\" >Element Name</th>\n",
       "      <th id=\"T_aa6ae_level0_col1\" class=\"col_heading level0 col1\" >Element ID</th>\n",
       "    </tr>\n",
       "  </thead>\n",
       "  <tbody>\n",
       "    <tr>\n",
       "      <td id=\"T_aa6ae_row0_col0\" class=\"data row0 col0\" >Avionics System</td>\n",
       "      <td id=\"T_aa6ae_row0_col1\" class=\"data row0 col1\" >c3a9cd95-d892-4f80-8e74-e69279ace767</td>\n",
       "    </tr>\n",
       "    <tr>\n",
       "      <td id=\"T_aa6ae_row1_col0\" class=\"data row1 col0\" >GN & C System</td>\n",
       "      <td id=\"T_aa6ae_row1_col1\" class=\"data row1 col1\" >27e47fbd-9939-46f5-b1de-32cc762acfa0</td>\n",
       "    </tr>\n",
       "    <tr>\n",
       "      <td id=\"T_aa6ae_row2_col0\" class=\"data row2 col0\" >Payload System</td>\n",
       "      <td id=\"T_aa6ae_row2_col1\" class=\"data row2 col1\" >3bacaac2-1548-498c-a3a9-35e1224fb333</td>\n",
       "    </tr>\n",
       "    <tr>\n",
       "      <td id=\"T_aa6ae_row3_col0\" class=\"data row3 col0\" >Power System</td>\n",
       "      <td id=\"T_aa6ae_row3_col1\" class=\"data row3 col1\" >67409bf0-066a-463d-98af-0bd29753daf3</td>\n",
       "    </tr>\n",
       "    <tr>\n",
       "      <td id=\"T_aa6ae_row4_col0\" class=\"data row4 col0\" >Propulsion System</td>\n",
       "      <td id=\"T_aa6ae_row4_col1\" class=\"data row4 col1\" >40c690e7-fc67-4e0b-9de1-51f5fa63aaad</td>\n",
       "    </tr>\n",
       "    <tr>\n",
       "      <td id=\"T_aa6ae_row5_col0\" class=\"data row5 col0\" >Spacecraft System</td>\n",
       "      <td id=\"T_aa6ae_row5_col1\" class=\"data row5 col1\" >08f2762c-daee-4170-9d3a-1ea874796bf0</td>\n",
       "    </tr>\n",
       "  </tbody>\n",
       "</table>\n"
      ],
      "text/plain": [
       "<pandas.io.formats.style.Styler at 0x1323bd3a0>"
      ]
     },
     "metadata": {},
     "output_type": "display_data"
    }
   ],
   "source": [
    "pprint(f\"Fetching elements at commit {commit3_id}\")\n",
    "element_get_url = f\"{host}/projects/{project_id}/commits/{commit3_id}/elements\" \n",
    "\n",
    "element_get_response = requests.get(element_get_url)\n",
    "\n",
    "if element_get_response.status_code == 200:\n",
    "    elements = element_get_response.json()\n",
    "    elements_data = list(map(lambda b: {'Element Name':b['name'], 'Element ID':b['@id']}, elements))\n",
    "    df = pd.DataFrame.from_records(elements_data).sort_values(by='Element Name').style.hide(axis='index')\n",
    "    display(df)\n",
    "else:\n",
    "    pprint(f\"Problem in fetching elements in the Spacecraft project {project_id} at commit {commit3_id}\")\n",
    "    pprint(element_get_response)"
   ]
  },
  {
   "cell_type": "code",
   "execution_count": null,
   "id": "b3e26544-b2e4-4370-bb85-9d23aabcc0b5",
   "metadata": {},
   "outputs": [],
   "source": []
  }
 ],
 "metadata": {
  "kernelspec": {
   "display_name": "Python 3 (ipykernel)",
   "language": "python",
   "name": "python3"
  },
  "language_info": {
   "codemirror_mode": {
    "name": "ipython",
    "version": 3
   },
   "file_extension": ".py",
   "mimetype": "text/x-python",
   "name": "python",
   "nbconvert_exporter": "python",
   "pygments_lexer": "ipython3",
   "version": "3.8.13"
  }
 },
 "nbformat": 4,
 "nbformat_minor": 5
}
