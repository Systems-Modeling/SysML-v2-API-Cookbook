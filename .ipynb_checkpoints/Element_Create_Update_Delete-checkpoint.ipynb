{
 "cells": [
  {
   "cell_type": "markdown",
   "id": "3ee4834f",
   "metadata": {
    "tags": []
   },
   "source": [
    "# Initializing the SysML v2 API"
   ]
  },
  {
   "cell_type": "code",
   "execution_count": 1,
   "id": "6b5fef59",
   "metadata": {},
   "outputs": [],
   "source": [
    "from __future__ import print_function\n",
    "\n",
    "import time\n",
    "import requests\n",
    "from pprint import pprint\n",
    "import pandas as pd\n",
    "import json\n",
    "from datetime import datetime\n",
    "\n",
    "#host = \"<specify protocol://host:port of the server that is a provider of the SysML v2 REST/HTTP API\"\n",
    "host = \"Specify the URL of the SysML v2 API and Service Repository\""
   ]
  },
  {
   "cell_type": "markdown",
   "id": "04c1ff93",
   "metadata": {},
   "source": [
    "# Get projects"
   ]
  },
  {
   "cell_type": "code",
   "execution_count": 4,
   "id": "78788ed9",
   "metadata": {},
   "outputs": [
    {
     "data": {
      "text/html": [
       "<style type=\"text/css\">\n",
       "</style>\n",
       "<table id=\"T_abc69\">\n",
       "  <thead>\n",
       "    <tr>\n",
       "      <th id=\"T_abc69_level0_col0\" class=\"col_heading level0 col0\" >Project Name</th>\n",
       "      <th id=\"T_abc69_level0_col1\" class=\"col_heading level0 col1\" >Project ID</th>\n",
       "    </tr>\n",
       "  </thead>\n",
       "  <tbody>\n",
       "    <tr>\n",
       "      <td id=\"T_abc69_row0_col0\" class=\"data row0 col0\" >Spacecraft project with Element CRUD - 2022-09-12 12:08:48.815850</td>\n",
       "      <td id=\"T_abc69_row0_col1\" class=\"data row0 col1\" >0659c128-afd5-42a1-912b-962068f1f053</td>\n",
       "    </tr>\n",
       "    <tr>\n",
       "      <td id=\"T_abc69_row1_col0\" class=\"data row1 col0\" >17b-Sequence-Modeling Fri Sep 09 17:37:26 EDT 2022</td>\n",
       "      <td id=\"T_abc69_row1_col1\" class=\"data row1 col1\" >0f7045bd-9a1c-4b54-90d9-775c0f642e1b</td>\n",
       "    </tr>\n",
       "    <tr>\n",
       "      <td id=\"T_abc69_row2_col0\" class=\"data row2 col0\" >3a-Function-based Behavior-2 Fri Sep 09 17:26:30 EDT 2022</td>\n",
       "      <td id=\"T_abc69_row2_col1\" class=\"data row2 col1\" >128710cd-978f-4c6f-93ac-8afbbd194185</td>\n",
       "    </tr>\n",
       "    <tr>\n",
       "      <td id=\"T_abc69_row3_col0\" class=\"data row3 col0\" >10c-Fuel Economy Analysis Fri Sep 09 17:30:43 EDT 2022</td>\n",
       "      <td id=\"T_abc69_row3_col1\" class=\"data row3 col1\" >2909d482-a659-4307-9803-bdfcbe0a7989</td>\n",
       "    </tr>\n",
       "    <tr>\n",
       "      <td id=\"T_abc69_row4_col0\" class=\"data row4 col0\" >PartTest Fri Sep 09 17:22:13 EDT 2022</td>\n",
       "      <td id=\"T_abc69_row4_col1\" class=\"data row4 col1\" >2a2a4d7d-cd9e-41ec-bec0-2bf6fcea6767</td>\n",
       "    </tr>\n",
       "    <tr>\n",
       "      <td id=\"T_abc69_row5_col0\" class=\"data row5 col0\" >15_05-Unification of Expression and Constraint Definition Fri Sep 09 17:35:59 EDT 2022</td>\n",
       "      <td id=\"T_abc69_row5_col1\" class=\"data row5 col1\" >39dcf070-668c-4711-a231-c2640b9f7f88</td>\n",
       "    </tr>\n",
       "    <tr>\n",
       "      <td id=\"T_abc69_row6_col0\" class=\"data row6 col0\" >15_19-Materials with Properties Fri Sep 09 17:36:44 EDT 2022</td>\n",
       "      <td id=\"T_abc69_row6_col1\" class=\"data row6 col1\" >3bd937e0-ab2e-47a6-8f66-0458df9f29de</td>\n",
       "    </tr>\n",
       "    <tr>\n",
       "      <td id=\"T_abc69_row7_col0\" class=\"data row7 col0\" >14b-Language Extensions Fri Sep 09 17:35:06 EDT 2022</td>\n",
       "      <td id=\"T_abc69_row7_col1\" class=\"data row7 col1\" >431cd401-010c-401f-9101-115240312d24</td>\n",
       "    </tr>\n",
       "    <tr>\n",
       "      <td id=\"T_abc69_row8_col0\" class=\"data row8 col0\" >13b-Safety and Security Features Element Group-1 Fri Sep 09 17:33:37 EDT 2022</td>\n",
       "      <td id=\"T_abc69_row8_col1\" class=\"data row8 col1\" >46b226ce-8519-42de-96b4-07ff1045d0dd</td>\n",
       "    </tr>\n",
       "    <tr>\n",
       "      <td id=\"T_abc69_row9_col0\" class=\"data row9 col0\" >Spacecraft project with Element CRUD - 2022-09-12 13:03:26.568565</td>\n",
       "      <td id=\"T_abc69_row9_col1\" class=\"data row9 col1\" >4853c38b-85c5-40e5-9e83-b69c2e73415a</td>\n",
       "    </tr>\n",
       "    <tr>\n",
       "      <td id=\"T_abc69_row10_col0\" class=\"data row10 col0\" >3a-Function-based Behavior-3 Fri Sep 09 17:26:52 EDT 2022</td>\n",
       "      <td id=\"T_abc69_row10_col1\" class=\"data row10 col1\" >48f9a623-2451-4150-8b98-58e3b3c515cd</td>\n",
       "    </tr>\n",
       "    <tr>\n",
       "      <td id=\"T_abc69_row11_col0\" class=\"data row11 col0\" >12a-Dependency Fri Sep 09 17:32:29 EDT 2022</td>\n",
       "      <td id=\"T_abc69_row11_col1\" class=\"data row11 col1\" >49a60e69-b509-4191-b1c3-240de628110b</td>\n",
       "    </tr>\n",
       "    <tr>\n",
       "      <td id=\"T_abc69_row12_col0\" class=\"data row12 col0\" >7b-Variant Configurations Fri Sep 09 17:28:59 EDT 2022</td>\n",
       "      <td id=\"T_abc69_row12_col1\" class=\"data row12 col1\" >59c86238-ef81-434e-a389-5393312ba0d7</td>\n",
       "    </tr>\n",
       "    <tr>\n",
       "      <td id=\"T_abc69_row13_col0\" class=\"data row13 col0\" >17a-Sequence-Modeling Fri Sep 09 17:37:07 EDT 2022</td>\n",
       "      <td id=\"T_abc69_row13_col1\" class=\"data row13 col1\" >653c5173-770d-4ea6-90dc-c173d049258c</td>\n",
       "    </tr>\n",
       "    <tr>\n",
       "      <td id=\"T_abc69_row14_col0\" class=\"data row14 col0\" >13a-Model Containment Fri Sep 09 17:33:03 EDT 2022</td>\n",
       "      <td id=\"T_abc69_row14_col1\" class=\"data row14 col1\" >6699f5e0-403b-414a-87c9-46671e702fab</td>\n",
       "    </tr>\n",
       "    <tr>\n",
       "      <td id=\"T_abc69_row15_col0\" class=\"data row15 col0\" >11b-Safety and Security Feature Views Fri Sep 09 17:32:05 EDT 2022</td>\n",
       "      <td id=\"T_abc69_row15_col1\" class=\"data row15 col1\" >84f30a8f-f839-4a71-aee9-dff2a2d28dbf</td>\n",
       "    </tr>\n",
       "    <tr>\n",
       "      <td id=\"T_abc69_row16_col0\" class=\"data row16 col0\" >1c-Parts Tree Redefinition Fri Sep 09 17:25:05 EDT 2022</td>\n",
       "      <td id=\"T_abc69_row16_col1\" class=\"data row16 col1\" >85d874ae-1f68-4949-9b16-378f1cbc477e</td>\n",
       "    </tr>\n",
       "    <tr>\n",
       "      <td id=\"T_abc69_row17_col0\" class=\"data row17 col0\" >14a-Language Extensions Fri Sep 09 17:34:49 EDT 2022</td>\n",
       "      <td id=\"T_abc69_row17_col1\" class=\"data row17 col1\" >8f0bc3b3-a580-40fd-b99b-0e8865984c4f</td>\n",
       "    </tr>\n",
       "    <tr>\n",
       "      <td id=\"T_abc69_row18_col0\" class=\"data row18 col0\" >6-Individual and Snapshots Fri Sep 09 17:28:35 EDT 2022</td>\n",
       "      <td id=\"T_abc69_row18_col1\" class=\"data row18 col1\" >913dab3f-4d5d-482d-9238-7491aead3e1a</td>\n",
       "    </tr>\n",
       "    <tr>\n",
       "      <td id=\"T_abc69_row19_col0\" class=\"data row19 col0\" >PartTest Fri Sep 09 17:21:50 EDT 2022</td>\n",
       "      <td id=\"T_abc69_row19_col1\" class=\"data row19 col1\" >91b2be09-16de-4d35-87a4-589f3274ce55</td>\n",
       "    </tr>\n",
       "    <tr>\n",
       "      <td id=\"T_abc69_row20_col0\" class=\"data row20 col0\" >11a-View-Viewpoint Fri Sep 09 17:31:42 EDT 2022</td>\n",
       "      <td id=\"T_abc69_row20_col1\" class=\"data row20 col1\" >91fd6db5-4cfa-4970-b115-05010053ec72</td>\n",
       "    </tr>\n",
       "    <tr>\n",
       "      <td id=\"T_abc69_row21_col0\" class=\"data row21 col0\" >13b-Safety and Security Features Element Group Fri Sep 09 17:33:20 EDT 2022</td>\n",
       "      <td id=\"T_abc69_row21_col1\" class=\"data row21 col1\" >95bfcea3-8ed7-4bd4-9e98-3d6ed311091e</td>\n",
       "    </tr>\n",
       "    <tr>\n",
       "      <td id=\"T_abc69_row22_col0\" class=\"data row22 col0\" >Spacecraft project with branches and tags - 2022-09-09 17:04:20.838366</td>\n",
       "      <td id=\"T_abc69_row22_col1\" class=\"data row22 col1\" >978d0199-4e44-4090-8cb6-4253fd79e315</td>\n",
       "    </tr>\n",
       "    <tr>\n",
       "      <td id=\"T_abc69_row23_col0\" class=\"data row23 col0\" >3a-Function-based Behavior-1 Fri Sep 09 17:26:05 EDT 2022</td>\n",
       "      <td id=\"T_abc69_row23_col1\" class=\"data row23 col1\" >9da34b47-38d0-4630-bcb4-c387d5fac1da</td>\n",
       "    </tr>\n",
       "    <tr>\n",
       "      <td id=\"T_abc69_row24_col0\" class=\"data row24 col0\" >9-Verification-simplified Fri Sep 09 17:29:54 EDT 2022</td>\n",
       "      <td id=\"T_abc69_row24_col1\" class=\"data row24 col1\" >a9a02019-b810-4fcb-9a9c-5cad061db29f</td>\n",
       "    </tr>\n",
       "    <tr>\n",
       "      <td id=\"T_abc69_row25_col0\" class=\"data row25 col0\" >10b-Trade-off Among Alternative Configurations Fri Sep 09 17:30:18 EDT 2022</td>\n",
       "      <td id=\"T_abc69_row25_col1\" class=\"data row25 col1\" >ada6b9b6-3534-43b3-a567-f97092ac26f1</td>\n",
       "    </tr>\n",
       "    <tr>\n",
       "      <td id=\"T_abc69_row26_col0\" class=\"data row26 col0\" >12b-Allocation Fri Sep 09 17:32:45 EDT 2022</td>\n",
       "      <td id=\"T_abc69_row26_col1\" class=\"data row26 col1\" >b4c01f6d-8173-4d43-abd1-596bdb89d6d4</td>\n",
       "    </tr>\n",
       "    <tr>\n",
       "      <td id=\"T_abc69_row27_col0\" class=\"data row27 col0\" >Spacecraft project with Element CRUD - 2022-09-12 12:08:28.268425</td>\n",
       "      <td id=\"T_abc69_row27_col1\" class=\"data row27 col1\" >b67ebee6-b55e-4088-b059-c2f102989ac2</td>\n",
       "    </tr>\n",
       "    <tr>\n",
       "      <td id=\"T_abc69_row28_col0\" class=\"data row28 col0\" >8-Requirements Fri Sep 09 17:29:27 EDT 2022</td>\n",
       "      <td id=\"T_abc69_row28_col1\" class=\"data row28 col1\" >b6a3450b-8624-45c2-8dd9-68d301a439fe</td>\n",
       "    </tr>\n",
       "    <tr>\n",
       "      <td id=\"T_abc69_row29_col0\" class=\"data row29 col0\" >15_10-Primitive Data Types Fri Sep 09 17:36:20 EDT 2022</td>\n",
       "      <td id=\"T_abc69_row29_col1\" class=\"data row29 col1\" >bb65a453-67bc-4e6c-92c7-29734c80bab1</td>\n",
       "    </tr>\n",
       "    <tr>\n",
       "      <td id=\"T_abc69_row30_col0\" class=\"data row30 col0\" >2a-Parts Interconnection Fri Sep 09 17:23:32 EDT 2022</td>\n",
       "      <td id=\"T_abc69_row30_col1\" class=\"data row30 col1\" >c64923aa-79f4-419c-b983-6244fee741d6</td>\n",
       "    </tr>\n",
       "    <tr>\n",
       "      <td id=\"T_abc69_row31_col0\" class=\"data row31 col0\" >5-State-based Behavior-1 Fri Sep 09 17:27:37 EDT 2022</td>\n",
       "      <td id=\"T_abc69_row31_col1\" class=\"data row31 col1\" >c6b1d4d6-a66e-4097-8752-5307ecd9ebaf</td>\n",
       "    </tr>\n",
       "    <tr>\n",
       "      <td id=\"T_abc69_row32_col0\" class=\"data row32 col0\" >2a-Parts Interconnection Fri Sep 09 17:25:35 EDT 2022</td>\n",
       "      <td id=\"T_abc69_row32_col1\" class=\"data row32 col1\" >cb4e467e-772b-4054-849e-26e4b0e1e0c0</td>\n",
       "    </tr>\n",
       "    <tr>\n",
       "      <td id=\"T_abc69_row33_col0\" class=\"data row33 col0\" >10d-Dynamics Analysis Fri Sep 09 17:31:13 EDT 2022</td>\n",
       "      <td id=\"T_abc69_row33_col1\" class=\"data row33 col1\" >cceed28a-64fb-4401-81da-afcadd96d1d6</td>\n",
       "    </tr>\n",
       "    <tr>\n",
       "      <td id=\"T_abc69_row34_col0\" class=\"data row34 col0\" >13b-Safety and Security Features Element Group-2 Fri Sep 09 17:34:08 EDT 2022</td>\n",
       "      <td id=\"T_abc69_row34_col1\" class=\"data row34 col1\" >d4c21bc8-6778-4a97-b389-48b1e7b23260</td>\n",
       "    </tr>\n",
       "    <tr>\n",
       "      <td id=\"T_abc69_row35_col0\" class=\"data row35 col0\" >5-State-based Behavior-1a Fri Sep 09 17:28:06 EDT 2022</td>\n",
       "      <td id=\"T_abc69_row35_col1\" class=\"data row35 col1\" >d63b8882-f41e-40ef-a4a2-cf74fa47f6dc</td>\n",
       "    </tr>\n",
       "    <tr>\n",
       "      <td id=\"T_abc69_row36_col0\" class=\"data row36 col0\" >14c-Language Extensions Fri Sep 09 17:35:25 EDT 2022</td>\n",
       "      <td id=\"T_abc69_row36_col1\" class=\"data row36 col1\" >da4e65b6-460d-447b-8cf9-56a3ad44e514</td>\n",
       "    </tr>\n",
       "    <tr>\n",
       "      <td id=\"T_abc69_row37_col0\" class=\"data row37 col0\" >4a-Functional Allocation Fri Sep 09 17:27:13 EDT 2022</td>\n",
       "      <td id=\"T_abc69_row37_col1\" class=\"data row37 col1\" >e7090e9d-74f0-4b63-a4a6-6dd8647b5bdd</td>\n",
       "    </tr>\n",
       "    <tr>\n",
       "      <td id=\"T_abc69_row38_col0\" class=\"data row38 col0\" >Spacecraft project with Element CRUD - 2022-09-12 12:57:59.306887</td>\n",
       "      <td id=\"T_abc69_row38_col1\" class=\"data row38 col1\" >f8161e56-586e-44ae-ab12-53ad1fc972de</td>\n",
       "    </tr>\n",
       "    <tr>\n",
       "      <td id=\"T_abc69_row39_col0\" class=\"data row39 col0\" >18-Use Case Fri Sep 09 17:37:44 EDT 2022</td>\n",
       "      <td id=\"T_abc69_row39_col1\" class=\"data row39 col1\" >ff0dfcc3-cf11-4d4f-961a-ae42326f6b12</td>\n",
       "    </tr>\n",
       "  </tbody>\n",
       "</table>\n"
      ],
      "text/plain": [
       "<pandas.io.formats.style.Styler at 0x127c74490>"
      ]
     },
     "metadata": {},
     "output_type": "display_data"
    }
   ],
   "source": [
    "projects_url = f\"{host}/projects\" \n",
    "projects_response = requests.get(projects_url)\n",
    "\n",
    "if projects_response.status_code == 200:\n",
    "    projects = projects_response.json()\n",
    "    projects_data = list(map(lambda b: {'Project Name':b['name'], 'Project ID':b['@id']}, projects))\n",
    "    df = pd.DataFrame.from_records(projects_data).style.hide(axis='index')\n",
    "    # if len(projects_data) > 0:\n",
    "    #     df = df.style.sort_values(by='Project Name')\n",
    "    display(df)\n",
    "else:\n",
    "    pprint(\"Problem in fetching projects\")"
   ]
  },
  {
   "cell_type": "markdown",
   "id": "77345839-9d8f-409f-9131-440d1b30cbea",
   "metadata": {},
   "source": [
    "# Create a new project"
   ]
  },
  {
   "cell_type": "code",
   "execution_count": 5,
   "id": "6d2ba2fc-157a-4ac8-b8f3-876bbd3a21ea",
   "metadata": {},
   "outputs": [
    {
     "name": "stdout",
     "output_type": "stream",
     "text": [
      "{'@id': 'f0594c9c-55ef-49f6-9591-d27d12cc0afb',\n",
      " '@type': 'Project',\n",
      " 'defaultBranch': {'@id': 'd84e4540-56c8-485a-bace-f91b3620ada5'},\n",
      " 'description': 'Spacecraft project demonstrating Element Create, Update, '\n",
      "                'Delete steps',\n",
      " 'name': 'Spacecraft project with Element CRUD - 2022-09-12 13:16:03.708730'}\n"
     ]
    }
   ],
   "source": [
    "timestamp = datetime.now()\n",
    "project_name = f\"Spacecraft project with Element CRUD - {timestamp}\"\n",
    "project_data = {\n",
    "  \"@type\":\"Project\",\n",
    "  \"name\": project_name,\n",
    "  \"description\": \"Spacecraft project demonstrating Element Create, Update, Delete steps\"\n",
    "}\n",
    "\n",
    "project_post_url = f\"{host}/projects\" \n",
    "\n",
    "project_post_response = requests.post(project_post_url, \n",
    "                                      headers={\"Content-Type\": \"application/json\"}, \n",
    "                                      data=json.dumps(project_data))\n",
    "\n",
    "project_id = \"\"\n",
    "\n",
    "if project_post_response.status_code == 200:\n",
    "    project_response_json = project_post_response.json()\n",
    "    pprint(project_response_json)\n",
    "    project_id = project_response_json['@id']\n",
    "    project_name = project_response_json['name']\n",
    "else:\n",
    "    pprint(f\"Problem in creating a new Spacecraft project at {timestamp}\")\n",
    "    pprint(project_post_response)"
   ]
  },
  {
   "cell_type": "markdown",
   "id": "921efbfd-04a1-4c5c-8e66-b31f0390aa45",
   "metadata": {},
   "source": [
    "# Get branches"
   ]
  },
  {
   "cell_type": "code",
   "execution_count": 6,
   "id": "df3e1039-ba51-4653-8897-e98be111078e",
   "metadata": {},
   "outputs": [
    {
     "data": {
      "text/html": [
       "<style type=\"text/css\">\n",
       "</style>\n",
       "<table id=\"T_d5eb0\">\n",
       "  <thead>\n",
       "    <tr>\n",
       "      <th id=\"T_d5eb0_level0_col0\" class=\"col_heading level0 col0\" >Branch Name</th>\n",
       "      <th id=\"T_d5eb0_level0_col1\" class=\"col_heading level0 col1\" >Branch ID</th>\n",
       "      <th id=\"T_d5eb0_level0_col2\" class=\"col_heading level0 col2\" >Ref Commit (head)</th>\n",
       "    </tr>\n",
       "  </thead>\n",
       "  <tbody>\n",
       "    <tr>\n",
       "      <td id=\"T_d5eb0_row0_col0\" class=\"data row0 col0\" >main</td>\n",
       "      <td id=\"T_d5eb0_row0_col1\" class=\"data row0 col1\" >d84e4540-56c8-485a-bace-f91b3620ada5</td>\n",
       "      <td id=\"T_d5eb0_row0_col2\" class=\"data row0 col2\" >None</td>\n",
       "    </tr>\n",
       "  </tbody>\n",
       "</table>\n"
      ],
      "text/plain": [
       "<pandas.io.formats.style.Styler at 0x127c678b0>"
      ]
     },
     "metadata": {},
     "output_type": "display_data"
    }
   ],
   "source": [
    "branches_url = f\"{host}/projects/{project_id}/branches\" \n",
    "branches_response = requests.get(branches_url)\n",
    "\n",
    "if branches_response.status_code == 200:\n",
    "    branches = branches_response.json()\n",
    "    branches_data = list(map(lambda b: {'Branch Name':b['name'], 'Branch ID':b['@id'], 'Ref Commit (head)':b['head']}, branches))\n",
    "\n",
    "    df = pd.DataFrame.from_records(branches_data).sort_values(by='Branch Name').style.hide(axis='index')\n",
    "    display(df)\n",
    "else:\n",
    "    pprint(f\"Problem in fetching branches of Spacecraft project {project_id}\")\n",
    "    pprint(branches_response)"
   ]
  },
  {
   "cell_type": "markdown",
   "id": "569ca8f1-ebf1-41d2-93f3-8795a2439eea",
   "metadata": {},
   "source": [
    "# Create 1st Commit on the main (default) branch that creates 2 elements"
   ]
  },
  {
   "cell_type": "code",
   "execution_count": 7,
   "id": "3eed91b9-903b-441f-b1f2-10dbcfafa342",
   "metadata": {},
   "outputs": [
    {
     "name": "stdout",
     "output_type": "stream",
     "text": [
      "{'@id': '25853b78-df3e-44d3-9a63-c3221743d82d',\n",
      " '@type': 'Commit',\n",
      " 'owningProject': {'@id': 'f0594c9c-55ef-49f6-9591-d27d12cc0afb'},\n",
      " 'previousCommit': None,\n",
      " 'timestamp': '2022-09-12T13:16:13.843497-04:00'}\n"
     ]
    }
   ],
   "source": [
    "commit_body = {\n",
    "  \"@type\": \"Commit\",\n",
    "  \"change\": [\n",
    "    {\n",
    "      \"@type\": \"DataVersion\",\n",
    "      \"payload\": {\n",
    "        \"@type\": \"PartDefinition\",\n",
    "        \"name\":\"Spacecraft System\"\n",
    "      }\n",
    "    },\n",
    "    {\n",
    "      \"@type\": \"DataVersion\",\n",
    "      \"payload\": {\n",
    "        \"@type\": \"PartDefinition\",\n",
    "        \"name\":\"Payload System\"\n",
    "      }\n",
    "    }\n",
    "  ]\n",
    "}\n",
    "\n",
    "commit_post_url = f\"{host}/projects/{project_id}/commits\" \n",
    "\n",
    "commit_post_response = requests.post(commit_post_url, \n",
    "                                      headers={\"Content-Type\": \"application/json\"}, \n",
    "                                      data=json.dumps(commit_body))\n",
    "\n",
    "commit1_id = \"\"\n",
    "\n",
    "if commit_post_response.status_code == 200:\n",
    "    commit_response_json = commit_post_response.json()\n",
    "    pprint(commit_response_json)\n",
    "    commit1_id = commit_response_json['@id']\n",
    "else:\n",
    "    pprint(f\"Problem in creating a new commit in Spacecraft project {project_id}\")\n",
    "    pprint(commit_post_response)"
   ]
  },
  {
   "cell_type": "code",
   "execution_count": 8,
   "id": "65537f5c-f521-469e-92e4-9a2568afed05",
   "metadata": {},
   "outputs": [
    {
     "data": {
      "text/html": [
       "<style type=\"text/css\">\n",
       "</style>\n",
       "<table id=\"T_1aa87\">\n",
       "  <thead>\n",
       "    <tr>\n",
       "      <th id=\"T_1aa87_level0_col0\" class=\"col_heading level0 col0\" >Element Name</th>\n",
       "      <th id=\"T_1aa87_level0_col1\" class=\"col_heading level0 col1\" >Element ID</th>\n",
       "    </tr>\n",
       "  </thead>\n",
       "  <tbody>\n",
       "    <tr>\n",
       "      <td id=\"T_1aa87_row0_col0\" class=\"data row0 col0\" >Payload System</td>\n",
       "      <td id=\"T_1aa87_row0_col1\" class=\"data row0 col1\" >1093a5fd-5a5e-47d7-8bfd-b870ede05648</td>\n",
       "    </tr>\n",
       "    <tr>\n",
       "      <td id=\"T_1aa87_row1_col0\" class=\"data row1 col0\" >Spacecraft System</td>\n",
       "      <td id=\"T_1aa87_row1_col1\" class=\"data row1 col1\" >07a9a21c-2070-4d6b-8818-bb3bca62dfd8</td>\n",
       "    </tr>\n",
       "  </tbody>\n",
       "</table>\n"
      ],
      "text/plain": [
       "<pandas.io.formats.style.Styler at 0x127c74520>"
      ]
     },
     "metadata": {},
     "output_type": "display_data"
    }
   ],
   "source": [
    "element_get_url = f\"{host}/projects/{project_id}/commits/{commit1_id}/elements\" \n",
    "\n",
    "element_get_response = requests.get(element_get_url)\n",
    "payload_system_element_id = \"\"\n",
    "spacecraft_system_element_id = \"\"\n",
    "\n",
    "if element_get_response.status_code == 200:\n",
    "    elements = element_get_response.json()\n",
    "    \n",
    "    # Gather the id of the Payload System that is created\n",
    "    payload_system_element = list(filter(lambda e: e['name'] == \"Payload System\", elements))\n",
    "    if payload_system_element:\n",
    "        payload_system_element_id = payload_system_element[0]['@id']\n",
    "    \n",
    "    # Gather the id of the Spacecraft System that is created\n",
    "    spacecraft_system_element = list(filter(lambda e: e['name'] == \"Spacecraft System\", elements))\n",
    "    if spacecraft_system_element:\n",
    "        spacecraft_system_element_id = spacecraft_system_element[0]['@id']\n",
    "        \n",
    "    elements_data = list(map(lambda b: {'Element Name':b['name'], 'Element ID':b['@id']}, elements))\n",
    "    df = pd.DataFrame.from_records(elements_data).sort_values(by='Element Name').style.hide(axis='index')\n",
    "    display(df)\n",
    "else:\n",
    "    pprint(f\"Problem in fetching elements in the Spacecraft project {project_id} at commit {commit1_id}.\")\n",
    "    pprint(element_get_response)"
   ]
  },
  {
   "cell_type": "markdown",
   "id": "8e38b288-6517-4a7b-90e5-ae73c5f89df3",
   "metadata": {},
   "source": [
    "# Create the 2nd Commit that updates the name of one of the elements"
   ]
  },
  {
   "cell_type": "code",
   "execution_count": 9,
   "id": "76d80cb1-40c8-4f24-aeb5-51e509f4e159",
   "metadata": {
    "tags": []
   },
   "outputs": [
    {
     "name": "stdout",
     "output_type": "stream",
     "text": [
      "{'@id': 'da8991ce-1124-493b-8f34-a4bb2d0800e1',\n",
      " '@type': 'Commit',\n",
      " 'owningProject': {'@id': 'f0594c9c-55ef-49f6-9591-d27d12cc0afb'},\n",
      " 'previousCommit': {'@id': '25853b78-df3e-44d3-9a63-c3221743d82d'},\n",
      " 'timestamp': '2022-09-12T13:16:21.941689-04:00'}\n"
     ]
    }
   ],
   "source": [
    "commit_body = {\n",
    "  \"@type\": \"Commit\",\n",
    "  \"change\": [\n",
    "    {\n",
    "      \"@type\": \"DataVersion\",\n",
    "      \"payload\": {\n",
    "        \"@type\": \"PartDefinition\",\n",
    "        \"name\":\"New Payload System\",\n",
    "        \"identifier\":payload_system_element_id\n",
    "      },\n",
    "      \"identity\": {\n",
    "        \"@id\": payload_system_element_id\n",
    "      }\n",
    "    }\n",
    "  ],\n",
    "  \"previousCommit\": {\n",
    "      \"@id\": commit1_id\n",
    "    }\n",
    "}\n",
    "\n",
    "commit_post_url = f\"{host}/projects/{project_id}/commits\" \n",
    "\n",
    "commit_post_response = requests.post(commit_post_url, \n",
    "                                      headers={\"Content-Type\": \"application/json\"}, \n",
    "                                      data=json.dumps(commit_body))\n",
    "\n",
    "commit2_id = \"\"\n",
    "\n",
    "if commit_post_response.status_code == 200:\n",
    "    commit_response_json = commit_post_response.json()\n",
    "    pprint(commit_response_json)\n",
    "    commit2_id = commit_response_json['@id']\n",
    "else:\n",
    "    pprint(f\"Problem in creating a new commit in Spacecraft project {project_id}\")\n",
    "    pprint(commit_post_response)"
   ]
  },
  {
   "cell_type": "markdown",
   "id": "d815e4fe",
   "metadata": {},
   "source": [
    "# Get all elements after the 2nd commit (should show 1 element updated)"
   ]
  },
  {
   "cell_type": "code",
   "execution_count": 10,
   "id": "eac0a387-e4cf-4fc8-8b47-c64ed2ebff62",
   "metadata": {},
   "outputs": [
    {
     "data": {
      "text/html": [
       "<style type=\"text/css\">\n",
       "</style>\n",
       "<table id=\"T_8de0c\">\n",
       "  <thead>\n",
       "    <tr>\n",
       "      <th id=\"T_8de0c_level0_col0\" class=\"col_heading level0 col0\" >Element Name</th>\n",
       "      <th id=\"T_8de0c_level0_col1\" class=\"col_heading level0 col1\" >Element ID</th>\n",
       "    </tr>\n",
       "  </thead>\n",
       "  <tbody>\n",
       "    <tr>\n",
       "      <td id=\"T_8de0c_row0_col0\" class=\"data row0 col0\" >New Payload System</td>\n",
       "      <td id=\"T_8de0c_row0_col1\" class=\"data row0 col1\" >1093a5fd-5a5e-47d7-8bfd-b870ede05648</td>\n",
       "    </tr>\n",
       "    <tr>\n",
       "      <td id=\"T_8de0c_row1_col0\" class=\"data row1 col0\" >Spacecraft System</td>\n",
       "      <td id=\"T_8de0c_row1_col1\" class=\"data row1 col1\" >07a9a21c-2070-4d6b-8818-bb3bca62dfd8</td>\n",
       "    </tr>\n",
       "  </tbody>\n",
       "</table>\n"
      ],
      "text/plain": [
       "<pandas.io.formats.style.Styler at 0x1244e7b20>"
      ]
     },
     "metadata": {},
     "output_type": "display_data"
    }
   ],
   "source": [
    "element_get_url = f\"{host}/projects/{project_id}/commits/{commit2_id}/elements\" \n",
    "\n",
    "element_get_response = requests.get(element_get_url)\n",
    "\n",
    "if element_get_response.status_code == 200:\n",
    "    elements = element_get_response.json()\n",
    "    elements_data = list(map(lambda b: {'Element Name':b['name'], 'Element ID':b['@id']}, elements))\n",
    "    df = pd.DataFrame.from_records(elements_data).sort_values(by='Element Name').style.hide(axis='index')\n",
    "    display(df)\n",
    "else:\n",
    "    pprint(f\"Problem in fetching elements in the Spacecraft project {project_id} at commit {commit2_id}.\")\n",
    "    pprint(element_get_response)"
   ]
  },
  {
   "cell_type": "markdown",
   "id": "8dbea034-4180-415f-9604-8e1afb149fdc",
   "metadata": {},
   "source": [
    "# Create the 3rd commit that deletes an element (same one whose name was updated)"
   ]
  },
  {
   "cell_type": "code",
   "execution_count": 11,
   "id": "055f42b3-18de-4f94-ae53-43660948493b",
   "metadata": {},
   "outputs": [
    {
     "name": "stdout",
     "output_type": "stream",
     "text": [
      "{'@id': '00f0b229-7e70-4688-80e8-ae2eafc0ce8e',\n",
      " '@type': 'Commit',\n",
      " 'owningProject': {'@id': 'f0594c9c-55ef-49f6-9591-d27d12cc0afb'},\n",
      " 'previousCommit': {'@id': 'da8991ce-1124-493b-8f34-a4bb2d0800e1'},\n",
      " 'timestamp': '2022-09-12T13:16:45.992847-04:00'}\n"
     ]
    }
   ],
   "source": [
    "commit_body = {\n",
    "  \"@type\": \"Commit\",\n",
    "  \"change\": [\n",
    "    {\n",
    "      \"@type\": \"DataVersion\",\n",
    "      \"payload\":None,\n",
    "      \"identity\": {\n",
    "        \"@id\": payload_system_element_id\n",
    "      }\n",
    "    }\n",
    "  ],\n",
    "  \"previousCommit\": {\n",
    "      \"@id\": commit2_id\n",
    "    }\n",
    "}\n",
    "\n",
    "commit_post_url = f\"{host}/projects/{project_id}/commits\" \n",
    "\n",
    "commit_post_response = requests.post(commit_post_url, \n",
    "                                      headers={\"Content-Type\": \"application/json\"}, \n",
    "                                      data=json.dumps(commit_body))\n",
    "\n",
    "commit3_id = \"\"\n",
    "\n",
    "if commit_post_response.status_code == 200:\n",
    "    commit_response_json = commit_post_response.json()\n",
    "    pprint(commit_response_json)\n",
    "    commit3_id = commit_response_json['@id']\n",
    "else:\n",
    "    pprint(f\"Problem in creating a new commit in Spacecraft project {project_id}\")\n",
    "    pprint(commit_post_response)"
   ]
  },
  {
   "cell_type": "markdown",
   "id": "61cdaecd-44db-4e27-85dd-de5d002648cc",
   "metadata": {},
   "source": [
    "# Get all elements after the 3rd commit (should only 1 element)"
   ]
  },
  {
   "cell_type": "code",
   "execution_count": 12,
   "id": "86008838-368a-4e58-9d5b-70e9c57442f4",
   "metadata": {},
   "outputs": [
    {
     "name": "stdout",
     "output_type": "stream",
     "text": [
      "'Fetching elements at commit da8991ce-1124-493b-8f34-a4bb2d0800e1'\n"
     ]
    },
    {
     "data": {
      "text/html": [
       "<style type=\"text/css\">\n",
       "</style>\n",
       "<table id=\"T_2c820\">\n",
       "  <thead>\n",
       "    <tr>\n",
       "      <th id=\"T_2c820_level0_col0\" class=\"col_heading level0 col0\" >Element Name</th>\n",
       "      <th id=\"T_2c820_level0_col1\" class=\"col_heading level0 col1\" >Element ID</th>\n",
       "    </tr>\n",
       "  </thead>\n",
       "  <tbody>\n",
       "    <tr>\n",
       "      <td id=\"T_2c820_row0_col0\" class=\"data row0 col0\" >Spacecraft System</td>\n",
       "      <td id=\"T_2c820_row0_col1\" class=\"data row0 col1\" >07a9a21c-2070-4d6b-8818-bb3bca62dfd8</td>\n",
       "    </tr>\n",
       "  </tbody>\n",
       "</table>\n"
      ],
      "text/plain": [
       "<pandas.io.formats.style.Styler at 0x127ea2550>"
      ]
     },
     "metadata": {},
     "output_type": "display_data"
    }
   ],
   "source": [
    "pprint(f\"Fetching elements at commit {commit2_id}\")\n",
    "element_get_url = f\"{host}/projects/{project_id}/commits/{commit3_id}/elements\" \n",
    "\n",
    "element_get_response = requests.get(element_get_url)\n",
    "\n",
    "if element_get_response.status_code == 200:\n",
    "    elements = element_get_response.json()\n",
    "    elements_data = list(map(lambda b: {'Element Name':b['name'], 'Element ID':b['@id']}, elements))\n",
    "    df = pd.DataFrame.from_records(elements_data).sort_values(by='Element Name').style.hide(axis='index')\n",
    "    display(df)\n",
    "else:\n",
    "    pprint(f\"Problem in fetching elements in the Spacecraft project {project_id} at commit {commit2_id}\")\n",
    "    pprint(element_get_response)"
   ]
  }
 ],
 "metadata": {
  "kernelspec": {
   "display_name": "Python 3 (ipykernel)",
   "language": "python",
   "name": "python3"
  },
  "language_info": {
   "codemirror_mode": {
    "name": "ipython",
    "version": 3
   },
   "file_extension": ".py",
   "mimetype": "text/x-python",
   "name": "python",
   "nbconvert_exporter": "python",
   "pygments_lexer": "ipython3",
   "version": "3.8.13"
  }
 },
 "nbformat": 4,
 "nbformat_minor": 5
}
