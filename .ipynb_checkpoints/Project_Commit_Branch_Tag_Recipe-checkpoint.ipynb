{
 "cells": [
  {
   "cell_type": "markdown",
   "id": "3ee4834f",
   "metadata": {
    "tags": []
   },
   "source": [
    "# Initializing the SysML v2 API"
   ]
  },
  {
   "cell_type": "code",
   "execution_count": 138,
   "id": "6b5fef59",
   "metadata": {},
   "outputs": [],
   "source": [
    "from __future__ import print_function\n",
    "\n",
    "import time\n",
    "import requests\n",
    "from pprint import pprint\n",
    "import pandas as pd\n",
    "import json\n",
    "from datetime import datetime\n",
    "\n",
    "#host = \"<specify protocol://host:port of the server that is a provider of the SysML v2 REST/HTTP API\"\n",
    "host = \"Specify the URL of the SysML v2 API and Service Repository\""
   ]
  },
  {
   "cell_type": "markdown",
   "id": "04c1ff93",
   "metadata": {},
   "source": [
    "# Get projects"
   ]
  },
  {
   "cell_type": "code",
   "execution_count": 139,
   "id": "78788ed9",
   "metadata": {},
   "outputs": [
    {
     "data": {
      "text/html": [
       "<style type=\"text/css\">\n",
       "</style>\n",
       "<table id=\"T_7dc77\">\n",
       "  <thead>\n",
       "    <tr>\n",
       "      <th id=\"T_7dc77_level0_col0\" class=\"col_heading level0 col0\" >Project Name</th>\n",
       "      <th id=\"T_7dc77_level0_col1\" class=\"col_heading level0 col1\" >Project ID</th>\n",
       "    </tr>\n",
       "  </thead>\n",
       "  <tbody>\n",
       "    <tr>\n",
       "      <td id=\"T_7dc77_row0_col0\" class=\"data row0 col0\" >12b-Allocation Fri Nov 04 19:01:21 EDT 2022</td>\n",
       "      <td id=\"T_7dc77_row0_col1\" class=\"data row0 col1\" >001c5431-b990-4e30-8c54-92f9a864ec97</td>\n",
       "    </tr>\n",
       "    <tr>\n",
       "      <td id=\"T_7dc77_row1_col0\" class=\"data row1 col0\" >13a-Model Containment Fri Nov 04 19:01:50 EDT 2022</td>\n",
       "      <td id=\"T_7dc77_row1_col1\" class=\"data row1 col1\" >02c58637-1259-4f3c-8239-93ceadc093a8</td>\n",
       "    </tr>\n",
       "    <tr>\n",
       "      <td id=\"T_7dc77_row2_col0\" class=\"data row2 col0\" >15_05-Unification of Expression and Constraint Definition Fri Nov 04 19:05:41 EDT 2022</td>\n",
       "      <td id=\"T_7dc77_row2_col1\" class=\"data row2 col1\" >0464d784-a8a9-4b83-b791-ea987f1d314f</td>\n",
       "    </tr>\n",
       "    <tr>\n",
       "      <td id=\"T_7dc77_row3_col0\" class=\"data row3 col0\" >15_10-Primitive Data Types Fri Nov 04 16:26:37 EDT 2022</td>\n",
       "      <td id=\"T_7dc77_row3_col1\" class=\"data row3 col1\" >0846c1fc-908a-4f31-b0a0-92b697ef9cbc</td>\n",
       "    </tr>\n",
       "    <tr>\n",
       "      <td id=\"T_7dc77_row4_col0\" class=\"data row4 col0\" >3a-Function-based Behavior-2 Fri Nov 04 16:10:36 EDT 2022</td>\n",
       "      <td id=\"T_7dc77_row4_col1\" class=\"data row4 col1\" >0ed6d350-8b64-430d-b51d-485f8593fc53</td>\n",
       "    </tr>\n",
       "    <tr>\n",
       "      <td id=\"T_7dc77_row5_col0\" class=\"data row5 col0\" >17b-Sequence-Modeling Fri Nov 04 19:07:56 EDT 2022</td>\n",
       "      <td id=\"T_7dc77_row5_col1\" class=\"data row5 col1\" >122c3e3d-f91b-47a6-80ad-88d4b9e80716</td>\n",
       "    </tr>\n",
       "    <tr>\n",
       "      <td id=\"T_7dc77_row6_col0\" class=\"data row6 col0\" >12b-Allocation Fri Nov 04 16:21:29 EDT 2022</td>\n",
       "      <td id=\"T_7dc77_row6_col1\" class=\"data row6 col1\" >13fb75cb-89f8-42b6-9f4e-b6d5bc28edf6</td>\n",
       "    </tr>\n",
       "    <tr>\n",
       "      <td id=\"T_7dc77_row7_col0\" class=\"data row7 col0\" >7b-Variant Configurations Fri Nov 04 16:15:18 EDT 2022</td>\n",
       "      <td id=\"T_7dc77_row7_col1\" class=\"data row7 col1\" >165b93d8-ba8f-4c1e-b2f1-440613ae81fe</td>\n",
       "    </tr>\n",
       "    <tr>\n",
       "      <td id=\"T_7dc77_row8_col0\" class=\"data row8 col0\" >2a-Parts Interconnection Fri Nov 04 16:09:04 EDT 2022</td>\n",
       "      <td id=\"T_7dc77_row8_col1\" class=\"data row8 col1\" >1b07b57e-7632-4da3-8d59-dc32442496f3</td>\n",
       "    </tr>\n",
       "    <tr>\n",
       "      <td id=\"T_7dc77_row9_col0\" class=\"data row9 col0\" >Spacecraft project with branches and tags - 2022-11-05 21:02:55.729180</td>\n",
       "      <td id=\"T_7dc77_row9_col1\" class=\"data row9 col1\" >1cb23e7a-4d70-487e-89ad-1cd8a22efb9e</td>\n",
       "    </tr>\n",
       "    <tr>\n",
       "      <td id=\"T_7dc77_row10_col0\" class=\"data row10 col0\" >3a-Function-based Behavior-3 Fri Nov 04 16:11:12 EDT 2022</td>\n",
       "      <td id=\"T_7dc77_row10_col1\" class=\"data row10 col1\" >21c076b8-078a-4fdc-9e95-551210840042</td>\n",
       "    </tr>\n",
       "    <tr>\n",
       "      <td id=\"T_7dc77_row11_col0\" class=\"data row11 col0\" >Spacecraft project with branches and tags - 2022-11-05 20:47:28.858871</td>\n",
       "      <td id=\"T_7dc77_row11_col1\" class=\"data row11 col1\" >24503a6b-8b0e-47c3-8a75-28f68d1610a8</td>\n",
       "    </tr>\n",
       "    <tr>\n",
       "      <td id=\"T_7dc77_row12_col0\" class=\"data row12 col0\" >10b-Trade-off Among Alternative Configurations Fri Nov 04 18:57:31 EDT 2022</td>\n",
       "      <td id=\"T_7dc77_row12_col1\" class=\"data row12 col1\" >26225070-5b08-42a6-911e-0f8e9a2c42fa</td>\n",
       "    </tr>\n",
       "    <tr>\n",
       "      <td id=\"T_7dc77_row13_col0\" class=\"data row13 col0\" >14c-Language Extensions Fri Nov 04 16:25:03 EDT 2022</td>\n",
       "      <td id=\"T_7dc77_row13_col1\" class=\"data row13 col1\" >37c1510f-670a-45b9-a702-1a8c0faf5449</td>\n",
       "    </tr>\n",
       "    <tr>\n",
       "      <td id=\"T_7dc77_row14_col0\" class=\"data row14 col0\" >11b-Safety and Security Feature Views Fri Nov 04 19:00:14 EDT 2022</td>\n",
       "      <td id=\"T_7dc77_row14_col1\" class=\"data row14 col1\" >37e56e5e-28d7-44c1-b852-a336f4cfc28e</td>\n",
       "    </tr>\n",
       "    <tr>\n",
       "      <td id=\"T_7dc77_row15_col0\" class=\"data row15 col0\" >13b-Safety and Security Features Element Group Fri Nov 04 16:22:25 EDT 2022</td>\n",
       "      <td id=\"T_7dc77_row15_col1\" class=\"data row15 col1\" >384f296b-0600-4dad-9847-bfcfed4099a3</td>\n",
       "    </tr>\n",
       "    <tr>\n",
       "      <td id=\"T_7dc77_row16_col0\" class=\"data row16 col0\" >14c-Language Extensions Fri Nov 04 19:04:51 EDT 2022</td>\n",
       "      <td id=\"T_7dc77_row16_col1\" class=\"data row16 col1\" >39c9d18f-8135-45b3-892d-ef4768499c12</td>\n",
       "    </tr>\n",
       "    <tr>\n",
       "      <td id=\"T_7dc77_row17_col0\" class=\"data row17 col0\" >18-Use Case Fri Nov 04 19:08:26 EDT 2022</td>\n",
       "      <td id=\"T_7dc77_row17_col1\" class=\"data row17 col1\" >3facdbcd-7687-441f-98e2-082e539a7a50</td>\n",
       "    </tr>\n",
       "    <tr>\n",
       "      <td id=\"T_7dc77_row18_col0\" class=\"data row18 col0\" >12a-Dependency Fri Nov 04 16:21:03 EDT 2022</td>\n",
       "      <td id=\"T_7dc77_row18_col1\" class=\"data row18 col1\" >4f3041a7-f526-4e1c-ad48-8c58e0d25c7b</td>\n",
       "    </tr>\n",
       "    <tr>\n",
       "      <td id=\"T_7dc77_row19_col0\" class=\"data row19 col0\" >13b-Safety and Security Features Element Group Fri Nov 04 19:02:16 EDT 2022</td>\n",
       "      <td id=\"T_7dc77_row19_col1\" class=\"data row19 col1\" >50b49316-9890-47c8-8e16-1ffd76f0baa6</td>\n",
       "    </tr>\n",
       "    <tr>\n",
       "      <td id=\"T_7dc77_row20_col0\" class=\"data row20 col0\" >5-State-based Behavior-1a Fri Nov 04 18:53:45 EDT 2022</td>\n",
       "      <td id=\"T_7dc77_row20_col1\" class=\"data row20 col1\" >5149bf16-3904-49f4-89a6-9a3a0ccfd167</td>\n",
       "    </tr>\n",
       "    <tr>\n",
       "      <td id=\"T_7dc77_row21_col0\" class=\"data row21 col0\" >17b-Sequence-Modeling Fri Nov 04 16:28:20 EDT 2022</td>\n",
       "      <td id=\"T_7dc77_row21_col1\" class=\"data row21 col1\" >54f2da76-1c3b-4e3f-a6e3-64882bac71f4</td>\n",
       "    </tr>\n",
       "    <tr>\n",
       "      <td id=\"T_7dc77_row22_col0\" class=\"data row22 col0\" >4a-Functional Allocation Fri Nov 04 16:12:20 EDT 2022</td>\n",
       "      <td id=\"T_7dc77_row22_col1\" class=\"data row22 col1\" >57403ab6-ebe0-4790-8c97-37e64ec40efe</td>\n",
       "    </tr>\n",
       "    <tr>\n",
       "      <td id=\"T_7dc77_row23_col0\" class=\"data row23 col0\" >13b-Safety and Security Features Element Group-2 Fri Nov 04 16:23:28 EDT 2022</td>\n",
       "      <td id=\"T_7dc77_row23_col1\" class=\"data row23 col1\" >58a058e4-860e-4ff2-b00b-b37bab0e6d1d</td>\n",
       "    </tr>\n",
       "    <tr>\n",
       "      <td id=\"T_7dc77_row24_col0\" class=\"data row24 col0\" >5-State-based Behavior-1a Fri Nov 04 16:13:48 EDT 2022</td>\n",
       "      <td id=\"T_7dc77_row24_col1\" class=\"data row24 col1\" >6301fa4a-ff17-4a23-8804-901cd8d6edec</td>\n",
       "    </tr>\n",
       "    <tr>\n",
       "      <td id=\"T_7dc77_row25_col0\" class=\"data row25 col0\" >17a-Sequence-Modeling Fri Nov 04 16:27:49 EDT 2022</td>\n",
       "      <td id=\"T_7dc77_row25_col1\" class=\"data row25 col1\" >69becd54-6e04-4609-8859-5e4f3dffbf3a</td>\n",
       "    </tr>\n",
       "    <tr>\n",
       "      <td id=\"T_7dc77_row26_col0\" class=\"data row26 col0\" >11a-View-Viewpoint Fri Nov 04 16:19:46 EDT 2022</td>\n",
       "      <td id=\"T_7dc77_row26_col1\" class=\"data row26 col1\" >6b37b7e5-22ff-4c00-a7ff-24e6d2b8aa24</td>\n",
       "    </tr>\n",
       "    <tr>\n",
       "      <td id=\"T_7dc77_row27_col0\" class=\"data row27 col0\" >6-Individual and Snapshots Fri Nov 04 16:14:38 EDT 2022</td>\n",
       "      <td id=\"T_7dc77_row27_col1\" class=\"data row27 col1\" >73a3e7fc-86a4-47e7-8b53-9620a2348e74</td>\n",
       "    </tr>\n",
       "    <tr>\n",
       "      <td id=\"T_7dc77_row28_col0\" class=\"data row28 col0\" >14b-Language Extensions Fri Nov 04 19:04:22 EDT 2022</td>\n",
       "      <td id=\"T_7dc77_row28_col1\" class=\"data row28 col1\" >79065a85-a007-48ba-ad2e-4de5985d17d8</td>\n",
       "    </tr>\n",
       "    <tr>\n",
       "      <td id=\"T_7dc77_row29_col0\" class=\"data row29 col0\" >10c-Fuel Economy Analysis Fri Nov 04 18:58:07 EDT 2022</td>\n",
       "      <td id=\"T_7dc77_row29_col1\" class=\"data row29 col1\" >79f27bb9-964d-4e16-8a8e-28405fe3d434</td>\n",
       "    </tr>\n",
       "    <tr>\n",
       "      <td id=\"T_7dc77_row30_col0\" class=\"data row30 col0\" >9-Verification-simplified Fri Nov 04 16:16:53 EDT 2022</td>\n",
       "      <td id=\"T_7dc77_row30_col1\" class=\"data row30 col1\" >81a85b86-67f5-42c1-812a-a08346861392</td>\n",
       "    </tr>\n",
       "    <tr>\n",
       "      <td id=\"T_7dc77_row31_col0\" class=\"data row31 col0\" >10c-Fuel Economy Analysis Fri Nov 04 16:18:12 EDT 2022</td>\n",
       "      <td id=\"T_7dc77_row31_col1\" class=\"data row31 col1\" >822d6391-0392-48b0-8e5d-d0eafb23c1a8</td>\n",
       "    </tr>\n",
       "    <tr>\n",
       "      <td id=\"T_7dc77_row32_col0\" class=\"data row32 col0\" >13b-Safety and Security Features Element Group-1 Fri Nov 04 19:02:42 EDT 2022</td>\n",
       "      <td id=\"T_7dc77_row32_col1\" class=\"data row32 col1\" >85d78565-1e4e-4da4-94c2-e459c0b7b9fe</td>\n",
       "    </tr>\n",
       "    <tr>\n",
       "      <td id=\"T_7dc77_row33_col0\" class=\"data row33 col0\" >7b-Variant Configurations Fri Nov 04 18:55:14 EDT 2022</td>\n",
       "      <td id=\"T_7dc77_row33_col1\" class=\"data row33 col1\" >8b54f0cb-e38f-400f-939b-88234de899bd</td>\n",
       "    </tr>\n",
       "    <tr>\n",
       "      <td id=\"T_7dc77_row34_col0\" class=\"data row34 col0\" >17a-Sequence-Modeling Fri Nov 04 19:07:26 EDT 2022</td>\n",
       "      <td id=\"T_7dc77_row34_col1\" class=\"data row34 col1\" >8b9f2620-4bc9-4342-a9fd-320109d0e83f</td>\n",
       "    </tr>\n",
       "    <tr>\n",
       "      <td id=\"T_7dc77_row35_col0\" class=\"data row35 col0\" >8-Requirements Fri Nov 04 18:56:05 EDT 2022</td>\n",
       "      <td id=\"T_7dc77_row35_col1\" class=\"data row35 col1\" >933249c0-2d0b-44ef-8ece-9a12a36e5879</td>\n",
       "    </tr>\n",
       "    <tr>\n",
       "      <td id=\"T_7dc77_row36_col0\" class=\"data row36 col0\" >8-Requirements Fri Nov 04 16:16:08 EDT 2022</td>\n",
       "      <td id=\"T_7dc77_row36_col1\" class=\"data row36 col1\" >9548cafc-7b0e-4a74-89eb-e11f106cf8aa</td>\n",
       "    </tr>\n",
       "    <tr>\n",
       "      <td id=\"T_7dc77_row37_col0\" class=\"data row37 col0\" >3a-Function-based Behavior-3 Fri Nov 04 18:51:07 EDT 2022</td>\n",
       "      <td id=\"T_7dc77_row37_col1\" class=\"data row37 col1\" >96d558d1-74fb-4875-aca7-71a9cf63d110</td>\n",
       "    </tr>\n",
       "    <tr>\n",
       "      <td id=\"T_7dc77_row38_col0\" class=\"data row38 col0\" >9-Verification-simplified Fri Nov 04 18:56:53 EDT 2022</td>\n",
       "      <td id=\"T_7dc77_row38_col1\" class=\"data row38 col1\" >9be5911d-fff8-41d0-8927-1be306edf2ee</td>\n",
       "    </tr>\n",
       "    <tr>\n",
       "      <td id=\"T_7dc77_row39_col0\" class=\"data row39 col0\" >15_05-Unification of Expression and Constraint Definition Fri Nov 04 16:25:58 EDT 2022</td>\n",
       "      <td id=\"T_7dc77_row39_col1\" class=\"data row39 col1\" >9c80741b-98c1-4521-b458-7de76fc98e51</td>\n",
       "    </tr>\n",
       "    <tr>\n",
       "      <td id=\"T_7dc77_row40_col0\" class=\"data row40 col0\" >12a-Dependency Fri Nov 04 19:00:54 EDT 2022</td>\n",
       "      <td id=\"T_7dc77_row40_col1\" class=\"data row40 col1\" >9e4796a3-7387-4176-8175-a30fef0fa0f1</td>\n",
       "    </tr>\n",
       "    <tr>\n",
       "      <td id=\"T_7dc77_row41_col0\" class=\"data row41 col0\" >13b-Safety and Security Features Element Group-2 Fri Nov 04 19:03:17 EDT 2022</td>\n",
       "      <td id=\"T_7dc77_row41_col1\" class=\"data row41 col1\" >a49e0b2a-8e89-4cea-b6d8-b564483ae945</td>\n",
       "    </tr>\n",
       "    <tr>\n",
       "      <td id=\"T_7dc77_row42_col0\" class=\"data row42 col0\" >10d-Dynamics Analysis Fri Nov 04 18:58:53 EDT 2022</td>\n",
       "      <td id=\"T_7dc77_row42_col1\" class=\"data row42 col1\" >a7cca448-e3aa-476b-baf9-2628d8fce70b</td>\n",
       "    </tr>\n",
       "    <tr>\n",
       "      <td id=\"T_7dc77_row43_col0\" class=\"data row43 col0\" >3d-Function-based Behavior-item Fri Nov 04 18:51:40 EDT 2022</td>\n",
       "      <td id=\"T_7dc77_row43_col1\" class=\"data row43 col1\" >a8b2dab5-1e5b-4884-bbcf-6d8cd5f593b5</td>\n",
       "    </tr>\n",
       "    <tr>\n",
       "      <td id=\"T_7dc77_row44_col0\" class=\"data row44 col0\" >5-State-based Behavior-1 Fri Nov 04 18:52:54 EDT 2022</td>\n",
       "      <td id=\"T_7dc77_row44_col1\" class=\"data row44 col1\" >af7ad505-9c13-4043-9e22-28b88082d165</td>\n",
       "    </tr>\n",
       "    <tr>\n",
       "      <td id=\"T_7dc77_row45_col0\" class=\"data row45 col0\" >3a-Function-based Behavior-1 Fri Nov 04 16:09:57 EDT 2022</td>\n",
       "      <td id=\"T_7dc77_row45_col1\" class=\"data row45 col1\" >b156694a-bf43-4b6e-b6f8-b825a5b748e5</td>\n",
       "    </tr>\n",
       "    <tr>\n",
       "      <td id=\"T_7dc77_row46_col0\" class=\"data row46 col0\" >6-Individual and Snapshots Fri Nov 04 18:54:36 EDT 2022</td>\n",
       "      <td id=\"T_7dc77_row46_col1\" class=\"data row46 col1\" >b293b000-1a48-4ef2-8080-b35e9d9e6d16</td>\n",
       "    </tr>\n",
       "    <tr>\n",
       "      <td id=\"T_7dc77_row47_col0\" class=\"data row47 col0\" >3d-Function-based Behavior-item Fri Nov 04 16:11:44 EDT 2022</td>\n",
       "      <td id=\"T_7dc77_row47_col1\" class=\"data row47 col1\" >b402c413-67e5-45b7-b4a7-decb4f88f1ec</td>\n",
       "    </tr>\n",
       "    <tr>\n",
       "      <td id=\"T_7dc77_row48_col0\" class=\"data row48 col0\" >14a-Language Extensions Fri Nov 04 16:24:05 EDT 2022</td>\n",
       "      <td id=\"T_7dc77_row48_col1\" class=\"data row48 col1\" >bde47251-8494-443f-b82c-10f2333514e9</td>\n",
       "    </tr>\n",
       "    <tr>\n",
       "      <td id=\"T_7dc77_row49_col0\" class=\"data row49 col0\" >13b-Safety and Security Features Element Group-1 Fri Nov 04 16:22:53 EDT 2022</td>\n",
       "      <td id=\"T_7dc77_row49_col1\" class=\"data row49 col1\" >bed09632-6252-4945-b24a-f16def2b4160</td>\n",
       "    </tr>\n",
       "    <tr>\n",
       "      <td id=\"T_7dc77_row50_col0\" class=\"data row50 col0\" >14b-Language Extensions Fri Nov 04 16:24:33 EDT 2022</td>\n",
       "      <td id=\"T_7dc77_row50_col1\" class=\"data row50 col1\" >c1a44499-39fc-4fbd-aebf-34747b6286f0</td>\n",
       "    </tr>\n",
       "    <tr>\n",
       "      <td id=\"T_7dc77_row51_col0\" class=\"data row51 col0\" >18-Use Case Fri Nov 04 16:28:51 EDT 2022</td>\n",
       "      <td id=\"T_7dc77_row51_col1\" class=\"data row51 col1\" >c48aef95-2ce1-4db0-812d-6174af61def6</td>\n",
       "    </tr>\n",
       "    <tr>\n",
       "      <td id=\"T_7dc77_row52_col0\" class=\"data row52 col0\" >13a-Model Containment Fri Nov 04 16:21:57 EDT 2022</td>\n",
       "      <td id=\"T_7dc77_row52_col1\" class=\"data row52 col1\" >c9a9c7c8-3859-4758-8852-7f36365c142c</td>\n",
       "    </tr>\n",
       "    <tr>\n",
       "      <td id=\"T_7dc77_row53_col0\" class=\"data row53 col0\" >3a-Function-based Behavior-1 Fri Nov 04 18:49:56 EDT 2022</td>\n",
       "      <td id=\"T_7dc77_row53_col1\" class=\"data row53 col1\" >cb4e32f2-556f-46dc-989c-4298d0ce0b47</td>\n",
       "    </tr>\n",
       "    <tr>\n",
       "      <td id=\"T_7dc77_row54_col0\" class=\"data row54 col0\" >15_19-Materials with Properties Fri Nov 04 19:06:44 EDT 2022</td>\n",
       "      <td id=\"T_7dc77_row54_col1\" class=\"data row54 col1\" >cb65e8f6-2b62-44f2-ac1d-a729365c9ba2</td>\n",
       "    </tr>\n",
       "    <tr>\n",
       "      <td id=\"T_7dc77_row55_col0\" class=\"data row55 col0\" >3a-Function-based Behavior-2 Fri Nov 04 18:50:31 EDT 2022</td>\n",
       "      <td id=\"T_7dc77_row55_col1\" class=\"data row55 col1\" >cdebea2c-f2f2-4931-9163-250d6e79e376</td>\n",
       "    </tr>\n",
       "    <tr>\n",
       "      <td id=\"T_7dc77_row56_col0\" class=\"data row56 col0\" >10b-Trade-off Among Alternative Configurations Fri Nov 04 16:17:35 EDT 2022</td>\n",
       "      <td id=\"T_7dc77_row56_col1\" class=\"data row56 col1\" >d053582a-8e01-4ea9-a801-828c641eb303</td>\n",
       "    </tr>\n",
       "    <tr>\n",
       "      <td id=\"T_7dc77_row57_col0\" class=\"data row57 col0\" >10d-Dynamics Analysis Fri Nov 04 16:19:01 EDT 2022</td>\n",
       "      <td id=\"T_7dc77_row57_col1\" class=\"data row57 col1\" >d362b373-2ada-4fb3-9b6d-4700485d7781</td>\n",
       "    </tr>\n",
       "    <tr>\n",
       "      <td id=\"T_7dc77_row58_col0\" class=\"data row58 col0\" >11b-Safety and Security Feature Views Fri Nov 04 16:20:23 EDT 2022</td>\n",
       "      <td id=\"T_7dc77_row58_col1\" class=\"data row58 col1\" >d831cb7f-46d6-4fb6-860e-cbc616b3f006</td>\n",
       "    </tr>\n",
       "    <tr>\n",
       "      <td id=\"T_7dc77_row59_col0\" class=\"data row59 col0\" >4a-Functional Allocation Fri Nov 04 18:52:16 EDT 2022</td>\n",
       "      <td id=\"T_7dc77_row59_col1\" class=\"data row59 col1\" >da6d8a97-f334-4d44-bfd1-5dc947272e50</td>\n",
       "    </tr>\n",
       "    <tr>\n",
       "      <td id=\"T_7dc77_row60_col0\" class=\"data row60 col0\" >1c-Parts Tree Redefinition Fri Nov 04 18:48:23 EDT 2022</td>\n",
       "      <td id=\"T_7dc77_row60_col1\" class=\"data row60 col1\" >daf07ca6-a861-4a7a-a8d3-1167b3de80a0</td>\n",
       "    </tr>\n",
       "    <tr>\n",
       "      <td id=\"T_7dc77_row61_col0\" class=\"data row61 col0\" >14a-Language Extensions Fri Nov 04 19:03:56 EDT 2022</td>\n",
       "      <td id=\"T_7dc77_row61_col1\" class=\"data row61 col1\" >ddd43252-33e9-4998-a351-6bfccaec32c6</td>\n",
       "    </tr>\n",
       "    <tr>\n",
       "      <td id=\"T_7dc77_row62_col0\" class=\"data row62 col0\" >11a-View-Viewpoint Fri Nov 04 18:59:39 EDT 2022</td>\n",
       "      <td id=\"T_7dc77_row62_col1\" class=\"data row62 col1\" >de89c221-40f6-43ea-9325-64c59b269e99</td>\n",
       "    </tr>\n",
       "    <tr>\n",
       "      <td id=\"T_7dc77_row63_col0\" class=\"data row63 col0\" >15_19-Materials with Properties Fri Nov 04 16:27:09 EDT 2022</td>\n",
       "      <td id=\"T_7dc77_row63_col1\" class=\"data row63 col1\" >eb8083f7-c109-48fb-bb6b-e4add07025de</td>\n",
       "    </tr>\n",
       "    <tr>\n",
       "      <td id=\"T_7dc77_row64_col0\" class=\"data row64 col0\" >15_10-Primitive Data Types Fri Nov 04 19:06:16 EDT 2022</td>\n",
       "      <td id=\"T_7dc77_row64_col1\" class=\"data row64 col1\" >ed767842-8f7d-404a-b80e-75b46fc6ba27</td>\n",
       "    </tr>\n",
       "    <tr>\n",
       "      <td id=\"T_7dc77_row65_col0\" class=\"data row65 col0\" >1c-Parts Tree Redefinition Fri Nov 04 16:08:10 EDT 2022</td>\n",
       "      <td id=\"T_7dc77_row65_col1\" class=\"data row65 col1\" >ed996c79-9e4b-4a73-bf9e-75fa21529c1d</td>\n",
       "    </tr>\n",
       "    <tr>\n",
       "      <td id=\"T_7dc77_row66_col0\" class=\"data row66 col0\" >2a-Parts Interconnection Fri Nov 04 18:49:09 EDT 2022</td>\n",
       "      <td id=\"T_7dc77_row66_col1\" class=\"data row66 col1\" >efa66033-3120-47c4-8315-1f6c3e0c2038</td>\n",
       "    </tr>\n",
       "    <tr>\n",
       "      <td id=\"T_7dc77_row67_col0\" class=\"data row67 col0\" >Spacecraft project with branches and tags - 2022-11-05 20:48:22.447068</td>\n",
       "      <td id=\"T_7dc77_row67_col1\" class=\"data row67 col1\" >f7667382-4bba-4fcb-93d6-cc84df8811d2</td>\n",
       "    </tr>\n",
       "    <tr>\n",
       "      <td id=\"T_7dc77_row68_col0\" class=\"data row68 col0\" >5-State-based Behavior-1 Fri Nov 04 16:12:59 EDT 2022</td>\n",
       "      <td id=\"T_7dc77_row68_col1\" class=\"data row68 col1\" >f77f806b-d4e7-48ae-93aa-85bff59bd55a</td>\n",
       "    </tr>\n",
       "  </tbody>\n",
       "</table>\n"
      ],
      "text/plain": [
       "<pandas.io.formats.style.Styler at 0x1095dc790>"
      ]
     },
     "metadata": {},
     "output_type": "display_data"
    }
   ],
   "source": [
    "projects_url = f\"{host}/projects\" \n",
    "projects_response = requests.get(projects_url)\n",
    "\n",
    "if projects_response.status_code == 200:\n",
    "    projects = projects_response.json()\n",
    "    projects_data = list(map(lambda b: {'Project Name':b['name'], 'Project ID':b['@id']}, projects))\n",
    "    df = pd.DataFrame.from_records(projects_data).style.hide(axis='index')\n",
    "    # if len(projects_data) > 0:\n",
    "    #     df = df.style.sort_values(by='Project Name')\n",
    "    display(df)\n",
    "else:\n",
    "    pprint(\"Problem in fetching projects\")"
   ]
  },
  {
   "cell_type": "markdown",
   "id": "77345839-9d8f-409f-9131-440d1b30cbea",
   "metadata": {},
   "source": [
    "# Create a new project"
   ]
  },
  {
   "cell_type": "code",
   "execution_count": 121,
   "id": "6d2ba2fc-157a-4ac8-b8f3-876bbd3a21ea",
   "metadata": {},
   "outputs": [
    {
     "name": "stdout",
     "output_type": "stream",
     "text": [
      "{'@id': '1cb23e7a-4d70-487e-89ad-1cd8a22efb9e',\n",
      " '@type': 'Project',\n",
      " 'created': '2022-11-05T21:02:55.930924-04:00',\n",
      " 'defaultBranch': {'@id': 'b20df3d4-bb46-489f-b312-858952c21d89'},\n",
      " 'description': 'Spacecraft project with multiple commits, branches, and tags',\n",
      " 'name': 'Spacecraft project with branches and tags - 2022-11-05 '\n",
      "         '21:02:55.729180'}\n"
     ]
    }
   ],
   "source": [
    "timestamp = datetime.now()\n",
    "project_name = f\"Spacecraft project with branches and tags - {timestamp}\"\n",
    "project_data = {\n",
    "  \"@type\":\"Project\",\n",
    "  \"name\": project_name,\n",
    "  \"description\": \"Spacecraft project with multiple commits, branches, and tags\"\n",
    "}\n",
    "\n",
    "project_post_url = f\"{host}/projects\" \n",
    "\n",
    "project_post_response = requests.post(project_post_url, \n",
    "                                      headers={\"Content-Type\": \"application/json\"}, \n",
    "                                      data=json.dumps(project_data))\n",
    "\n",
    "project_id = \"\"\n",
    "\n",
    "if project_post_response.status_code == 200:\n",
    "    project_response_json = project_post_response.json()\n",
    "    pprint(project_response_json)\n",
    "    project_id = project_response_json['@id']\n",
    "    project_name = project_response_json['name']\n",
    "else:\n",
    "    pprint(f\"Problem in creating a new Spacecraft project at {timestamp}\")\n",
    "    pprint(project_post_response)"
   ]
  },
  {
   "cell_type": "markdown",
   "id": "921efbfd-04a1-4c5c-8e66-b31f0390aa45",
   "metadata": {},
   "source": [
    "# Get branches"
   ]
  },
  {
   "cell_type": "code",
   "execution_count": 122,
   "id": "df3e1039-ba51-4653-8897-e98be111078e",
   "metadata": {},
   "outputs": [
    {
     "data": {
      "text/html": [
       "<style type=\"text/css\">\n",
       "</style>\n",
       "<table id=\"T_1fa5a\">\n",
       "  <thead>\n",
       "    <tr>\n",
       "      <th id=\"T_1fa5a_level0_col0\" class=\"col_heading level0 col0\" >Branch Name</th>\n",
       "      <th id=\"T_1fa5a_level0_col1\" class=\"col_heading level0 col1\" >Branch ID</th>\n",
       "      <th id=\"T_1fa5a_level0_col2\" class=\"col_heading level0 col2\" >Ref Commit (head)</th>\n",
       "    </tr>\n",
       "  </thead>\n",
       "  <tbody>\n",
       "    <tr>\n",
       "      <td id=\"T_1fa5a_row0_col0\" class=\"data row0 col0\" >main</td>\n",
       "      <td id=\"T_1fa5a_row0_col1\" class=\"data row0 col1\" >b20df3d4-bb46-489f-b312-858952c21d89</td>\n",
       "      <td id=\"T_1fa5a_row0_col2\" class=\"data row0 col2\" >None</td>\n",
       "    </tr>\n",
       "  </tbody>\n",
       "</table>\n"
      ],
      "text/plain": [
       "<pandas.io.formats.style.Styler at 0x119019c70>"
      ]
     },
     "metadata": {},
     "output_type": "display_data"
    }
   ],
   "source": [
    "branches_url = f\"{host}/projects/{project_id}/branches\" \n",
    "branches_response = requests.get(branches_url)\n",
    "\n",
    "if branches_response.status_code == 200:\n",
    "    branches = branches_response.json()\n",
    "    branches_data = list(map(lambda b: {'Branch Name':b['name'], 'Branch ID':b['@id'], 'Ref Commit (head)':b['head']}, branches))\n",
    "\n",
    "    df = pd.DataFrame.from_records(branches_data).sort_values(by='Branch Name').style.hide(axis='index')\n",
    "    display(df)\n",
    "else:\n",
    "    pprint(f\"Problem in fetching branches of Spacecraft project {project_id}\")\n",
    "    pprint(branches_response)"
   ]
  },
  {
   "cell_type": "markdown",
   "id": "5f761af7-0b40-4708-8c8e-217c9b2b6e8a",
   "metadata": {},
   "source": [
    "# Get tags"
   ]
  },
  {
   "cell_type": "code",
   "execution_count": 123,
   "id": "65deeb6c-ce34-43c5-ad62-bf145e946f1d",
   "metadata": {},
   "outputs": [
    {
     "name": "stdout",
     "output_type": "stream",
     "text": [
      "[]\n"
     ]
    },
    {
     "data": {
      "text/html": [
       "<style type=\"text/css\">\n",
       "</style>\n",
       "<table id=\"T_b6b4f\">\n",
       "  <thead>\n",
       "  </thead>\n",
       "  <tbody>\n",
       "  </tbody>\n",
       "</table>\n"
      ],
      "text/plain": [
       "<pandas.io.formats.style.Styler at 0x11909fb20>"
      ]
     },
     "metadata": {},
     "output_type": "display_data"
    }
   ],
   "source": [
    "tags_url = f\"{host}/projects/{project_id}/tags\" \n",
    "tags_response = requests.get(tags_url)\n",
    "\n",
    "if tags_response.status_code == 200:\n",
    "    tags = tags_response.json()\n",
    "    pprint(tags)\n",
    "    tags_data = list(map(lambda b: {'Tag Name':b['name'], 'Tag ID':b['@id'], 'Tagged Commit':b['taggedCommit']}, tags))\n",
    "\n",
    "    df = pd.DataFrame.from_records(tags_data).style.hide(axis='index')\n",
    "    display(df)\n",
    "else:\n",
    "    pprint(f\"Problem in fetching tags of Spacecraft project {project_id}\")\n",
    "    pprint(tags_response)"
   ]
  },
  {
   "cell_type": "markdown",
   "id": "569ca8f1-ebf1-41d2-93f3-8795a2439eea",
   "metadata": {},
   "source": [
    "# Create 1st Commit"
   ]
  },
  {
   "cell_type": "code",
   "execution_count": 124,
   "id": "3eed91b9-903b-441f-b1f2-10dbcfafa342",
   "metadata": {},
   "outputs": [
    {
     "name": "stdout",
     "output_type": "stream",
     "text": [
      "{'@id': '68654706-7146-48f0-8ed9-ec0ffa94feea',\n",
      " '@type': 'Commit',\n",
      " 'created': '2022-11-05T21:02:56.305306-04:00',\n",
      " 'description': None,\n",
      " 'owningProject': {'@id': '1cb23e7a-4d70-487e-89ad-1cd8a22efb9e'},\n",
      " 'previousCommit': None}\n"
     ]
    }
   ],
   "source": [
    "commit_body = {\n",
    "  \"@type\": \"Commit\",\n",
    "  \"change\": [\n",
    "    {\n",
    "      \"@type\": \"DataVersion\",\n",
    "      \"payload\": {\n",
    "        \"@type\": \"PartDefinition\",\n",
    "        \"name\":\"Spacecraft System\"\n",
    "      }\n",
    "    },\n",
    "    {\n",
    "      \"@type\": \"DataVersion\",\n",
    "      \"payload\": {\n",
    "        \"@type\": \"PartDefinition\",\n",
    "        \"name\":\"Payload System\"\n",
    "      }\n",
    "    },\n",
    "    {\n",
    "      \"@type\": \"DataVersion\",\n",
    "      \"payload\": {\n",
    "        \"@type\": \"PartDefinition\",\n",
    "        \"name\":\"Propulsion System\"\n",
    "      }\n",
    "    }\n",
    "  ]\n",
    "}\n",
    "\n",
    "commit_post_url = f\"{host}/projects/{project_id}/commits\" \n",
    "\n",
    "commit_post_response = requests.post(commit_post_url, \n",
    "                                      headers={\"Content-Type\": \"application/json\"}, \n",
    "                                      data=json.dumps(commit_body))\n",
    "\n",
    "commit1_id = \"\"\n",
    "\n",
    "if commit_post_response.status_code == 200:\n",
    "    commit_response_json = commit_post_response.json()\n",
    "    pprint(commit_response_json)\n",
    "    commit1_id = commit_response_json['@id']\n",
    "else:\n",
    "    pprint(f\"Problem in creating a new commit in Spacecraft project {project_id}\")\n",
    "    pprint(commit_post_response)"
   ]
  },
  {
   "cell_type": "code",
   "execution_count": 125,
   "id": "65537f5c-f521-469e-92e4-9a2568afed05",
   "metadata": {},
   "outputs": [
    {
     "data": {
      "text/html": [
       "<style type=\"text/css\">\n",
       "</style>\n",
       "<table id=\"T_74be2\">\n",
       "  <thead>\n",
       "    <tr>\n",
       "      <th id=\"T_74be2_level0_col0\" class=\"col_heading level0 col0\" >Element Name</th>\n",
       "      <th id=\"T_74be2_level0_col1\" class=\"col_heading level0 col1\" >Element ID</th>\n",
       "    </tr>\n",
       "  </thead>\n",
       "  <tbody>\n",
       "    <tr>\n",
       "      <td id=\"T_74be2_row0_col0\" class=\"data row0 col0\" >Payload System</td>\n",
       "      <td id=\"T_74be2_row0_col1\" class=\"data row0 col1\" >aa45735a-6001-4f00-a7f2-ecad5d442d27</td>\n",
       "    </tr>\n",
       "    <tr>\n",
       "      <td id=\"T_74be2_row1_col0\" class=\"data row1 col0\" >Propulsion System</td>\n",
       "      <td id=\"T_74be2_row1_col1\" class=\"data row1 col1\" >27e4f855-aa8a-4343-b25c-0c452cfb22ab</td>\n",
       "    </tr>\n",
       "    <tr>\n",
       "      <td id=\"T_74be2_row2_col0\" class=\"data row2 col0\" >Spacecraft System</td>\n",
       "      <td id=\"T_74be2_row2_col1\" class=\"data row2 col1\" >00734e2e-565f-4411-8b06-b5c8eab5e178</td>\n",
       "    </tr>\n",
       "  </tbody>\n",
       "</table>\n"
      ],
      "text/plain": [
       "<pandas.io.formats.style.Styler at 0x119018760>"
      ]
     },
     "metadata": {},
     "output_type": "display_data"
    }
   ],
   "source": [
    "element_get_url = f\"{host}/projects/{project_id}/commits/{commit1_id}/elements\" \n",
    "\n",
    "element_get_response = requests.get(element_get_url)\n",
    "\n",
    "if element_get_response.status_code == 200:\n",
    "    elements = element_get_response.json()\n",
    "    elements_data = list(map(lambda b: {'Element Name':b['name'], 'Element ID':b['@id']}, elements))\n",
    "    df = pd.DataFrame.from_records(elements_data).sort_values(by='Element Name').style.hide(axis='index')\n",
    "    display(df)\n",
    "else:\n",
    "    pprint(f\"Problem in fetching elements in the Spacecraft project {project_id} at commit {commit1_id}.\")\n",
    "    pprint(element_get_response)"
   ]
  },
  {
   "cell_type": "markdown",
   "id": "8e38b288-6517-4a7b-90e5-ae73c5f89df3",
   "metadata": {},
   "source": [
    "# Create 2nd Commit"
   ]
  },
  {
   "cell_type": "code",
   "execution_count": 126,
   "id": "76d80cb1-40c8-4f24-aeb5-51e509f4e159",
   "metadata": {
    "tags": []
   },
   "outputs": [
    {
     "name": "stdout",
     "output_type": "stream",
     "text": [
      "{'@id': '118e6f99-cde1-41fb-8f93-928fe6fa4be0',\n",
      " '@type': 'Commit',\n",
      " 'created': '2022-11-05T21:02:56.7703-04:00',\n",
      " 'description': None,\n",
      " 'owningProject': {'@id': '1cb23e7a-4d70-487e-89ad-1cd8a22efb9e'},\n",
      " 'previousCommit': {'@id': '68654706-7146-48f0-8ed9-ec0ffa94feea'}}\n"
     ]
    }
   ],
   "source": [
    "commit_body = {\n",
    "  \"@type\": \"Commit\",\n",
    "  \"change\": [\n",
    "    {\n",
    "      \"@type\": \"DataVersion\",\n",
    "      \"payload\": {\n",
    "        \"@type\": \"PartDefinition\",\n",
    "        \"name\":\"Avionics System\"\n",
    "      }\n",
    "    },\n",
    "    {\n",
    "      \"@type\": \"DataVersion\",\n",
    "      \"payload\": {\n",
    "        \"@type\": \"PartDefinition\",\n",
    "        \"name\":\"Power System\"\n",
    "      }\n",
    "    }\n",
    "  ],\n",
    "  \"previousCommit\": {\n",
    "      \"@id\": commit1_id\n",
    "    }\n",
    "}\n",
    "\n",
    "commit_post_url = f\"{host}/projects/{project_id}/commits\" \n",
    "\n",
    "commit_post_response = requests.post(commit_post_url, \n",
    "                                      headers={\"Content-Type\": \"application/json\"}, \n",
    "                                      data=json.dumps(commit_body))\n",
    "\n",
    "commit2_id = \"\"\n",
    "\n",
    "if commit_post_response.status_code == 200:\n",
    "    commit_response_json = commit_post_response.json()\n",
    "    pprint(commit_response_json)\n",
    "    commit2_id = commit_response_json['@id']\n",
    "else:\n",
    "    pprint(f\"Problem in creating a new commit in Spacecraft project {project_id}\")\n",
    "    pprint(commit_post_response)"
   ]
  },
  {
   "cell_type": "markdown",
   "id": "d815e4fe",
   "metadata": {},
   "source": [
    "# Get all elements after the 2nd commit"
   ]
  },
  {
   "cell_type": "code",
   "execution_count": 127,
   "id": "eac0a387-e4cf-4fc8-8b47-c64ed2ebff62",
   "metadata": {},
   "outputs": [
    {
     "data": {
      "text/html": [
       "<style type=\"text/css\">\n",
       "</style>\n",
       "<table id=\"T_cecc0\">\n",
       "  <thead>\n",
       "    <tr>\n",
       "      <th id=\"T_cecc0_level0_col0\" class=\"col_heading level0 col0\" >Element Name</th>\n",
       "      <th id=\"T_cecc0_level0_col1\" class=\"col_heading level0 col1\" >Element ID</th>\n",
       "    </tr>\n",
       "  </thead>\n",
       "  <tbody>\n",
       "    <tr>\n",
       "      <td id=\"T_cecc0_row0_col0\" class=\"data row0 col0\" >Avionics System</td>\n",
       "      <td id=\"T_cecc0_row0_col1\" class=\"data row0 col1\" >d4a362f9-7a85-4887-9936-4df002c5fcae</td>\n",
       "    </tr>\n",
       "    <tr>\n",
       "      <td id=\"T_cecc0_row1_col0\" class=\"data row1 col0\" >Payload System</td>\n",
       "      <td id=\"T_cecc0_row1_col1\" class=\"data row1 col1\" >aa45735a-6001-4f00-a7f2-ecad5d442d27</td>\n",
       "    </tr>\n",
       "    <tr>\n",
       "      <td id=\"T_cecc0_row2_col0\" class=\"data row2 col0\" >Power System</td>\n",
       "      <td id=\"T_cecc0_row2_col1\" class=\"data row2 col1\" >8ac6138b-e00c-4908-8383-b25ef5dce6b0</td>\n",
       "    </tr>\n",
       "    <tr>\n",
       "      <td id=\"T_cecc0_row3_col0\" class=\"data row3 col0\" >Propulsion System</td>\n",
       "      <td id=\"T_cecc0_row3_col1\" class=\"data row3 col1\" >27e4f855-aa8a-4343-b25c-0c452cfb22ab</td>\n",
       "    </tr>\n",
       "    <tr>\n",
       "      <td id=\"T_cecc0_row4_col0\" class=\"data row4 col0\" >Spacecraft System</td>\n",
       "      <td id=\"T_cecc0_row4_col1\" class=\"data row4 col1\" >00734e2e-565f-4411-8b06-b5c8eab5e178</td>\n",
       "    </tr>\n",
       "  </tbody>\n",
       "</table>\n"
      ],
      "text/plain": [
       "<pandas.io.formats.style.Styler at 0x11909f880>"
      ]
     },
     "metadata": {},
     "output_type": "display_data"
    }
   ],
   "source": [
    "element_get_url = f\"{host}/projects/{project_id}/commits/{commit2_id}/elements\" \n",
    "\n",
    "element_get_response = requests.get(element_get_url)\n",
    "\n",
    "if element_get_response.status_code == 200:\n",
    "    elements = element_get_response.json()\n",
    "    elements_data = list(map(lambda b: {'Element Name':b['name'], 'Element ID':b['@id']}, elements))\n",
    "    df = pd.DataFrame.from_records(elements_data).sort_values(by='Element Name').style.hide(axis='index')\n",
    "    display(df)\n",
    "else:\n",
    "    pprint(f\"Problem in fetching elements in the Spacecraft project {project_id} at commit {commit2_id}.\")\n",
    "    pprint(element_get_response)"
   ]
  },
  {
   "cell_type": "markdown",
   "id": "4b841d77-eb20-4f3c-bc64-fe08031d01bc",
   "metadata": {},
   "source": [
    "# Create a tag"
   ]
  },
  {
   "cell_type": "code",
   "execution_count": 128,
   "id": "886842cc-c983-424f-9af9-083257a5732c",
   "metadata": {},
   "outputs": [
    {
     "name": "stdout",
     "output_type": "stream",
     "text": [
      "{'@id': '65b1977d-bc03-4a94-be41-2ed85eda65ed',\n",
      " '@type': 'Tag',\n",
      " 'created': '2022-11-05T21:02:57.096895-04:00',\n",
      " 'name': 'Spacecraft Internal Release 0.1',\n",
      " 'owningProject': {'@id': '1cb23e7a-4d70-487e-89ad-1cd8a22efb9e'},\n",
      " 'referencedCommit': {'@id': '118e6f99-cde1-41fb-8f93-928fe6fa4be0'},\n",
      " 'taggedCommit': {'@id': '118e6f99-cde1-41fb-8f93-928fe6fa4be0'}}\n"
     ]
    }
   ],
   "source": [
    "tag_body = {\n",
    "    \"@type\": \"Tag\",\n",
    "    \"name\": \"Spacecraft Internal Release 0.1\",\n",
    "    \"taggedCommit\": {\n",
    "      \"@id\": commit2_id\n",
    "    }\n",
    "}\n",
    "\n",
    "tag_post_url = f\"{host}/projects/{project_id}/tags\" \n",
    "\n",
    "tag_post_response = requests.post(tag_post_url, \n",
    "                                  headers={\"Content-Type\": \"application/json\"}, \n",
    "                                  data=json.dumps(tag_body))\n",
    "\n",
    "tag1_id = \"\"\n",
    "\n",
    "if tag_post_response.status_code == 200:\n",
    "    tag_response_json = tag_post_response.json()\n",
    "    pprint(tag_response_json)\n",
    "    tag1_id = tag_response_json['@id']\n",
    "else:\n",
    "    pprint(f\"Problem in creating a new tag in Spacecraft project {project_id}.\")\n",
    "    pprint(tag_post_response)"
   ]
  },
  {
   "cell_type": "markdown",
   "id": "ec239663-ce0d-4ae6-acd7-5910299dedda",
   "metadata": {},
   "source": [
    "# Get Tags"
   ]
  },
  {
   "cell_type": "code",
   "execution_count": 129,
   "id": "bf1ce47b-079d-429f-b43b-491c3aa156c8",
   "metadata": {},
   "outputs": [
    {
     "data": {
      "text/html": [
       "<style type=\"text/css\">\n",
       "</style>\n",
       "<table id=\"T_7abbd\">\n",
       "  <thead>\n",
       "    <tr>\n",
       "      <th id=\"T_7abbd_level0_col0\" class=\"col_heading level0 col0\" >Tag Name</th>\n",
       "      <th id=\"T_7abbd_level0_col1\" class=\"col_heading level0 col1\" >Tag ID</th>\n",
       "      <th id=\"T_7abbd_level0_col2\" class=\"col_heading level0 col2\" >Tagged Commit</th>\n",
       "    </tr>\n",
       "  </thead>\n",
       "  <tbody>\n",
       "    <tr>\n",
       "      <td id=\"T_7abbd_row0_col0\" class=\"data row0 col0\" >Spacecraft Internal Release 0.1</td>\n",
       "      <td id=\"T_7abbd_row0_col1\" class=\"data row0 col1\" >65b1977d-bc03-4a94-be41-2ed85eda65ed</td>\n",
       "      <td id=\"T_7abbd_row0_col2\" class=\"data row0 col2\" >{'@id': '118e6f99-cde1-41fb-8f93-928fe6fa4be0'}</td>\n",
       "    </tr>\n",
       "  </tbody>\n",
       "</table>\n"
      ],
      "text/plain": [
       "<pandas.io.formats.style.Styler at 0x1190969a0>"
      ]
     },
     "metadata": {},
     "output_type": "display_data"
    }
   ],
   "source": [
    "tags_url = f\"{host}/projects/{project_id}/tags\" \n",
    "tags_response = requests.get(tags_url)\n",
    "\n",
    "if tags_response.status_code == 200:\n",
    "    tags = tags_response.json()\n",
    "    tags_data = list(map(lambda b: {'Tag Name':b['name'], 'Tag ID':b['@id'], 'Tagged Commit':b['taggedCommit']}, tags))\n",
    "\n",
    "    df = pd.DataFrame.from_records(tags_data).style.hide(axis='index')\n",
    "    display(df)\n",
    "else:\n",
    "    pprint(f\"Problem in fetching tags in Spacecraft project {project_id}.\")\n",
    "    pprint(tag_post_response)"
   ]
  },
  {
   "cell_type": "markdown",
   "id": "5a0ec0fa-af50-4944-8401-183f2cb165af",
   "metadata": {},
   "source": [
    "# Create a new branch at the second commit (also tagged as 0.1)"
   ]
  },
  {
   "cell_type": "code",
   "execution_count": 130,
   "id": "cc9620df-e407-4a25-8ae4-bd803d1cde32",
   "metadata": {},
   "outputs": [
    {
     "name": "stdout",
     "output_type": "stream",
     "text": [
      "{'@id': 'adb35786-0381-4f86-814e-deff94481ca5',\n",
      " '@type': 'Branch',\n",
      " 'created': '2022-11-05T21:02:57.268637-04:00',\n",
      " 'head': {'@id': '118e6f99-cde1-41fb-8f93-928fe6fa4be0'},\n",
      " 'name': 'develop',\n",
      " 'owningProject': {'@id': '1cb23e7a-4d70-487e-89ad-1cd8a22efb9e'},\n",
      " 'referencedCommit': {'@id': '118e6f99-cde1-41fb-8f93-928fe6fa4be0'}}\n"
     ]
    }
   ],
   "source": [
    "branch_body = {\n",
    "  \"@type\": \"Branch\",\n",
    "  \"name\": \"develop\",\n",
    "  \"head\": {\n",
    "      \"@id\": commit2_id\n",
    "    }\n",
    "}\n",
    "\n",
    "branch_post_url = f\"{host}/projects/{project_id}/branches\" \n",
    "\n",
    "branch_post_response = requests.post(branch_post_url, \n",
    "                                      headers={\"Content-Type\": \"application/json\"}, \n",
    "                                      data=json.dumps(branch_body))\n",
    "\n",
    "branch_develop_id = \"\"\n",
    "\n",
    "if branch_post_response.status_code == 200:\n",
    "    branch_response_json = branch_post_response.json()\n",
    "    pprint(branch_response_json)\n",
    "    branch_develop_id = branch_response_json['@id']\n",
    "else:\n",
    "    pprint(f\"Problem in creating a new branch in Spacecraft project {project_id}\")\n",
    "    pprint(branch_post_response)"
   ]
  },
  {
   "cell_type": "markdown",
   "id": "19ba5702-85d2-40ec-b01c-de6f112e8bfa",
   "metadata": {
    "tags": []
   },
   "source": [
    "# Get branches"
   ]
  },
  {
   "cell_type": "code",
   "execution_count": 131,
   "id": "61faab74-218a-4bf4-832d-2e3a3d70578d",
   "metadata": {},
   "outputs": [
    {
     "data": {
      "text/html": [
       "<style type=\"text/css\">\n",
       "</style>\n",
       "<table id=\"T_230b6\">\n",
       "  <thead>\n",
       "    <tr>\n",
       "      <th id=\"T_230b6_level0_col0\" class=\"col_heading level0 col0\" >Branch Name</th>\n",
       "      <th id=\"T_230b6_level0_col1\" class=\"col_heading level0 col1\" >Branch ID</th>\n",
       "      <th id=\"T_230b6_level0_col2\" class=\"col_heading level0 col2\" >Ref Commit (head)</th>\n",
       "    </tr>\n",
       "  </thead>\n",
       "  <tbody>\n",
       "    <tr>\n",
       "      <td id=\"T_230b6_row0_col0\" class=\"data row0 col0\" >develop</td>\n",
       "      <td id=\"T_230b6_row0_col1\" class=\"data row0 col1\" >adb35786-0381-4f86-814e-deff94481ca5</td>\n",
       "      <td id=\"T_230b6_row0_col2\" class=\"data row0 col2\" >{'@id': '118e6f99-cde1-41fb-8f93-928fe6fa4be0'}</td>\n",
       "    </tr>\n",
       "    <tr>\n",
       "      <td id=\"T_230b6_row1_col0\" class=\"data row1 col0\" >main</td>\n",
       "      <td id=\"T_230b6_row1_col1\" class=\"data row1 col1\" >b20df3d4-bb46-489f-b312-858952c21d89</td>\n",
       "      <td id=\"T_230b6_row1_col2\" class=\"data row1 col2\" >{'@id': '118e6f99-cde1-41fb-8f93-928fe6fa4be0'}</td>\n",
       "    </tr>\n",
       "  </tbody>\n",
       "</table>\n"
      ],
      "text/plain": [
       "<pandas.io.formats.style.Styler at 0x119019df0>"
      ]
     },
     "metadata": {},
     "output_type": "display_data"
    }
   ],
   "source": [
    "branches_url = f\"{host}/projects/{project_id}/branches\" \n",
    "branches_response = requests.get(branches_url)\n",
    "\n",
    "if branches_response.status_code == 200:\n",
    "    branches = branches_response.json()\n",
    "    branches_data = list(map(lambda b: {'Branch Name':b['name'], 'Branch ID':b['@id'], 'Ref Commit (head)':b['head']}, branches))\n",
    "\n",
    "    df = pd.DataFrame.from_records(branches_data).sort_values(by='Branch Name').style.hide(axis='index')\n",
    "    display(df)\n",
    "else:\n",
    "    pprint(f\"Problem in fetching branches in Spacecraft project {project_id}\")\n",
    "    pprint(branches_response)"
   ]
  },
  {
   "cell_type": "markdown",
   "id": "8dbea034-4180-415f-9604-8e1afb149fdc",
   "metadata": {},
   "source": [
    "# Create a new commit in the develop branch"
   ]
  },
  {
   "cell_type": "code",
   "execution_count": 132,
   "id": "055f42b3-18de-4f94-ae53-43660948493b",
   "metadata": {},
   "outputs": [
    {
     "name": "stdout",
     "output_type": "stream",
     "text": [
      "{'@id': '5665c584-4474-4599-8b74-46c3c647a2cf',\n",
      " '@type': 'Commit',\n",
      " 'created': '2022-11-05T21:02:57.444978-04:00',\n",
      " 'description': None,\n",
      " 'owningProject': {'@id': '1cb23e7a-4d70-487e-89ad-1cd8a22efb9e'},\n",
      " 'previousCommit': {'@id': '118e6f99-cde1-41fb-8f93-928fe6fa4be0'}}\n"
     ]
    }
   ],
   "source": [
    "commit_body = {\n",
    "  \"@type\": \"Commit\",\n",
    "  \"change\": [\n",
    "    {\n",
    "      \"@type\": \"DataVersion\",\n",
    "      \"payload\": {\n",
    "        \"@type\": \"PartDefinition\",\n",
    "        \"name\":\"GN & C System\"\n",
    "      }\n",
    "    }\n",
    "  ],\n",
    "  \"previousCommit\": {\n",
    "      \"@id\": commit2_id\n",
    "    }\n",
    "}\n",
    "\n",
    "commit_post_url = f\"{host}/projects/{project_id}/commits\" \n",
    "\n",
    "commit_post_response = requests.post(commit_post_url, \n",
    "                                      headers={\"Content-Type\": \"application/json\"}, \n",
    "                                      data=json.dumps(commit_body),\n",
    "                                      params={\"branchId\":branch_develop_id})\n",
    "\n",
    "commit3_id = \"\"\n",
    "\n",
    "if commit_post_response.status_code == 200:\n",
    "    commit_response_json = commit_post_response.json()\n",
    "    pprint(commit_response_json)\n",
    "    commit3_id = commit_response_json['@id']\n",
    "else:\n",
    "    pprint(f\"Problem in creating a new commit in Spacecraft project {project_id}\")\n",
    "    pprint(commit_post_response)"
   ]
  },
  {
   "cell_type": "markdown",
   "id": "e2ba3c85-db23-460d-b6d4-6afbd6461e7d",
   "metadata": {},
   "source": [
    "# Get Branches"
   ]
  },
  {
   "cell_type": "code",
   "execution_count": 133,
   "id": "ead42406-7536-4f47-b0d8-d34a48e9054e",
   "metadata": {},
   "outputs": [
    {
     "data": {
      "text/html": [
       "<style type=\"text/css\">\n",
       "</style>\n",
       "<table id=\"T_7ed9e\">\n",
       "  <thead>\n",
       "    <tr>\n",
       "      <th id=\"T_7ed9e_level0_col0\" class=\"col_heading level0 col0\" >Branch Name</th>\n",
       "      <th id=\"T_7ed9e_level0_col1\" class=\"col_heading level0 col1\" >Branch ID</th>\n",
       "      <th id=\"T_7ed9e_level0_col2\" class=\"col_heading level0 col2\" >Ref Commit (head)</th>\n",
       "    </tr>\n",
       "  </thead>\n",
       "  <tbody>\n",
       "    <tr>\n",
       "      <td id=\"T_7ed9e_row0_col0\" class=\"data row0 col0\" >develop</td>\n",
       "      <td id=\"T_7ed9e_row0_col1\" class=\"data row0 col1\" >adb35786-0381-4f86-814e-deff94481ca5</td>\n",
       "      <td id=\"T_7ed9e_row0_col2\" class=\"data row0 col2\" >{'@id': '5665c584-4474-4599-8b74-46c3c647a2cf'}</td>\n",
       "    </tr>\n",
       "    <tr>\n",
       "      <td id=\"T_7ed9e_row1_col0\" class=\"data row1 col0\" >main</td>\n",
       "      <td id=\"T_7ed9e_row1_col1\" class=\"data row1 col1\" >b20df3d4-bb46-489f-b312-858952c21d89</td>\n",
       "      <td id=\"T_7ed9e_row1_col2\" class=\"data row1 col2\" >{'@id': '118e6f99-cde1-41fb-8f93-928fe6fa4be0'}</td>\n",
       "    </tr>\n",
       "  </tbody>\n",
       "</table>\n"
      ],
      "text/plain": [
       "<pandas.io.formats.style.Styler at 0x1095dc730>"
      ]
     },
     "metadata": {},
     "output_type": "display_data"
    }
   ],
   "source": [
    "branches_url = f\"{host}/projects/{project_id}/branches\" \n",
    "branches_response = requests.get(branches_url)\n",
    "\n",
    "if branches_response.status_code == 200:\n",
    "    branches = branches_response.json()\n",
    "    branches_data = list(map(lambda b: {'Branch Name':b['name'], 'Branch ID':b['@id'], 'Ref Commit (head)':b['head']}, branches))\n",
    "\n",
    "    df = pd.DataFrame.from_records(branches_data).sort_values(by='Branch Name').style.hide(axis='index')\n",
    "    display(df)\n",
    "else:\n",
    "    pprint(f\"Problem in fetching branches in Spacecraft project {project_id}\")\n",
    "    pprint(commit_post_response)"
   ]
  },
  {
   "cell_type": "markdown",
   "id": "61cdaecd-44db-4e27-85dd-de5d002648cc",
   "metadata": {},
   "source": [
    "# Get all elements as of the latest commit on main branch"
   ]
  },
  {
   "cell_type": "code",
   "execution_count": 134,
   "id": "86008838-368a-4e58-9d5b-70e9c57442f4",
   "metadata": {},
   "outputs": [
    {
     "name": "stdout",
     "output_type": "stream",
     "text": [
      "'Fetching elements at commit 118e6f99-cde1-41fb-8f93-928fe6fa4be0'\n"
     ]
    },
    {
     "data": {
      "text/html": [
       "<style type=\"text/css\">\n",
       "</style>\n",
       "<table id=\"T_36ffd\">\n",
       "  <thead>\n",
       "    <tr>\n",
       "      <th id=\"T_36ffd_level0_col0\" class=\"col_heading level0 col0\" >Element Name</th>\n",
       "      <th id=\"T_36ffd_level0_col1\" class=\"col_heading level0 col1\" >Element ID</th>\n",
       "    </tr>\n",
       "  </thead>\n",
       "  <tbody>\n",
       "    <tr>\n",
       "      <td id=\"T_36ffd_row0_col0\" class=\"data row0 col0\" >Avionics System</td>\n",
       "      <td id=\"T_36ffd_row0_col1\" class=\"data row0 col1\" >d4a362f9-7a85-4887-9936-4df002c5fcae</td>\n",
       "    </tr>\n",
       "    <tr>\n",
       "      <td id=\"T_36ffd_row1_col0\" class=\"data row1 col0\" >Payload System</td>\n",
       "      <td id=\"T_36ffd_row1_col1\" class=\"data row1 col1\" >aa45735a-6001-4f00-a7f2-ecad5d442d27</td>\n",
       "    </tr>\n",
       "    <tr>\n",
       "      <td id=\"T_36ffd_row2_col0\" class=\"data row2 col0\" >Power System</td>\n",
       "      <td id=\"T_36ffd_row2_col1\" class=\"data row2 col1\" >8ac6138b-e00c-4908-8383-b25ef5dce6b0</td>\n",
       "    </tr>\n",
       "    <tr>\n",
       "      <td id=\"T_36ffd_row3_col0\" class=\"data row3 col0\" >Propulsion System</td>\n",
       "      <td id=\"T_36ffd_row3_col1\" class=\"data row3 col1\" >27e4f855-aa8a-4343-b25c-0c452cfb22ab</td>\n",
       "    </tr>\n",
       "    <tr>\n",
       "      <td id=\"T_36ffd_row4_col0\" class=\"data row4 col0\" >Spacecraft System</td>\n",
       "      <td id=\"T_36ffd_row4_col1\" class=\"data row4 col1\" >00734e2e-565f-4411-8b06-b5c8eab5e178</td>\n",
       "    </tr>\n",
       "  </tbody>\n",
       "</table>\n"
      ],
      "text/plain": [
       "<pandas.io.formats.style.Styler at 0x11909b910>"
      ]
     },
     "metadata": {},
     "output_type": "display_data"
    }
   ],
   "source": [
    "pprint(f\"Fetching elements at commit {commit2_id}\")\n",
    "element_get_url = f\"{host}/projects/{project_id}/commits/{commit2_id}/elements\" \n",
    "\n",
    "element_get_response = requests.get(element_get_url)\n",
    "\n",
    "if element_get_response.status_code == 200:\n",
    "    elements = element_get_response.json()\n",
    "    elements_data = list(map(lambda b: {'Element Name':b['name'], 'Element ID':b['@id']}, elements))\n",
    "    df = pd.DataFrame.from_records(elements_data).sort_values(by='Element Name').style.hide(axis='index')\n",
    "    display(df)\n",
    "else:\n",
    "    pprint(f\"Problem in fetching elements in the Spacecraft project {project_id} at commit {commit2_id}\")\n",
    "    pprint(element_get_response)"
   ]
  },
  {
   "cell_type": "markdown",
   "id": "24a94903-9a4e-4f2b-b1bf-be21b7e22e48",
   "metadata": {},
   "source": [
    "# Get all elements as of the latest commit on develop branch"
   ]
  },
  {
   "cell_type": "code",
   "execution_count": 135,
   "id": "60bf125d-5258-4546-99da-3680de66dd1b",
   "metadata": {},
   "outputs": [
    {
     "name": "stdout",
     "output_type": "stream",
     "text": [
      "'Fetching elements at commit 5665c584-4474-4599-8b74-46c3c647a2cf'\n"
     ]
    },
    {
     "data": {
      "text/html": [
       "<style type=\"text/css\">\n",
       "</style>\n",
       "<table id=\"T_720f8\">\n",
       "  <thead>\n",
       "    <tr>\n",
       "      <th id=\"T_720f8_level0_col0\" class=\"col_heading level0 col0\" >Element Name</th>\n",
       "      <th id=\"T_720f8_level0_col1\" class=\"col_heading level0 col1\" >Element ID</th>\n",
       "    </tr>\n",
       "  </thead>\n",
       "  <tbody>\n",
       "    <tr>\n",
       "      <td id=\"T_720f8_row0_col0\" class=\"data row0 col0\" >Avionics System</td>\n",
       "      <td id=\"T_720f8_row0_col1\" class=\"data row0 col1\" >d4a362f9-7a85-4887-9936-4df002c5fcae</td>\n",
       "    </tr>\n",
       "    <tr>\n",
       "      <td id=\"T_720f8_row1_col0\" class=\"data row1 col0\" >GN & C System</td>\n",
       "      <td id=\"T_720f8_row1_col1\" class=\"data row1 col1\" >27d2c686-7c67-4cc5-99f1-cadc06cd4347</td>\n",
       "    </tr>\n",
       "    <tr>\n",
       "      <td id=\"T_720f8_row2_col0\" class=\"data row2 col0\" >Payload System</td>\n",
       "      <td id=\"T_720f8_row2_col1\" class=\"data row2 col1\" >aa45735a-6001-4f00-a7f2-ecad5d442d27</td>\n",
       "    </tr>\n",
       "    <tr>\n",
       "      <td id=\"T_720f8_row3_col0\" class=\"data row3 col0\" >Power System</td>\n",
       "      <td id=\"T_720f8_row3_col1\" class=\"data row3 col1\" >8ac6138b-e00c-4908-8383-b25ef5dce6b0</td>\n",
       "    </tr>\n",
       "    <tr>\n",
       "      <td id=\"T_720f8_row4_col0\" class=\"data row4 col0\" >Propulsion System</td>\n",
       "      <td id=\"T_720f8_row4_col1\" class=\"data row4 col1\" >27e4f855-aa8a-4343-b25c-0c452cfb22ab</td>\n",
       "    </tr>\n",
       "    <tr>\n",
       "      <td id=\"T_720f8_row5_col0\" class=\"data row5 col0\" >Spacecraft System</td>\n",
       "      <td id=\"T_720f8_row5_col1\" class=\"data row5 col1\" >00734e2e-565f-4411-8b06-b5c8eab5e178</td>\n",
       "    </tr>\n",
       "  </tbody>\n",
       "</table>\n"
      ],
      "text/plain": [
       "<pandas.io.formats.style.Styler at 0x1190963d0>"
      ]
     },
     "metadata": {},
     "output_type": "display_data"
    }
   ],
   "source": [
    "pprint(f\"Fetching elements at commit {commit3_id}\")\n",
    "element_get_url = f\"{host}/projects/{project_id}/commits/{commit3_id}/elements\" \n",
    "\n",
    "element_get_response = requests.get(element_get_url)\n",
    "\n",
    "if element_get_response.status_code == 200:\n",
    "    elements = element_get_response.json()\n",
    "    elements_data = list(map(lambda b: {'Element Name':b['name'], 'Element ID':b['@id']}, elements))\n",
    "    df = pd.DataFrame.from_records(elements_data).sort_values(by='Element Name').style.hide(axis='index')\n",
    "    display(df)\n",
    "else:\n",
    "    pprint(f\"Problem in fetching elements in the Spacecraft project {project_id} at commit {commit3_id}\")\n",
    "    pprint(element_get_response)"
   ]
  },
  {
   "cell_type": "markdown",
   "id": "f162ef4e-3e68-4a66-b8fa-2abde70e867d",
   "metadata": {},
   "source": [
    "# Create a tag at the last commit on develop branch"
   ]
  },
  {
   "cell_type": "code",
   "execution_count": 136,
   "id": "b3e26544-b2e4-4370-bb85-9d23aabcc0b5",
   "metadata": {},
   "outputs": [
    {
     "name": "stdout",
     "output_type": "stream",
     "text": [
      "{'@id': '040ddf64-13a9-4bf8-b533-ad831f7862db',\n",
      " '@type': 'Tag',\n",
      " 'created': '2022-11-05T21:02:58.049038-04:00',\n",
      " 'name': 'Spacecraft Internal Release 0.2 build 1',\n",
      " 'owningProject': {'@id': '1cb23e7a-4d70-487e-89ad-1cd8a22efb9e'},\n",
      " 'referencedCommit': {'@id': '5665c584-4474-4599-8b74-46c3c647a2cf'},\n",
      " 'taggedCommit': {'@id': '5665c584-4474-4599-8b74-46c3c647a2cf'}}\n"
     ]
    }
   ],
   "source": [
    "tag_body = {\n",
    "    \"@type\": \"Tag\",\n",
    "    \"name\": \"Spacecraft Internal Release 0.2 build 1\",\n",
    "    \"taggedCommit\": {\n",
    "      \"@id\": commit3_id\n",
    "    }\n",
    "}\n",
    "\n",
    "tag_post_url = f\"{host}/projects/{project_id}/tags\" \n",
    "\n",
    "tag_post_response = requests.post(tag_post_url, \n",
    "                                  headers={\"Content-Type\": \"application/json\"}, \n",
    "                                  data=json.dumps(tag_body))\n",
    "\n",
    "tag1_id = \"\"\n",
    "\n",
    "if tag_post_response.status_code == 200:\n",
    "    tag_response_json = tag_post_response.json()\n",
    "    pprint(tag_response_json)\n",
    "    tag1_id = tag_response_json['@id']\n",
    "else:\n",
    "    pprint(f\"Problem in creating a new tag in Spacecraft project {project_id}.\")\n",
    "    pprint(tag_post_response)"
   ]
  },
  {
   "cell_type": "markdown",
   "id": "20dfd748-3149-4442-a7e8-fbef247377a7",
   "metadata": {},
   "source": [
    "# Get all tags"
   ]
  },
  {
   "cell_type": "code",
   "execution_count": 137,
   "id": "aee7a152-8b4c-476a-8691-4766fc94c240",
   "metadata": {},
   "outputs": [
    {
     "data": {
      "text/html": [
       "<style type=\"text/css\">\n",
       "</style>\n",
       "<table id=\"T_b2036\">\n",
       "  <thead>\n",
       "    <tr>\n",
       "      <th id=\"T_b2036_level0_col0\" class=\"col_heading level0 col0\" >Tag Name</th>\n",
       "      <th id=\"T_b2036_level0_col1\" class=\"col_heading level0 col1\" >Tag ID</th>\n",
       "      <th id=\"T_b2036_level0_col2\" class=\"col_heading level0 col2\" >Tagged Commit</th>\n",
       "    </tr>\n",
       "  </thead>\n",
       "  <tbody>\n",
       "    <tr>\n",
       "      <td id=\"T_b2036_row0_col0\" class=\"data row0 col0\" >Spacecraft Internal Release 0.2 build 1</td>\n",
       "      <td id=\"T_b2036_row0_col1\" class=\"data row0 col1\" >040ddf64-13a9-4bf8-b533-ad831f7862db</td>\n",
       "      <td id=\"T_b2036_row0_col2\" class=\"data row0 col2\" >{'@id': '5665c584-4474-4599-8b74-46c3c647a2cf'}</td>\n",
       "    </tr>\n",
       "    <tr>\n",
       "      <td id=\"T_b2036_row1_col0\" class=\"data row1 col0\" >Spacecraft Internal Release 0.1</td>\n",
       "      <td id=\"T_b2036_row1_col1\" class=\"data row1 col1\" >65b1977d-bc03-4a94-be41-2ed85eda65ed</td>\n",
       "      <td id=\"T_b2036_row1_col2\" class=\"data row1 col2\" >{'@id': '118e6f99-cde1-41fb-8f93-928fe6fa4be0'}</td>\n",
       "    </tr>\n",
       "  </tbody>\n",
       "</table>\n"
      ],
      "text/plain": [
       "<pandas.io.formats.style.Styler at 0x11907e130>"
      ]
     },
     "metadata": {},
     "output_type": "display_data"
    }
   ],
   "source": [
    "tags_url = f\"{host}/projects/{project_id}/tags\" \n",
    "tags_response = requests.get(tags_url)\n",
    "\n",
    "if tags_response.status_code == 200:\n",
    "    tags = tags_response.json()\n",
    "    tags_data = list(map(lambda b: {'Tag Name':b['name'], 'Tag ID':b['@id'], 'Tagged Commit':b['taggedCommit']}, tags))\n",
    "\n",
    "    df = pd.DataFrame.from_records(tags_data).style.hide(axis='index')\n",
    "    display(df)\n",
    "else:\n",
    "    pprint(f\"Problem in fetching tags in Spacecraft project {project_id}.\")\n",
    "    pprint(tag_post_response)"
   ]
  },
  {
   "cell_type": "code",
   "execution_count": null,
   "id": "59690f32-5000-44e3-b6f7-853be468c57c",
   "metadata": {},
   "outputs": [],
   "source": []
  }
 ],
 "metadata": {
  "kernelspec": {
   "display_name": "Python 3 (ipykernel)",
   "language": "python",
   "name": "python3"
  },
  "language_info": {
   "codemirror_mode": {
    "name": "ipython",
    "version": 3
   },
   "file_extension": ".py",
   "mimetype": "text/x-python",
   "name": "python",
   "nbconvert_exporter": "python",
   "pygments_lexer": "ipython3",
   "version": "3.8.13"
  }
 },
 "nbformat": 4,
 "nbformat_minor": 5
}
