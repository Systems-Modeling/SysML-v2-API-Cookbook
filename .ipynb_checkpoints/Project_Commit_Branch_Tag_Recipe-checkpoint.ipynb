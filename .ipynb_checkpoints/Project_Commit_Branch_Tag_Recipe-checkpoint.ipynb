{
 "cells": [
  {
   "cell_type": "markdown",
   "id": "3ee4834f",
   "metadata": {
    "tags": []
   },
   "source": [
    "# Initializing the SysML v2 API"
   ]
  },
  {
   "cell_type": "code",
   "execution_count": 5,
   "id": "6b5fef59",
   "metadata": {},
   "outputs": [],
   "source": [
    "from __future__ import print_function\n",
    "\n",
    "import time\n",
    "import requests\n",
    "from pprint import pprint\n",
    "import pandas as pd\n",
    "import json\n",
    "from datetime import datetime\n",
    "\n",
    "#host = \"<specify protocol://host:port of the server that is a provider of the SysML v2 REST/HTTP API\"\n",
    "host = \"http://sysml2-dev.intercax.com:9000\""
   ]
  },
  {
   "cell_type": "markdown",
   "id": "04c1ff93",
   "metadata": {},
   "source": [
    "# Get projects"
   ]
  },
  {
   "cell_type": "code",
   "execution_count": 6,
   "id": "78788ed9",
   "metadata": {},
   "outputs": [
    {
     "data": {
      "text/html": [
       "<style type=\"text/css\">\n",
       "</style>\n",
       "<table id=\"T_b2270\">\n",
       "  <thead>\n",
       "  </thead>\n",
       "  <tbody>\n",
       "  </tbody>\n",
       "</table>\n"
      ],
      "text/plain": [
       "<pandas.io.formats.style.Styler at 0x126fbecd0>"
      ]
     },
     "metadata": {},
     "output_type": "display_data"
    }
   ],
   "source": [
    "projects_url = f\"{host}/projects\" \n",
    "projects_response = requests.get(projects_url)\n",
    "\n",
    "if projects_response.status_code == 200:\n",
    "    projects = projects_response.json()\n",
    "    projects_data = list(map(lambda b: {'Project Name':b['name'], 'Project ID':b['@id']}, projects))\n",
    "    df = pd.DataFrame.from_records(projects_data).style.hide(axis='index')\n",
    "    # if len(projects_data) > 0:\n",
    "    #     df = df.style.sort_values(by='Project Name')\n",
    "    display(df)\n",
    "else:\n",
    "    pprint(\"Problem in fetching projects\")"
   ]
  },
  {
   "cell_type": "markdown",
   "id": "77345839-9d8f-409f-9131-440d1b30cbea",
   "metadata": {},
   "source": [
    "# Create a new project"
   ]
  },
  {
   "cell_type": "code",
   "execution_count": 7,
   "id": "6d2ba2fc-157a-4ac8-b8f3-876bbd3a21ea",
   "metadata": {},
   "outputs": [
    {
     "name": "stdout",
     "output_type": "stream",
     "text": [
      "{'@id': '978d0199-4e44-4090-8cb6-4253fd79e315',\n",
      " '@type': 'Project',\n",
      " 'defaultBranch': {'@id': '3e5d38d1-91e4-4ec2-b2ac-857738731468'},\n",
      " 'description': 'Spacecraft project with multiple commits, branches, and tags',\n",
      " 'name': 'Spacecraft project with branches and tags - 2022-09-09 '\n",
      "         '17:04:20.838366'}\n"
     ]
    }
   ],
   "source": [
    "timestamp = datetime.now()\n",
    "project_name = f\"Spacecraft project with branches and tags - {timestamp}\"\n",
    "project_data = {\n",
    "  \"@type\":\"Project\",\n",
    "  \"name\": project_name,\n",
    "  \"description\": \"Spacecraft project with multiple commits, branches, and tags\"\n",
    "}\n",
    "\n",
    "project_post_url = f\"{host}/projects\" \n",
    "\n",
    "project_post_response = requests.post(project_post_url, \n",
    "                                      headers={\"Content-Type\": \"application/json\"}, \n",
    "                                      data=json.dumps(project_data))\n",
    "\n",
    "project_id = \"\"\n",
    "\n",
    "if project_post_response.status_code == 200:\n",
    "    project_response_json = project_post_response.json()\n",
    "    pprint(project_response_json)\n",
    "    project_id = project_response_json['@id']\n",
    "    project_name = project_response_json['name']\n",
    "else:\n",
    "    pprint(f\"Problem in creating a new Spacecraft project at {timestamp}\")\n",
    "    pprint(project_post_response)"
   ]
  },
  {
   "cell_type": "markdown",
   "id": "921efbfd-04a1-4c5c-8e66-b31f0390aa45",
   "metadata": {},
   "source": [
    "# Get branches"
   ]
  },
  {
   "cell_type": "code",
   "execution_count": 8,
   "id": "df3e1039-ba51-4653-8897-e98be111078e",
   "metadata": {},
   "outputs": [
    {
     "data": {
      "text/html": [
       "<style type=\"text/css\">\n",
       "</style>\n",
       "<table id=\"T_5ae55\">\n",
       "  <thead>\n",
       "    <tr>\n",
       "      <th id=\"T_5ae55_level0_col0\" class=\"col_heading level0 col0\" >Branch Name</th>\n",
       "      <th id=\"T_5ae55_level0_col1\" class=\"col_heading level0 col1\" >Branch ID</th>\n",
       "      <th id=\"T_5ae55_level0_col2\" class=\"col_heading level0 col2\" >Ref Commit (head)</th>\n",
       "    </tr>\n",
       "  </thead>\n",
       "  <tbody>\n",
       "    <tr>\n",
       "      <td id=\"T_5ae55_row0_col0\" class=\"data row0 col0\" >main</td>\n",
       "      <td id=\"T_5ae55_row0_col1\" class=\"data row0 col1\" >3e5d38d1-91e4-4ec2-b2ac-857738731468</td>\n",
       "      <td id=\"T_5ae55_row0_col2\" class=\"data row0 col2\" >None</td>\n",
       "    </tr>\n",
       "  </tbody>\n",
       "</table>\n"
      ],
      "text/plain": [
       "<pandas.io.formats.style.Styler at 0x126fbec10>"
      ]
     },
     "metadata": {},
     "output_type": "display_data"
    }
   ],
   "source": [
    "branches_url = f\"{host}/projects/{project_id}/branches\" \n",
    "branches_response = requests.get(branches_url)\n",
    "\n",
    "if branches_response.status_code == 200:\n",
    "    branches = branches_response.json()\n",
    "    branches_data = list(map(lambda b: {'Branch Name':b['name'], 'Branch ID':b['@id'], 'Ref Commit (head)':b['head']}, branches))\n",
    "\n",
    "    df = pd.DataFrame.from_records(branches_data).sort_values(by='Branch Name').style.hide(axis='index')\n",
    "    display(df)\n",
    "else:\n",
    "    pprint(f\"Problem in fetching branches of Spacecraft project {project_id}\")\n",
    "    pprint(branches_response)"
   ]
  },
  {
   "cell_type": "markdown",
   "id": "5f761af7-0b40-4708-8c8e-217c9b2b6e8a",
   "metadata": {},
   "source": [
    "# Get tags"
   ]
  },
  {
   "cell_type": "code",
   "execution_count": 9,
   "id": "65deeb6c-ce34-43c5-ad62-bf145e946f1d",
   "metadata": {},
   "outputs": [
    {
     "name": "stdout",
     "output_type": "stream",
     "text": [
      "[]\n"
     ]
    },
    {
     "data": {
      "text/html": [
       "<style type=\"text/css\">\n",
       "</style>\n",
       "<table id=\"T_cf698\">\n",
       "  <thead>\n",
       "  </thead>\n",
       "  <tbody>\n",
       "  </tbody>\n",
       "</table>\n"
      ],
      "text/plain": [
       "<pandas.io.formats.style.Styler at 0x137521970>"
      ]
     },
     "metadata": {},
     "output_type": "display_data"
    }
   ],
   "source": [
    "tags_url = f\"{host}/projects/{project_id}/tags\" \n",
    "tags_response = requests.get(tags_url)\n",
    "\n",
    "if tags_response.status_code == 200:\n",
    "    tags = tags_response.json()\n",
    "    pprint(tags)\n",
    "    tags_data = list(map(lambda b: {'Tag Name':b['name'], 'Tag ID':b['@id'], 'Tagged Commit':b['taggedCommit']}, tags))\n",
    "\n",
    "    df = pd.DataFrame.from_records(tags_data).style.hide(axis='index')\n",
    "    display(df)\n",
    "else:\n",
    "    pprint(f\"Problem in fetching tags of Spacecraft project {project_id}\")\n",
    "    pprint(tags_response)"
   ]
  },
  {
   "cell_type": "markdown",
   "id": "569ca8f1-ebf1-41d2-93f3-8795a2439eea",
   "metadata": {},
   "source": [
    "# Create 1st Commit"
   ]
  },
  {
   "cell_type": "code",
   "execution_count": 10,
   "id": "3eed91b9-903b-441f-b1f2-10dbcfafa342",
   "metadata": {},
   "outputs": [
    {
     "name": "stdout",
     "output_type": "stream",
     "text": [
      "{'@id': '227e0d09-bdd2-4812-b818-8d9f737db429',\n",
      " '@type': 'Commit',\n",
      " 'owningProject': {'@id': '978d0199-4e44-4090-8cb6-4253fd79e315'},\n",
      " 'previousCommit': None,\n",
      " 'timestamp': '2022-09-09T17:04:27.353806-04:00'}\n"
     ]
    }
   ],
   "source": [
    "commit_body = {\n",
    "  \"@type\": \"Commit\",\n",
    "  \"change\": [\n",
    "    {\n",
    "      \"@type\": \"DataVersion\",\n",
    "      \"payload\": {\n",
    "        \"@type\": \"PartDefinition\",\n",
    "        \"name\":\"Spacecraft System\"\n",
    "      }\n",
    "    },\n",
    "    {\n",
    "      \"@type\": \"DataVersion\",\n",
    "      \"payload\": {\n",
    "        \"@type\": \"PartDefinition\",\n",
    "        \"name\":\"Payload System\"\n",
    "      }\n",
    "    },\n",
    "    {\n",
    "      \"@type\": \"DataVersion\",\n",
    "      \"payload\": {\n",
    "        \"@type\": \"PartDefinition\",\n",
    "        \"name\":\"Propulsion System\"\n",
    "      }\n",
    "    }\n",
    "  ]\n",
    "}\n",
    "\n",
    "commit_post_url = f\"{host}/projects/{project_id}/commits\" \n",
    "\n",
    "commit_post_response = requests.post(commit_post_url, \n",
    "                                      headers={\"Content-Type\": \"application/json\"}, \n",
    "                                      data=json.dumps(commit_body))\n",
    "\n",
    "commit1_id = \"\"\n",
    "\n",
    "if commit_post_response.status_code == 200:\n",
    "    commit_response_json = commit_post_response.json()\n",
    "    pprint(commit_response_json)\n",
    "    commit1_id = commit_response_json['@id']\n",
    "else:\n",
    "    pprint(f\"Problem in creating a new commit in Spacecraft project {project_id}\")\n",
    "    pprint(commit_post_response)"
   ]
  },
  {
   "cell_type": "code",
   "execution_count": 11,
   "id": "65537f5c-f521-469e-92e4-9a2568afed05",
   "metadata": {},
   "outputs": [
    {
     "data": {
      "text/html": [
       "<style type=\"text/css\">\n",
       "</style>\n",
       "<table id=\"T_c8e27\">\n",
       "  <thead>\n",
       "    <tr>\n",
       "      <th id=\"T_c8e27_level0_col0\" class=\"col_heading level0 col0\" >Element Name</th>\n",
       "      <th id=\"T_c8e27_level0_col1\" class=\"col_heading level0 col1\" >Element ID</th>\n",
       "    </tr>\n",
       "  </thead>\n",
       "  <tbody>\n",
       "    <tr>\n",
       "      <td id=\"T_c8e27_row0_col0\" class=\"data row0 col0\" >Payload System</td>\n",
       "      <td id=\"T_c8e27_row0_col1\" class=\"data row0 col1\" >5300ff6a-0f1c-487a-a463-1153f9638fcb</td>\n",
       "    </tr>\n",
       "    <tr>\n",
       "      <td id=\"T_c8e27_row1_col0\" class=\"data row1 col0\" >Propulsion System</td>\n",
       "      <td id=\"T_c8e27_row1_col1\" class=\"data row1 col1\" >6f038f20-a84b-4418-802d-b23a86c01f03</td>\n",
       "    </tr>\n",
       "    <tr>\n",
       "      <td id=\"T_c8e27_row2_col0\" class=\"data row2 col0\" >Spacecraft System</td>\n",
       "      <td id=\"T_c8e27_row2_col1\" class=\"data row2 col1\" >1de8be3d-e734-47cb-a98b-8feaad078c3d</td>\n",
       "    </tr>\n",
       "  </tbody>\n",
       "</table>\n"
      ],
      "text/plain": [
       "<pandas.io.formats.style.Styler at 0x106f9c070>"
      ]
     },
     "metadata": {},
     "output_type": "display_data"
    }
   ],
   "source": [
    "element_get_url = f\"{host}/projects/{project_id}/commits/{commit1_id}/elements\" \n",
    "\n",
    "element_get_response = requests.get(element_get_url)\n",
    "\n",
    "if element_get_response.status_code == 200:\n",
    "    elements = element_get_response.json()\n",
    "    elements_data = list(map(lambda b: {'Element Name':b['name'], 'Element ID':b['@id']}, elements))\n",
    "    df = pd.DataFrame.from_records(elements_data).sort_values(by='Element Name').style.hide(axis='index')\n",
    "    display(df)\n",
    "else:\n",
    "    pprint(f\"Problem in fetching elements in the Spacecraft project {project_id} at commit {commit1_id}.\")\n",
    "    pprint(element_get_response)"
   ]
  },
  {
   "cell_type": "markdown",
   "id": "8e38b288-6517-4a7b-90e5-ae73c5f89df3",
   "metadata": {},
   "source": [
    "# Create 2nd Commit"
   ]
  },
  {
   "cell_type": "code",
   "execution_count": 12,
   "id": "76d80cb1-40c8-4f24-aeb5-51e509f4e159",
   "metadata": {
    "tags": []
   },
   "outputs": [
    {
     "name": "stdout",
     "output_type": "stream",
     "text": [
      "{'@id': '3a05f9df-16ac-483b-abe4-7a7a104a33fa',\n",
      " '@type': 'Commit',\n",
      " 'owningProject': {'@id': '978d0199-4e44-4090-8cb6-4253fd79e315'},\n",
      " 'previousCommit': {'@id': '227e0d09-bdd2-4812-b818-8d9f737db429'},\n",
      " 'timestamp': '2022-09-09T17:04:31.909048-04:00'}\n"
     ]
    }
   ],
   "source": [
    "commit_body = {\n",
    "  \"@type\": \"Commit\",\n",
    "  \"change\": [\n",
    "    {\n",
    "      \"@type\": \"DataVersion\",\n",
    "      \"payload\": {\n",
    "        \"@type\": \"PartDefinition\",\n",
    "        \"name\":\"Avionics System\"\n",
    "      }\n",
    "    },\n",
    "    {\n",
    "      \"@type\": \"DataVersion\",\n",
    "      \"payload\": {\n",
    "        \"@type\": \"PartDefinition\",\n",
    "        \"name\":\"Power System\"\n",
    "      }\n",
    "    }\n",
    "  ],\n",
    "  \"previousCommit\": {\n",
    "      \"@id\": commit1_id\n",
    "    }\n",
    "}\n",
    "\n",
    "commit_post_url = f\"{host}/projects/{project_id}/commits\" \n",
    "\n",
    "commit_post_response = requests.post(commit_post_url, \n",
    "                                      headers={\"Content-Type\": \"application/json\"}, \n",
    "                                      data=json.dumps(commit_body))\n",
    "\n",
    "commit2_id = \"\"\n",
    "\n",
    "if commit_post_response.status_code == 200:\n",
    "    commit_response_json = commit_post_response.json()\n",
    "    pprint(commit_response_json)\n",
    "    commit2_id = commit_response_json['@id']\n",
    "else:\n",
    "    pprint(f\"Problem in creating a new commit in Spacecraft project {project_id}\")\n",
    "    pprint(commit_post_response)"
   ]
  },
  {
   "cell_type": "markdown",
   "id": "d815e4fe",
   "metadata": {},
   "source": [
    "# Get all elements after the 2nd commit"
   ]
  },
  {
   "cell_type": "code",
   "execution_count": 13,
   "id": "eac0a387-e4cf-4fc8-8b47-c64ed2ebff62",
   "metadata": {},
   "outputs": [
    {
     "data": {
      "text/html": [
       "<style type=\"text/css\">\n",
       "</style>\n",
       "<table id=\"T_d7e15\">\n",
       "  <thead>\n",
       "    <tr>\n",
       "      <th id=\"T_d7e15_level0_col0\" class=\"col_heading level0 col0\" >Element Name</th>\n",
       "      <th id=\"T_d7e15_level0_col1\" class=\"col_heading level0 col1\" >Element ID</th>\n",
       "    </tr>\n",
       "  </thead>\n",
       "  <tbody>\n",
       "    <tr>\n",
       "      <td id=\"T_d7e15_row0_col0\" class=\"data row0 col0\" >Avionics System</td>\n",
       "      <td id=\"T_d7e15_row0_col1\" class=\"data row0 col1\" >ff573440-aac6-40cc-a12e-917b20da1233</td>\n",
       "    </tr>\n",
       "    <tr>\n",
       "      <td id=\"T_d7e15_row1_col0\" class=\"data row1 col0\" >Payload System</td>\n",
       "      <td id=\"T_d7e15_row1_col1\" class=\"data row1 col1\" >5300ff6a-0f1c-487a-a463-1153f9638fcb</td>\n",
       "    </tr>\n",
       "    <tr>\n",
       "      <td id=\"T_d7e15_row2_col0\" class=\"data row2 col0\" >Power System</td>\n",
       "      <td id=\"T_d7e15_row2_col1\" class=\"data row2 col1\" >b833d8d8-ce5e-444b-a6cb-15a2c06aae16</td>\n",
       "    </tr>\n",
       "    <tr>\n",
       "      <td id=\"T_d7e15_row3_col0\" class=\"data row3 col0\" >Propulsion System</td>\n",
       "      <td id=\"T_d7e15_row3_col1\" class=\"data row3 col1\" >6f038f20-a84b-4418-802d-b23a86c01f03</td>\n",
       "    </tr>\n",
       "    <tr>\n",
       "      <td id=\"T_d7e15_row4_col0\" class=\"data row4 col0\" >Spacecraft System</td>\n",
       "      <td id=\"T_d7e15_row4_col1\" class=\"data row4 col1\" >1de8be3d-e734-47cb-a98b-8feaad078c3d</td>\n",
       "    </tr>\n",
       "  </tbody>\n",
       "</table>\n"
      ],
      "text/plain": [
       "<pandas.io.formats.style.Styler at 0x13769ae50>"
      ]
     },
     "metadata": {},
     "output_type": "display_data"
    }
   ],
   "source": [
    "element_get_url = f\"{host}/projects/{project_id}/commits/{commit2_id}/elements\" \n",
    "\n",
    "element_get_response = requests.get(element_get_url)\n",
    "\n",
    "if element_get_response.status_code == 200:\n",
    "    elements = element_get_response.json()\n",
    "    elements_data = list(map(lambda b: {'Element Name':b['name'], 'Element ID':b['@id']}, elements))\n",
    "    df = pd.DataFrame.from_records(elements_data).sort_values(by='Element Name').style.hide(axis='index')\n",
    "    display(df)\n",
    "else:\n",
    "    pprint(f\"Problem in fetching elements in the Spacecraft project {project_id} at commit {commit2_id}.\")\n",
    "    pprint(element_get_response)"
   ]
  },
  {
   "cell_type": "markdown",
   "id": "4b841d77-eb20-4f3c-bc64-fe08031d01bc",
   "metadata": {},
   "source": [
    "# Create a tag"
   ]
  },
  {
   "cell_type": "code",
   "execution_count": 14,
   "id": "886842cc-c983-424f-9af9-083257a5732c",
   "metadata": {},
   "outputs": [
    {
     "name": "stdout",
     "output_type": "stream",
     "text": [
      "{'@id': '8b98474b-b4b4-4eff-b52d-251e3b666110',\n",
      " '@type': 'Tag',\n",
      " 'name': 'Spacecraft Internal Release 0.1',\n",
      " 'owningProject': {'@id': '978d0199-4e44-4090-8cb6-4253fd79e315'},\n",
      " 'referencedCommit': {'@id': '3a05f9df-16ac-483b-abe4-7a7a104a33fa'},\n",
      " 'taggedCommit': {'@id': '3a05f9df-16ac-483b-abe4-7a7a104a33fa'},\n",
      " 'timestamp': '2022-09-09T17:04:36.074635-04:00'}\n"
     ]
    }
   ],
   "source": [
    "tag_body = {\n",
    "    \"@type\": \"Tag\",\n",
    "    \"name\": \"Spacecraft Internal Release 0.1\",\n",
    "    \"taggedCommit\": {\n",
    "      \"@id\": commit2_id\n",
    "    }\n",
    "}\n",
    "\n",
    "tag_post_url = f\"{host}/projects/{project_id}/tags\" \n",
    "\n",
    "tag_post_response = requests.post(tag_post_url, \n",
    "                                  headers={\"Content-Type\": \"application/json\"}, \n",
    "                                  data=json.dumps(tag_body))\n",
    "\n",
    "tag1_id = \"\"\n",
    "\n",
    "if tag_post_response.status_code == 200:\n",
    "    tag_response_json = tag_post_response.json()\n",
    "    pprint(tag_response_json)\n",
    "    tag1_id = tag_response_json['@id']\n",
    "else:\n",
    "    pprint(f\"Problem in creating a new tag in Spacecraft project {project_id}.\")\n",
    "    pprint(tag_post_response)"
   ]
  },
  {
   "cell_type": "markdown",
   "id": "ec239663-ce0d-4ae6-acd7-5910299dedda",
   "metadata": {},
   "source": [
    "# Get Tags"
   ]
  },
  {
   "cell_type": "code",
   "execution_count": 15,
   "id": "bf1ce47b-079d-429f-b43b-491c3aa156c8",
   "metadata": {},
   "outputs": [
    {
     "data": {
      "text/html": [
       "<style type=\"text/css\">\n",
       "</style>\n",
       "<table id=\"T_2e247\">\n",
       "  <thead>\n",
       "    <tr>\n",
       "      <th id=\"T_2e247_level0_col0\" class=\"col_heading level0 col0\" >Tag Name</th>\n",
       "      <th id=\"T_2e247_level0_col1\" class=\"col_heading level0 col1\" >Tag ID</th>\n",
       "      <th id=\"T_2e247_level0_col2\" class=\"col_heading level0 col2\" >Tagged Commit</th>\n",
       "    </tr>\n",
       "  </thead>\n",
       "  <tbody>\n",
       "    <tr>\n",
       "      <td id=\"T_2e247_row0_col0\" class=\"data row0 col0\" >Spacecraft Internal Release 0.1</td>\n",
       "      <td id=\"T_2e247_row0_col1\" class=\"data row0 col1\" >8b98474b-b4b4-4eff-b52d-251e3b666110</td>\n",
       "      <td id=\"T_2e247_row0_col2\" class=\"data row0 col2\" >{'@id': '3a05f9df-16ac-483b-abe4-7a7a104a33fa'}</td>\n",
       "    </tr>\n",
       "  </tbody>\n",
       "</table>\n"
      ],
      "text/plain": [
       "<pandas.io.formats.style.Styler at 0x13769a790>"
      ]
     },
     "metadata": {},
     "output_type": "display_data"
    }
   ],
   "source": [
    "tags_url = f\"{host}/projects/{project_id}/tags\" \n",
    "tags_response = requests.get(tags_url)\n",
    "\n",
    "if tags_response.status_code == 200:\n",
    "    tags = tags_response.json()\n",
    "    tags_data = list(map(lambda b: {'Tag Name':b['name'], 'Tag ID':b['@id'], 'Tagged Commit':b['taggedCommit']}, tags))\n",
    "\n",
    "    df = pd.DataFrame.from_records(tags_data).style.hide(axis='index')\n",
    "    display(df)\n",
    "else:\n",
    "    pprint(f\"Problem in fetching tags in Spacecraft project {project_id}.\")\n",
    "    pprint(tag_post_response)"
   ]
  },
  {
   "cell_type": "markdown",
   "id": "5a0ec0fa-af50-4944-8401-183f2cb165af",
   "metadata": {},
   "source": [
    "# Create a new branch at the second commit (also tagged as 0.1)"
   ]
  },
  {
   "cell_type": "code",
   "execution_count": 16,
   "id": "cc9620df-e407-4a25-8ae4-bd803d1cde32",
   "metadata": {},
   "outputs": [
    {
     "name": "stdout",
     "output_type": "stream",
     "text": [
      "{'@id': '3557c400-65df-4485-99d2-74df37fff362',\n",
      " '@type': 'Branch',\n",
      " 'head': {'@id': '3a05f9df-16ac-483b-abe4-7a7a104a33fa'},\n",
      " 'name': 'develop',\n",
      " 'owningProject': {'@id': '978d0199-4e44-4090-8cb6-4253fd79e315'},\n",
      " 'referencedCommit': {'@id': '3a05f9df-16ac-483b-abe4-7a7a104a33fa'},\n",
      " 'timestamp': '2022-09-09T17:04:39.14587-04:00'}\n"
     ]
    }
   ],
   "source": [
    "branch_body = {\n",
    "  \"@type\": \"Branch\",\n",
    "  \"name\": \"develop\",\n",
    "  \"head\": {\n",
    "      \"@id\": commit2_id\n",
    "    }\n",
    "}\n",
    "\n",
    "branch_post_url = f\"{host}/projects/{project_id}/branches\" \n",
    "\n",
    "branch_post_response = requests.post(branch_post_url, \n",
    "                                      headers={\"Content-Type\": \"application/json\"}, \n",
    "                                      data=json.dumps(branch_body))\n",
    "\n",
    "branch_develop_id = \"\"\n",
    "\n",
    "if branch_post_response.status_code == 200:\n",
    "    branch_response_json = branch_post_response.json()\n",
    "    pprint(branch_response_json)\n",
    "    branch_develop_id = branch_response_json['@id']\n",
    "else:\n",
    "    pprint(f\"Problem in creating a new branch in Spacecraft project {project_id}\")\n",
    "    pprint(branch_post_response)"
   ]
  },
  {
   "cell_type": "markdown",
   "id": "19ba5702-85d2-40ec-b01c-de6f112e8bfa",
   "metadata": {
    "tags": []
   },
   "source": [
    "# Get branches"
   ]
  },
  {
   "cell_type": "code",
   "execution_count": 17,
   "id": "61faab74-218a-4bf4-832d-2e3a3d70578d",
   "metadata": {},
   "outputs": [
    {
     "data": {
      "text/html": [
       "<style type=\"text/css\">\n",
       "</style>\n",
       "<table id=\"T_4b20e\">\n",
       "  <thead>\n",
       "    <tr>\n",
       "      <th id=\"T_4b20e_level0_col0\" class=\"col_heading level0 col0\" >Branch Name</th>\n",
       "      <th id=\"T_4b20e_level0_col1\" class=\"col_heading level0 col1\" >Branch ID</th>\n",
       "      <th id=\"T_4b20e_level0_col2\" class=\"col_heading level0 col2\" >Ref Commit (head)</th>\n",
       "    </tr>\n",
       "  </thead>\n",
       "  <tbody>\n",
       "    <tr>\n",
       "      <td id=\"T_4b20e_row0_col0\" class=\"data row0 col0\" >develop</td>\n",
       "      <td id=\"T_4b20e_row0_col1\" class=\"data row0 col1\" >3557c400-65df-4485-99d2-74df37fff362</td>\n",
       "      <td id=\"T_4b20e_row0_col2\" class=\"data row0 col2\" >{'@id': '3a05f9df-16ac-483b-abe4-7a7a104a33fa'}</td>\n",
       "    </tr>\n",
       "    <tr>\n",
       "      <td id=\"T_4b20e_row1_col0\" class=\"data row1 col0\" >main</td>\n",
       "      <td id=\"T_4b20e_row1_col1\" class=\"data row1 col1\" >3e5d38d1-91e4-4ec2-b2ac-857738731468</td>\n",
       "      <td id=\"T_4b20e_row1_col2\" class=\"data row1 col2\" >{'@id': '3a05f9df-16ac-483b-abe4-7a7a104a33fa'}</td>\n",
       "    </tr>\n",
       "  </tbody>\n",
       "</table>\n"
      ],
      "text/plain": [
       "<pandas.io.formats.style.Styler at 0x13769a880>"
      ]
     },
     "metadata": {},
     "output_type": "display_data"
    }
   ],
   "source": [
    "branches_url = f\"{host}/projects/{project_id}/branches\" \n",
    "branches_response = requests.get(branches_url)\n",
    "\n",
    "if branches_response.status_code == 200:\n",
    "    branches = branches_response.json()\n",
    "    branches_data = list(map(lambda b: {'Branch Name':b['name'], 'Branch ID':b['@id'], 'Ref Commit (head)':b['head']}, branches))\n",
    "\n",
    "    df = pd.DataFrame.from_records(branches_data).sort_values(by='Branch Name').style.hide(axis='index')\n",
    "    display(df)\n",
    "else:\n",
    "    pprint(f\"Problem in fetching branches in Spacecraft project {project_id}\")\n",
    "    pprint(branches_response)"
   ]
  },
  {
   "cell_type": "markdown",
   "id": "8dbea034-4180-415f-9604-8e1afb149fdc",
   "metadata": {},
   "source": [
    "# Create a new commit in the develop branch"
   ]
  },
  {
   "cell_type": "code",
   "execution_count": 18,
   "id": "055f42b3-18de-4f94-ae53-43660948493b",
   "metadata": {},
   "outputs": [
    {
     "name": "stdout",
     "output_type": "stream",
     "text": [
      "{'@id': '044863cd-cc2c-48f5-8ff6-6ec7eae5612c',\n",
      " '@type': 'Commit',\n",
      " 'owningProject': {'@id': '978d0199-4e44-4090-8cb6-4253fd79e315'},\n",
      " 'previousCommit': {'@id': '3a05f9df-16ac-483b-abe4-7a7a104a33fa'},\n",
      " 'timestamp': '2022-09-09T17:04:42.398066-04:00'}\n"
     ]
    }
   ],
   "source": [
    "commit_body = {\n",
    "  \"@type\": \"Commit\",\n",
    "  \"change\": [\n",
    "    {\n",
    "      \"@type\": \"DataVersion\",\n",
    "      \"payload\": {\n",
    "        \"@type\": \"PartDefinition\",\n",
    "        \"name\":\"GN & C System\"\n",
    "      }\n",
    "    }\n",
    "  ],\n",
    "  \"previousCommit\": {\n",
    "      \"@id\": commit2_id\n",
    "    }\n",
    "}\n",
    "\n",
    "commit_post_url = f\"{host}/projects/{project_id}/commits\" \n",
    "\n",
    "commit_post_response = requests.post(commit_post_url, \n",
    "                                      headers={\"Content-Type\": \"application/json\"}, \n",
    "                                      data=json.dumps(commit_body),\n",
    "                                      params={\"branchId\":branch_develop_id})\n",
    "\n",
    "commit3_id = \"\"\n",
    "\n",
    "if commit_post_response.status_code == 200:\n",
    "    commit_response_json = commit_post_response.json()\n",
    "    pprint(commit_response_json)\n",
    "    commit3_id = commit_response_json['@id']\n",
    "else:\n",
    "    pprint(f\"Problem in creating a new commit in Spacecraft project {project_id}\")\n",
    "    pprint(commit_post_response)"
   ]
  },
  {
   "cell_type": "markdown",
   "id": "e2ba3c85-db23-460d-b6d4-6afbd6461e7d",
   "metadata": {},
   "source": [
    "# Get Branches"
   ]
  },
  {
   "cell_type": "code",
   "execution_count": 19,
   "id": "ead42406-7536-4f47-b0d8-d34a48e9054e",
   "metadata": {},
   "outputs": [
    {
     "data": {
      "text/html": [
       "<style type=\"text/css\">\n",
       "</style>\n",
       "<table id=\"T_b6ba1\">\n",
       "  <thead>\n",
       "    <tr>\n",
       "      <th id=\"T_b6ba1_level0_col0\" class=\"col_heading level0 col0\" >Branch Name</th>\n",
       "      <th id=\"T_b6ba1_level0_col1\" class=\"col_heading level0 col1\" >Branch ID</th>\n",
       "      <th id=\"T_b6ba1_level0_col2\" class=\"col_heading level0 col2\" >Ref Commit (head)</th>\n",
       "    </tr>\n",
       "  </thead>\n",
       "  <tbody>\n",
       "    <tr>\n",
       "      <td id=\"T_b6ba1_row0_col0\" class=\"data row0 col0\" >develop</td>\n",
       "      <td id=\"T_b6ba1_row0_col1\" class=\"data row0 col1\" >3557c400-65df-4485-99d2-74df37fff362</td>\n",
       "      <td id=\"T_b6ba1_row0_col2\" class=\"data row0 col2\" >{'@id': '044863cd-cc2c-48f5-8ff6-6ec7eae5612c'}</td>\n",
       "    </tr>\n",
       "    <tr>\n",
       "      <td id=\"T_b6ba1_row1_col0\" class=\"data row1 col0\" >main</td>\n",
       "      <td id=\"T_b6ba1_row1_col1\" class=\"data row1 col1\" >3e5d38d1-91e4-4ec2-b2ac-857738731468</td>\n",
       "      <td id=\"T_b6ba1_row1_col2\" class=\"data row1 col2\" >{'@id': '3a05f9df-16ac-483b-abe4-7a7a104a33fa'}</td>\n",
       "    </tr>\n",
       "  </tbody>\n",
       "</table>\n"
      ],
      "text/plain": [
       "<pandas.io.formats.style.Styler at 0x13769a520>"
      ]
     },
     "metadata": {},
     "output_type": "display_data"
    }
   ],
   "source": [
    "branches_url = f\"{host}/projects/{project_id}/branches\" \n",
    "branches_response = requests.get(branches_url)\n",
    "\n",
    "if branches_response.status_code == 200:\n",
    "    branches = branches_response.json()\n",
    "    branches_data = list(map(lambda b: {'Branch Name':b['name'], 'Branch ID':b['@id'], 'Ref Commit (head)':b['head']}, branches))\n",
    "\n",
    "    df = pd.DataFrame.from_records(branches_data).sort_values(by='Branch Name').style.hide(axis='index')\n",
    "    display(df)\n",
    "else:\n",
    "    pprint(f\"Problem in fetching branches in Spacecraft project {project_id}\")\n",
    "    pprint(commit_post_response)"
   ]
  },
  {
   "cell_type": "markdown",
   "id": "61cdaecd-44db-4e27-85dd-de5d002648cc",
   "metadata": {},
   "source": [
    "# Get all elements as of the latest commit on main branch"
   ]
  },
  {
   "cell_type": "code",
   "execution_count": 20,
   "id": "86008838-368a-4e58-9d5b-70e9c57442f4",
   "metadata": {},
   "outputs": [
    {
     "name": "stdout",
     "output_type": "stream",
     "text": [
      "'Fetching elements at commit 3a05f9df-16ac-483b-abe4-7a7a104a33fa'\n"
     ]
    },
    {
     "data": {
      "text/html": [
       "<style type=\"text/css\">\n",
       "</style>\n",
       "<table id=\"T_49b6a\">\n",
       "  <thead>\n",
       "    <tr>\n",
       "      <th id=\"T_49b6a_level0_col0\" class=\"col_heading level0 col0\" >Element Name</th>\n",
       "      <th id=\"T_49b6a_level0_col1\" class=\"col_heading level0 col1\" >Element ID</th>\n",
       "    </tr>\n",
       "  </thead>\n",
       "  <tbody>\n",
       "    <tr>\n",
       "      <td id=\"T_49b6a_row0_col0\" class=\"data row0 col0\" >Avionics System</td>\n",
       "      <td id=\"T_49b6a_row0_col1\" class=\"data row0 col1\" >ff573440-aac6-40cc-a12e-917b20da1233</td>\n",
       "    </tr>\n",
       "    <tr>\n",
       "      <td id=\"T_49b6a_row1_col0\" class=\"data row1 col0\" >Payload System</td>\n",
       "      <td id=\"T_49b6a_row1_col1\" class=\"data row1 col1\" >5300ff6a-0f1c-487a-a463-1153f9638fcb</td>\n",
       "    </tr>\n",
       "    <tr>\n",
       "      <td id=\"T_49b6a_row2_col0\" class=\"data row2 col0\" >Power System</td>\n",
       "      <td id=\"T_49b6a_row2_col1\" class=\"data row2 col1\" >b833d8d8-ce5e-444b-a6cb-15a2c06aae16</td>\n",
       "    </tr>\n",
       "    <tr>\n",
       "      <td id=\"T_49b6a_row3_col0\" class=\"data row3 col0\" >Propulsion System</td>\n",
       "      <td id=\"T_49b6a_row3_col1\" class=\"data row3 col1\" >6f038f20-a84b-4418-802d-b23a86c01f03</td>\n",
       "    </tr>\n",
       "    <tr>\n",
       "      <td id=\"T_49b6a_row4_col0\" class=\"data row4 col0\" >Spacecraft System</td>\n",
       "      <td id=\"T_49b6a_row4_col1\" class=\"data row4 col1\" >1de8be3d-e734-47cb-a98b-8feaad078c3d</td>\n",
       "    </tr>\n",
       "  </tbody>\n",
       "</table>\n"
      ],
      "text/plain": [
       "<pandas.io.formats.style.Styler at 0x106f9c760>"
      ]
     },
     "metadata": {},
     "output_type": "display_data"
    }
   ],
   "source": [
    "pprint(f\"Fetching elements at commit {commit2_id}\")\n",
    "element_get_url = f\"{host}/projects/{project_id}/commits/{commit2_id}/elements\" \n",
    "\n",
    "element_get_response = requests.get(element_get_url)\n",
    "\n",
    "if element_get_response.status_code == 200:\n",
    "    elements = element_get_response.json()\n",
    "    elements_data = list(map(lambda b: {'Element Name':b['name'], 'Element ID':b['@id']}, elements))\n",
    "    df = pd.DataFrame.from_records(elements_data).sort_values(by='Element Name').style.hide(axis='index')\n",
    "    display(df)\n",
    "else:\n",
    "    pprint(f\"Problem in fetching elements in the Spacecraft project {project_id} at commit {commit2_id}\")\n",
    "    pprint(element_get_response)"
   ]
  },
  {
   "cell_type": "markdown",
   "id": "24a94903-9a4e-4f2b-b1bf-be21b7e22e48",
   "metadata": {},
   "source": [
    "# Get all elements as of the latest commit on develop branch"
   ]
  },
  {
   "cell_type": "code",
   "execution_count": 21,
   "id": "60bf125d-5258-4546-99da-3680de66dd1b",
   "metadata": {},
   "outputs": [
    {
     "name": "stdout",
     "output_type": "stream",
     "text": [
      "'Fetching elements at commit 044863cd-cc2c-48f5-8ff6-6ec7eae5612c'\n"
     ]
    },
    {
     "data": {
      "text/html": [
       "<style type=\"text/css\">\n",
       "</style>\n",
       "<table id=\"T_01179\">\n",
       "  <thead>\n",
       "    <tr>\n",
       "      <th id=\"T_01179_level0_col0\" class=\"col_heading level0 col0\" >Element Name</th>\n",
       "      <th id=\"T_01179_level0_col1\" class=\"col_heading level0 col1\" >Element ID</th>\n",
       "    </tr>\n",
       "  </thead>\n",
       "  <tbody>\n",
       "    <tr>\n",
       "      <td id=\"T_01179_row0_col0\" class=\"data row0 col0\" >Avionics System</td>\n",
       "      <td id=\"T_01179_row0_col1\" class=\"data row0 col1\" >ff573440-aac6-40cc-a12e-917b20da1233</td>\n",
       "    </tr>\n",
       "    <tr>\n",
       "      <td id=\"T_01179_row1_col0\" class=\"data row1 col0\" >GN & C System</td>\n",
       "      <td id=\"T_01179_row1_col1\" class=\"data row1 col1\" >5cb6557c-85be-413c-ac96-47bfd47199f7</td>\n",
       "    </tr>\n",
       "    <tr>\n",
       "      <td id=\"T_01179_row2_col0\" class=\"data row2 col0\" >Payload System</td>\n",
       "      <td id=\"T_01179_row2_col1\" class=\"data row2 col1\" >5300ff6a-0f1c-487a-a463-1153f9638fcb</td>\n",
       "    </tr>\n",
       "    <tr>\n",
       "      <td id=\"T_01179_row3_col0\" class=\"data row3 col0\" >Power System</td>\n",
       "      <td id=\"T_01179_row3_col1\" class=\"data row3 col1\" >b833d8d8-ce5e-444b-a6cb-15a2c06aae16</td>\n",
       "    </tr>\n",
       "    <tr>\n",
       "      <td id=\"T_01179_row4_col0\" class=\"data row4 col0\" >Propulsion System</td>\n",
       "      <td id=\"T_01179_row4_col1\" class=\"data row4 col1\" >6f038f20-a84b-4418-802d-b23a86c01f03</td>\n",
       "    </tr>\n",
       "    <tr>\n",
       "      <td id=\"T_01179_row5_col0\" class=\"data row5 col0\" >Spacecraft System</td>\n",
       "      <td id=\"T_01179_row5_col1\" class=\"data row5 col1\" >1de8be3d-e734-47cb-a98b-8feaad078c3d</td>\n",
       "    </tr>\n",
       "  </tbody>\n",
       "</table>\n"
      ],
      "text/plain": [
       "<pandas.io.formats.style.Styler at 0x1376a37f0>"
      ]
     },
     "metadata": {},
     "output_type": "display_data"
    }
   ],
   "source": [
    "pprint(f\"Fetching elements at commit {commit3_id}\")\n",
    "element_get_url = f\"{host}/projects/{project_id}/commits/{commit3_id}/elements\" \n",
    "\n",
    "element_get_response = requests.get(element_get_url)\n",
    "\n",
    "if element_get_response.status_code == 200:\n",
    "    elements = element_get_response.json()\n",
    "    elements_data = list(map(lambda b: {'Element Name':b['name'], 'Element ID':b['@id']}, elements))\n",
    "    df = pd.DataFrame.from_records(elements_data).sort_values(by='Element Name').style.hide(axis='index')\n",
    "    display(df)\n",
    "else:\n",
    "    pprint(f\"Problem in fetching elements in the Spacecraft project {project_id} at commit {commit3_id}\")\n",
    "    pprint(element_get_response)"
   ]
  },
  {
   "cell_type": "markdown",
   "id": "f162ef4e-3e68-4a66-b8fa-2abde70e867d",
   "metadata": {},
   "source": [
    "# Create a tag at the last commit on develop branch"
   ]
  },
  {
   "cell_type": "code",
   "execution_count": 22,
   "id": "b3e26544-b2e4-4370-bb85-9d23aabcc0b5",
   "metadata": {},
   "outputs": [
    {
     "name": "stdout",
     "output_type": "stream",
     "text": [
      "{'@id': 'b315aac0-a5c0-46c3-8be3-bc69da551050',\n",
      " '@type': 'Tag',\n",
      " 'name': 'Spacecraft Internal Release 0.2 build 1',\n",
      " 'owningProject': {'@id': '978d0199-4e44-4090-8cb6-4253fd79e315'},\n",
      " 'referencedCommit': {'@id': '044863cd-cc2c-48f5-8ff6-6ec7eae5612c'},\n",
      " 'taggedCommit': {'@id': '044863cd-cc2c-48f5-8ff6-6ec7eae5612c'},\n",
      " 'timestamp': '2022-09-09T17:04:48.119181-04:00'}\n"
     ]
    }
   ],
   "source": [
    "tag_body = {\n",
    "    \"@type\": \"Tag\",\n",
    "    \"name\": \"Spacecraft Internal Release 0.2 build 1\",\n",
    "    \"taggedCommit\": {\n",
    "      \"@id\": commit3_id\n",
    "    }\n",
    "}\n",
    "\n",
    "tag_post_url = f\"{host}/projects/{project_id}/tags\" \n",
    "\n",
    "tag_post_response = requests.post(tag_post_url, \n",
    "                                  headers={\"Content-Type\": \"application/json\"}, \n",
    "                                  data=json.dumps(tag_body))\n",
    "\n",
    "tag1_id = \"\"\n",
    "\n",
    "if tag_post_response.status_code == 200:\n",
    "    tag_response_json = tag_post_response.json()\n",
    "    pprint(tag_response_json)\n",
    "    tag1_id = tag_response_json['@id']\n",
    "else:\n",
    "    pprint(f\"Problem in creating a new tag in Spacecraft project {project_id}.\")\n",
    "    pprint(tag_post_response)"
   ]
  },
  {
   "cell_type": "markdown",
   "id": "20dfd748-3149-4442-a7e8-fbef247377a7",
   "metadata": {},
   "source": [
    "# Get all tags"
   ]
  },
  {
   "cell_type": "code",
   "execution_count": 23,
   "id": "aee7a152-8b4c-476a-8691-4766fc94c240",
   "metadata": {},
   "outputs": [
    {
     "data": {
      "text/html": [
       "<style type=\"text/css\">\n",
       "</style>\n",
       "<table id=\"T_5f8b5\">\n",
       "  <thead>\n",
       "    <tr>\n",
       "      <th id=\"T_5f8b5_level0_col0\" class=\"col_heading level0 col0\" >Tag Name</th>\n",
       "      <th id=\"T_5f8b5_level0_col1\" class=\"col_heading level0 col1\" >Tag ID</th>\n",
       "      <th id=\"T_5f8b5_level0_col2\" class=\"col_heading level0 col2\" >Tagged Commit</th>\n",
       "    </tr>\n",
       "  </thead>\n",
       "  <tbody>\n",
       "    <tr>\n",
       "      <td id=\"T_5f8b5_row0_col0\" class=\"data row0 col0\" >Spacecraft Internal Release 0.1</td>\n",
       "      <td id=\"T_5f8b5_row0_col1\" class=\"data row0 col1\" >8b98474b-b4b4-4eff-b52d-251e3b666110</td>\n",
       "      <td id=\"T_5f8b5_row0_col2\" class=\"data row0 col2\" >{'@id': '3a05f9df-16ac-483b-abe4-7a7a104a33fa'}</td>\n",
       "    </tr>\n",
       "    <tr>\n",
       "      <td id=\"T_5f8b5_row1_col0\" class=\"data row1 col0\" >Spacecraft Internal Release 0.2 build 1</td>\n",
       "      <td id=\"T_5f8b5_row1_col1\" class=\"data row1 col1\" >b315aac0-a5c0-46c3-8be3-bc69da551050</td>\n",
       "      <td id=\"T_5f8b5_row1_col2\" class=\"data row1 col2\" >{'@id': '044863cd-cc2c-48f5-8ff6-6ec7eae5612c'}</td>\n",
       "    </tr>\n",
       "  </tbody>\n",
       "</table>\n"
      ],
      "text/plain": [
       "<pandas.io.formats.style.Styler at 0x106f9c3d0>"
      ]
     },
     "metadata": {},
     "output_type": "display_data"
    }
   ],
   "source": [
    "tags_url = f\"{host}/projects/{project_id}/tags\" \n",
    "tags_response = requests.get(tags_url)\n",
    "\n",
    "if tags_response.status_code == 200:\n",
    "    tags = tags_response.json()\n",
    "    tags_data = list(map(lambda b: {'Tag Name':b['name'], 'Tag ID':b['@id'], 'Tagged Commit':b['taggedCommit']}, tags))\n",
    "\n",
    "    df = pd.DataFrame.from_records(tags_data).style.hide(axis='index')\n",
    "    display(df)\n",
    "else:\n",
    "    pprint(f\"Problem in fetching tags in Spacecraft project {project_id}.\")\n",
    "    pprint(tag_post_response)"
   ]
  },
  {
   "cell_type": "code",
   "execution_count": null,
   "id": "6bdbb8ac-22dc-41f7-bd05-3dc857ac6c3c",
   "metadata": {},
   "outputs": [],
   "source": []
  },
  {
   "cell_type": "code",
   "execution_count": null,
   "id": "fc7a30d3-42a7-4c51-9169-121773c35783",
   "metadata": {},
   "outputs": [],
   "source": []
  }
 ],
 "metadata": {
  "kernelspec": {
   "display_name": "Python 3 (ipykernel)",
   "language": "python",
   "name": "python3"
  },
  "language_info": {
   "codemirror_mode": {
    "name": "ipython",
    "version": 3
   },
   "file_extension": ".py",
   "mimetype": "text/x-python",
   "name": "python",
   "nbconvert_exporter": "python",
   "pygments_lexer": "ipython3",
   "version": "3.8.13"
  }
 },
 "nbformat": 4,
 "nbformat_minor": 5
}
