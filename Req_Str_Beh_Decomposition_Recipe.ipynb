{
 "cells": [
  {
   "cell_type": "markdown",
   "id": "3ee4834f",
   "metadata": {},
   "source": [
    "# Initializing the SysML v2 API"
   ]
  },
  {
   "cell_type": "code",
   "execution_count": 1,
   "id": "6b5fef59",
   "metadata": {},
   "outputs": [],
   "source": [
    "from __future__ import print_function\n",
    "\n",
    "import time\n",
    "import requests\n",
    "from pprint import pprint\n",
    "import pandas as pd\n",
    "import json\n",
    "\n",
    "host = \"http://sysml2-dev.intercax.com:9000\""
   ]
  },
  {
   "cell_type": "markdown",
   "id": "04c1ff93",
   "metadata": {},
   "source": [
    "# Get projects"
   ]
  },
  {
   "cell_type": "code",
   "execution_count": 2,
   "id": "78788ed9",
   "metadata": {},
   "outputs": [
    {
     "data": {
      "text/html": [
       "<div>\n",
       "<style scoped>\n",
       "    .dataframe tbody tr th:only-of-type {\n",
       "        vertical-align: middle;\n",
       "    }\n",
       "\n",
       "    .dataframe tbody tr th {\n",
       "        vertical-align: top;\n",
       "    }\n",
       "\n",
       "    .dataframe thead th {\n",
       "        text-align: right;\n",
       "    }\n",
       "</style>\n",
       "<table border=\"1\" class=\"dataframe\">\n",
       "  <thead>\n",
       "    <tr style=\"text-align: right;\">\n",
       "      <th></th>\n",
       "      <th>Project Name</th>\n",
       "      <th>Project ID</th>\n",
       "    </tr>\n",
       "  </thead>\n",
       "  <tbody>\n",
       "    <tr>\n",
       "      <th>0</th>\n",
       "      <td>13b-Safety and Security Features Element Group...</td>\n",
       "      <td>035a340b-ee4d-451d-9b28-196d100b0469</td>\n",
       "    </tr>\n",
       "    <tr>\n",
       "      <th>1</th>\n",
       "      <td>14b-Language Extensions Wed Mar 09 12:20:20 ES...</td>\n",
       "      <td>0567ee31-4238-40b9-989f-20764fcfdf6d</td>\n",
       "    </tr>\n",
       "    <tr>\n",
       "      <th>2</th>\n",
       "      <td>Expressions Wed Mar 09 12:29:23 EST 2022</td>\n",
       "      <td>06574af0-fbdf-42c4-8dbb-ee1b0157c106</td>\n",
       "    </tr>\n",
       "    <tr>\n",
       "      <th>3</th>\n",
       "      <td>15_19-Materials with Properties Wed Mar 09 12:...</td>\n",
       "      <td>0d6d0f0c-ce74-4fc3-9f4f-f63434103c41</td>\n",
       "    </tr>\n",
       "    <tr>\n",
       "      <th>4</th>\n",
       "      <td>12b-Allocation Wed Mar 09 12:19:12 EST 2022</td>\n",
       "      <td>1f6205f3-9503-4245-8c80-27d0731dd22c</td>\n",
       "    </tr>\n",
       "    <tr>\n",
       "      <th>5</th>\n",
       "      <td>13b-Safety and Security Features Element Group...</td>\n",
       "      <td>22053307-618c-4a9d-bfbf-fbc4dad2ce19</td>\n",
       "    </tr>\n",
       "    <tr>\n",
       "      <th>6</th>\n",
       "      <td>17a-Sequence-Modeling Wed Mar 09 12:21:27 EST ...</td>\n",
       "      <td>2a17590a-d896-42d8-8a61-1a29a93ef67b</td>\n",
       "    </tr>\n",
       "    <tr>\n",
       "      <th>7</th>\n",
       "      <td>10c-Fuel Economy Analysis Wed Mar 09 12:17:31 ...</td>\n",
       "      <td>31b4d90d-4f67-4859-a92e-dd5faaf1a071</td>\n",
       "    </tr>\n",
       "    <tr>\n",
       "      <th>8</th>\n",
       "      <td>4a-Functional Allocation Wed Mar 09 12:14:16 E...</td>\n",
       "      <td>383c9281-b522-488e-bc3d-7cca6524671a</td>\n",
       "    </tr>\n",
       "    <tr>\n",
       "      <th>9</th>\n",
       "      <td>3a-Function-based Behavior-2 Wed Mar 09 12:13:...</td>\n",
       "      <td>38865031-b14f-4eb9-9cfe-4242be523332</td>\n",
       "    </tr>\n",
       "    <tr>\n",
       "      <th>10</th>\n",
       "      <td>10b-Trade-off Among Alternative Configurations...</td>\n",
       "      <td>42c4339a-f2ed-48ea-8a90-4ceb6687766b</td>\n",
       "    </tr>\n",
       "    <tr>\n",
       "      <th>11</th>\n",
       "      <td>named-test</td>\n",
       "      <td>4a26dc26-93ad-4b25-b4db-ef40ff1bd32f</td>\n",
       "    </tr>\n",
       "    <tr>\n",
       "      <th>12</th>\n",
       "      <td>15_05-Unification of Expression and Constraint...</td>\n",
       "      <td>59b02e16-c505-4a72-8753-8518d9a5059e</td>\n",
       "    </tr>\n",
       "    <tr>\n",
       "      <th>13</th>\n",
       "      <td>17b-Sequence-Modeling Wed Mar 09 12:21:42 EST ...</td>\n",
       "      <td>6de72ed5-8395-4cbe-a569-a9a11815b5b9</td>\n",
       "    </tr>\n",
       "    <tr>\n",
       "      <th>14</th>\n",
       "      <td>18-Use Case Wed Mar 09 12:21:57 EST 2022</td>\n",
       "      <td>733fa0a4-c4f2-40ab-a29f-ddff50121540</td>\n",
       "    </tr>\n",
       "    <tr>\n",
       "      <th>15</th>\n",
       "      <td>13a-Model Containment Wed Mar 09 12:19:24 EST ...</td>\n",
       "      <td>7423aef9-c3a7-43b6-82bf-5cc80b1371ab</td>\n",
       "    </tr>\n",
       "    <tr>\n",
       "      <th>16</th>\n",
       "      <td>6-Individual and Snapshots Wed Mar 09 12:15:28...</td>\n",
       "      <td>75460db4-ef21-4d79-a5c3-646e543a5a1d</td>\n",
       "    </tr>\n",
       "    <tr>\n",
       "      <th>17</th>\n",
       "      <td>3a-Function-based Behavior-5 Wed Mar 09 12:14:...</td>\n",
       "      <td>75ad210e-0820-418f-82ae-2612e0255b5c</td>\n",
       "    </tr>\n",
       "    <tr>\n",
       "      <th>18</th>\n",
       "      <td>15_10-Primitive Data Types Wed Mar 09 12:20:52...</td>\n",
       "      <td>809db32e-62af-429d-aa24-a22ff2b4ee42</td>\n",
       "    </tr>\n",
       "    <tr>\n",
       "      <th>19</th>\n",
       "      <td>1c-Parts Tree Redefinition Wed Mar 09 12:12:12...</td>\n",
       "      <td>80d912f3-5d03-4d89-a2ce-3df5a54f6837</td>\n",
       "    </tr>\n",
       "    <tr>\n",
       "      <th>20</th>\n",
       "      <td>9-Verification-simplified Wed Mar 09 12:16:41 ...</td>\n",
       "      <td>822275ce-5603-4cd8-92fe-6d3befc7e170</td>\n",
       "    </tr>\n",
       "    <tr>\n",
       "      <th>21</th>\n",
       "      <td>11a-View-Viewpoint Wed Mar 09 12:18:25 EST 2022</td>\n",
       "      <td>901d84dd-9e5d-4063-8273-906745f736c8</td>\n",
       "    </tr>\n",
       "    <tr>\n",
       "      <th>22</th>\n",
       "      <td>2a-Parts Interconnection Wed Mar 09 12:12:50 E...</td>\n",
       "      <td>9404f9e1-a022-4036-9a93-bdb4db3687f6</td>\n",
       "    </tr>\n",
       "    <tr>\n",
       "      <th>23</th>\n",
       "      <td>12a-Dependency Wed Mar 09 12:19:01 EST 2022</td>\n",
       "      <td>95cda4d6-18bf-4032-b7a8-edf17023918a</td>\n",
       "    </tr>\n",
       "    <tr>\n",
       "      <th>24</th>\n",
       "      <td>3a-Function-based Behavior-1 Wed Mar 09 12:13:...</td>\n",
       "      <td>9a987994-7e64-4da5-a95b-f04debeefd95</td>\n",
       "    </tr>\n",
       "    <tr>\n",
       "      <th>25</th>\n",
       "      <td>8-Requirements Wed Mar 09 12:16:15 EST 2022</td>\n",
       "      <td>ac6d843e-ce1b-4596-a2f0-bc8c131f1745</td>\n",
       "    </tr>\n",
       "    <tr>\n",
       "      <th>26</th>\n",
       "      <td>AssignmentTest Tue Mar 15 22:47:24 EDT 2022</td>\n",
       "      <td>acaba4d7-1e9b-4adf-8fdf-128dfffe4390</td>\n",
       "    </tr>\n",
       "    <tr>\n",
       "      <th>27</th>\n",
       "      <td>11b-Safety and Security Feature Views Wed Mar ...</td>\n",
       "      <td>baa3e7c2-d40a-4e65-a4d9-93eb0c893375</td>\n",
       "    </tr>\n",
       "    <tr>\n",
       "      <th>28</th>\n",
       "      <td>5-State-based Behavior-1 Wed Mar 09 12:14:37 E...</td>\n",
       "      <td>bcb55aeb-b14a-4d0e-8ea8-ea39615443d8</td>\n",
       "    </tr>\n",
       "    <tr>\n",
       "      <th>29</th>\n",
       "      <td>10d-Dynamics Analysis Wed Mar 09 12:18:01 EST ...</td>\n",
       "      <td>bff393bb-3a22-4109-9381-0fdefa1bdee9</td>\n",
       "    </tr>\n",
       "    <tr>\n",
       "      <th>30</th>\n",
       "      <td>7b-Variant Configurations Wed Mar 09 12:15:48 ...</td>\n",
       "      <td>c3727d42-8e68-4f19-9f86-d669b09c0cdb</td>\n",
       "    </tr>\n",
       "    <tr>\n",
       "      <th>31</th>\n",
       "      <td>5-State-based Behavior-1a Wed Mar 09 12:15:03 ...</td>\n",
       "      <td>ce1ac109-1401-4630-88b8-b25a7ffddd2f</td>\n",
       "    </tr>\n",
       "    <tr>\n",
       "      <th>32</th>\n",
       "      <td>13b-Safety and Security Features Element Group...</td>\n",
       "      <td>d0fbca80-1436-460f-b7ef-b13cb03782c9</td>\n",
       "    </tr>\n",
       "  </tbody>\n",
       "</table>\n",
       "</div>"
      ],
      "text/plain": [
       "                                         Project Name  \\\n",
       "0   13b-Safety and Security Features Element Group...   \n",
       "1   14b-Language Extensions Wed Mar 09 12:20:20 ES...   \n",
       "2            Expressions Wed Mar 09 12:29:23 EST 2022   \n",
       "3   15_19-Materials with Properties Wed Mar 09 12:...   \n",
       "4         12b-Allocation Wed Mar 09 12:19:12 EST 2022   \n",
       "5   13b-Safety and Security Features Element Group...   \n",
       "6   17a-Sequence-Modeling Wed Mar 09 12:21:27 EST ...   \n",
       "7   10c-Fuel Economy Analysis Wed Mar 09 12:17:31 ...   \n",
       "8   4a-Functional Allocation Wed Mar 09 12:14:16 E...   \n",
       "9   3a-Function-based Behavior-2 Wed Mar 09 12:13:...   \n",
       "10  10b-Trade-off Among Alternative Configurations...   \n",
       "11                                         named-test   \n",
       "12  15_05-Unification of Expression and Constraint...   \n",
       "13  17b-Sequence-Modeling Wed Mar 09 12:21:42 EST ...   \n",
       "14           18-Use Case Wed Mar 09 12:21:57 EST 2022   \n",
       "15  13a-Model Containment Wed Mar 09 12:19:24 EST ...   \n",
       "16  6-Individual and Snapshots Wed Mar 09 12:15:28...   \n",
       "17  3a-Function-based Behavior-5 Wed Mar 09 12:14:...   \n",
       "18  15_10-Primitive Data Types Wed Mar 09 12:20:52...   \n",
       "19  1c-Parts Tree Redefinition Wed Mar 09 12:12:12...   \n",
       "20  9-Verification-simplified Wed Mar 09 12:16:41 ...   \n",
       "21    11a-View-Viewpoint Wed Mar 09 12:18:25 EST 2022   \n",
       "22  2a-Parts Interconnection Wed Mar 09 12:12:50 E...   \n",
       "23        12a-Dependency Wed Mar 09 12:19:01 EST 2022   \n",
       "24  3a-Function-based Behavior-1 Wed Mar 09 12:13:...   \n",
       "25        8-Requirements Wed Mar 09 12:16:15 EST 2022   \n",
       "26        AssignmentTest Tue Mar 15 22:47:24 EDT 2022   \n",
       "27  11b-Safety and Security Feature Views Wed Mar ...   \n",
       "28  5-State-based Behavior-1 Wed Mar 09 12:14:37 E...   \n",
       "29  10d-Dynamics Analysis Wed Mar 09 12:18:01 EST ...   \n",
       "30  7b-Variant Configurations Wed Mar 09 12:15:48 ...   \n",
       "31  5-State-based Behavior-1a Wed Mar 09 12:15:03 ...   \n",
       "32  13b-Safety and Security Features Element Group...   \n",
       "\n",
       "                              Project ID  \n",
       "0   035a340b-ee4d-451d-9b28-196d100b0469  \n",
       "1   0567ee31-4238-40b9-989f-20764fcfdf6d  \n",
       "2   06574af0-fbdf-42c4-8dbb-ee1b0157c106  \n",
       "3   0d6d0f0c-ce74-4fc3-9f4f-f63434103c41  \n",
       "4   1f6205f3-9503-4245-8c80-27d0731dd22c  \n",
       "5   22053307-618c-4a9d-bfbf-fbc4dad2ce19  \n",
       "6   2a17590a-d896-42d8-8a61-1a29a93ef67b  \n",
       "7   31b4d90d-4f67-4859-a92e-dd5faaf1a071  \n",
       "8   383c9281-b522-488e-bc3d-7cca6524671a  \n",
       "9   38865031-b14f-4eb9-9cfe-4242be523332  \n",
       "10  42c4339a-f2ed-48ea-8a90-4ceb6687766b  \n",
       "11  4a26dc26-93ad-4b25-b4db-ef40ff1bd32f  \n",
       "12  59b02e16-c505-4a72-8753-8518d9a5059e  \n",
       "13  6de72ed5-8395-4cbe-a569-a9a11815b5b9  \n",
       "14  733fa0a4-c4f2-40ab-a29f-ddff50121540  \n",
       "15  7423aef9-c3a7-43b6-82bf-5cc80b1371ab  \n",
       "16  75460db4-ef21-4d79-a5c3-646e543a5a1d  \n",
       "17  75ad210e-0820-418f-82ae-2612e0255b5c  \n",
       "18  809db32e-62af-429d-aa24-a22ff2b4ee42  \n",
       "19  80d912f3-5d03-4d89-a2ce-3df5a54f6837  \n",
       "20  822275ce-5603-4cd8-92fe-6d3befc7e170  \n",
       "21  901d84dd-9e5d-4063-8273-906745f736c8  \n",
       "22  9404f9e1-a022-4036-9a93-bdb4db3687f6  \n",
       "23  95cda4d6-18bf-4032-b7a8-edf17023918a  \n",
       "24  9a987994-7e64-4da5-a95b-f04debeefd95  \n",
       "25  ac6d843e-ce1b-4596-a2f0-bc8c131f1745  \n",
       "26  acaba4d7-1e9b-4adf-8fdf-128dfffe4390  \n",
       "27  baa3e7c2-d40a-4e65-a4d9-93eb0c893375  \n",
       "28  bcb55aeb-b14a-4d0e-8ea8-ea39615443d8  \n",
       "29  bff393bb-3a22-4109-9381-0fdefa1bdee9  \n",
       "30  c3727d42-8e68-4f19-9f86-d669b09c0cdb  \n",
       "31  ce1ac109-1401-4630-88b8-b25a7ffddd2f  \n",
       "32  d0fbca80-1436-460f-b7ef-b13cb03782c9  "
      ]
     },
     "metadata": {},
     "output_type": "display_data"
    }
   ],
   "source": [
    "projects_url = f\"{host}/projects\" \n",
    "projects_response = requests.get(projects_url)\n",
    "\n",
    "if projects_response.status_code == 200:\n",
    "    projects = projects_response.json()\n",
    "    \n",
    "    df = pd.DataFrame({'Project Name':[], 'Project ID':[]})\n",
    "    for p in projects:\n",
    "        df = pd.concat([df, pd.DataFrame({'Project Name':[p['name']], 'Project ID':[p['@id']]})], ignore_index=True)\n",
    "    display(df)"
   ]
  },
  {
   "cell_type": "markdown",
   "id": "d815e4fe",
   "metadata": {},
   "source": [
    "# Define a function to recursively iterate over feature members \n",
    "## Recursive graph traversal using FeatureMembership relations"
   ]
  },
  {
   "cell_type": "code",
   "execution_count": 3,
   "id": "24ec6146",
   "metadata": {},
   "outputs": [],
   "source": [
    "def get_member_features(project_id, commit_id, element_id, member_type, indent):\n",
    "    \n",
    "    # Fetch the element\n",
    "    element_url = f\"{host}/projects/{project_id}/commits/{commit_id}/elements/{element_id}\" \n",
    "    response = requests.get(element_url)\n",
    "    \n",
    "    element_data = response.json()\n",
    "    element_name = element_data['name']\n",
    "    element_id = element_data['@id']\n",
    "    element_type = element_data ['@type']\n",
    "    \n",
    "    if element_type == member_type:\n",
    "        print(f\"{indent} - {element_name} (id = {element_id}, type = {element_type})\")\n",
    "        # Feature memberships\n",
    "        element_features = element_data['feature']\n",
    "        if len(element_features) > 0:\n",
    "            for feature in element_features:\n",
    "                get_member_features(project_id, commit_id, feature['@id'], member_type, indent + \"  \")\n"
   ]
  },
  {
   "cell_type": "markdown",
   "id": "2aff54c2",
   "metadata": {},
   "source": [
    "# Parts tree navigation"
   ]
  },
  {
   "cell_type": "code",
   "execution_count": 4,
   "id": "482ddfe4",
   "metadata": {},
   "outputs": [
    {
     "name": "stdout",
     "output_type": "stream",
     "text": [
      "[{'@id': 'f0e92484-92fb-4afd-a2b3-7abaebc46ee6',\n",
      "  '@type': 'Commit',\n",
      "  'owningProject': {'@id': '80d912f3-5d03-4d89-a2ce-3df5a54f6837'},\n",
      "  'previousCommit': None,\n",
      "  'timestamp': '2022-03-09T12:12:25.727951-05:00'}]\n"
     ]
    }
   ],
   "source": [
    "parts_tree_project_id = '80d912f3-5d03-4d89-a2ce-3df5a54f6837'\n",
    "parts_tree_commit_id = ''\n",
    "\n",
    "commits_url = f\"{host}/projects/{parts_tree_project_id}/commits\" \n",
    "commits_response = requests.get(commits_url)\n",
    "if commits_response.status_code == 200:\n",
    "    commits = commits_response.json()\n",
    "    pprint(commits)\n",
    "    parts_tree_commit_id = commits[0]['@id']\n"
   ]
  },
  {
   "cell_type": "markdown",
   "id": "487c0624",
   "metadata": {},
   "source": [
    "## Query to find vehicle1"
   ]
  },
  {
   "cell_type": "code",
   "execution_count": 5,
   "id": "3d724e27",
   "metadata": {},
   "outputs": [
    {
     "name": "stdout",
     "output_type": "stream",
     "text": [
      "[{'@id': 'd5156ae4-c9e2-4c23-93e1-0ba56ebe36bf',\n",
      "  '@type': 'PartUsage',\n",
      "  'name': 'vehicle1',\n",
      "  'owner': {'@id': 'bcf497b1-d1e1-43e2-aed5-2822643a7ce9'}}]\n"
     ]
    }
   ],
   "source": [
    "# Query vehicle1 (PartUsage) in the \n",
    "data = {\n",
    "  '@type':'Query',\n",
    "  'select': ['name','@id','@type','owner'],\n",
    "  'where': {\n",
    "    '@type': 'CompositeConstraint',\n",
    "    'operator': 'and',\n",
    "    'constraint': [\n",
    "        {\n",
    "            '@type': 'PrimitiveConstraint',\n",
    "            'inverse': False,\n",
    "            'operator': '=',\n",
    "            'property': 'name',\n",
    "            'value': 'vehicle1'\n",
    "        },\n",
    "        {\n",
    "            '@type': 'PrimitiveConstraint',\n",
    "            'inverse': False,\n",
    "            'operator': '=',\n",
    "            'property': '@type',\n",
    "            'value': 'PartUsage'\n",
    "        }\n",
    "    ]\n",
    "  }\n",
    "}\n",
    "\n",
    "payload = json.dumps(data)\n",
    "\n",
    "vehicle1_id = ''\n",
    "query_url = f\"{host}/projects/{parts_tree_project_id}/query-results\" \n",
    "\n",
    "query_response = requests.post(query_url, json=data)\n",
    "\n",
    "if query_response.status_code == 200:\n",
    "    query_response_json = query_response.json()\n",
    "    pprint(query_response_json)\n",
    "    vehicle1_id = query_response_json[0]['@id']"
   ]
  },
  {
   "cell_type": "markdown",
   "id": "0092a660",
   "metadata": {},
   "source": [
    "## Parts tree for vehicle1 (recursive FeatureMembership relation navigation)"
   ]
  },
  {
   "cell_type": "code",
   "execution_count": 6,
   "id": "406504bf",
   "metadata": {},
   "outputs": [
    {
     "name": "stdout",
     "output_type": "stream",
     "text": [
      "  - vehicle1 (id = d5156ae4-c9e2-4c23-93e1-0ba56ebe36bf, type = PartUsage)\n",
      "    - frontAxleAssembly (id = fad78fd1-5519-42c4-be05-34f17a115f89, type = PartUsage)\n",
      "      - frontAxle (id = 69a3a7f5-f9c7-4829-9d27-e0cc45d7b96b, type = PartUsage)\n",
      "      - frontWheel (id = c9b3d19d-95ed-4404-b4bb-e79026861c82, type = PartUsage)\n",
      "    - rearAxleAssembly (id = 828fb44e-ecce-4b47-8139-d68eef254180, type = PartUsage)\n",
      "      - rearAxle (id = 77e64a83-7637-46ca-b343-3996bd2cdb4d, type = PartUsage)\n",
      "      - rearWheel (id = 36a1f7e5-ab10-4320-8ee4-cb62c13aeb87, type = PartUsage)\n"
     ]
    }
   ],
   "source": [
    "get_member_features(parts_tree_project_id,parts_tree_commit_id,vehicle1_id,'PartUsage',\" \")"
   ]
  },
  {
   "cell_type": "markdown",
   "id": "eba630b9",
   "metadata": {},
   "source": [
    "## Query to find vehicle1_c1"
   ]
  },
  {
   "cell_type": "code",
   "execution_count": 7,
   "id": "5c13178f",
   "metadata": {},
   "outputs": [
    {
     "name": "stdout",
     "output_type": "stream",
     "text": [
      "[{'@id': '1ff997c6-7de9-402c-90a3-a9fcc238bb38',\n",
      "  '@type': 'PartUsage',\n",
      "  'name': 'vehicle1_c1',\n",
      "  'owner': {'@id': 'bcf497b1-d1e1-43e2-aed5-2822643a7ce9'}}]\n"
     ]
    }
   ],
   "source": [
    "\n",
    "data = {\n",
    "  '@type':'Query',\n",
    "  'select': ['name','@id','@type','owner'],\n",
    "  'where': {\n",
    "    '@type': 'CompositeConstraint',\n",
    "    'operator': 'and',\n",
    "    'constraint': [\n",
    "        {\n",
    "            '@type': 'PrimitiveConstraint',\n",
    "            'inverse': False,\n",
    "            'operator': '=',\n",
    "            'property': 'name',\n",
    "            'value': 'vehicle1_c1'\n",
    "        },\n",
    "        {\n",
    "            '@type': 'PrimitiveConstraint',\n",
    "            'inverse': False,\n",
    "            'operator': '=',\n",
    "            'property': '@type',\n",
    "            'value': 'PartUsage'\n",
    "        }\n",
    "    ]\n",
    "  }\n",
    "}\n",
    "payload = json.dumps(data)\n",
    "\n",
    "vehicle1_c1_id = ''\n",
    "query_url = f\"{host}/projects/{parts_tree_project_id}/query-results\" \n",
    "\n",
    "query_response = requests.post(query_url, json=data)\n",
    "\n",
    "if query_response.status_code == 200:\n",
    "    query_response_json = query_response.json()\n",
    "    pprint(query_response_json)\n",
    "    vehicle1_c1_id = query_response_json[0]['@id']"
   ]
  },
  {
   "cell_type": "markdown",
   "id": "10b45dd4",
   "metadata": {},
   "source": [
    "## Parts tree for vehicle1_c1 (recursive FeatureMembership relation navigation)"
   ]
  },
  {
   "cell_type": "code",
   "execution_count": 8,
   "id": "1dbfe8f6",
   "metadata": {},
   "outputs": [
    {
     "name": "stdout",
     "output_type": "stream",
     "text": [
      "  - vehicle1_c1 (id = 1ff997c6-7de9-402c-90a3-a9fcc238bb38, type = PartUsage)\n",
      "    - frontAxleAssembly_c1 (id = d76ce4de-b94d-4bdc-849b-481133d73b78, type = PartUsage)\n",
      "      - frontAxle_c1 (id = cb2eda6b-0a5b-4e9a-ad6a-2d44a3054ac5, type = PartUsage)\n",
      "      - frontWheel_1 (id = 9a578db7-f9c3-4728-be2e-4fd959802ab6, type = PartUsage)\n",
      "      - frontWheel_2 (id = 74183ff0-f7e7-4dec-89bb-c76d9f9dbfeb, type = PartUsage)\n",
      "      - frontWheel (id = c9b3d19d-95ed-4404-b4bb-e79026861c82, type = PartUsage)\n",
      "    - rearAxleAssembly_c1 (id = 8bf04eb1-6203-4acc-8529-eb66b9412812, type = PartUsage)\n",
      "      - rearAxle_c1 (id = 82df4d3e-2d95-4b3d-bcf8-4d65502aca54, type = PartUsage)\n",
      "      - rearWheel_1 (id = ec63812a-588c-4f15-9eb9-2035eb7c8464, type = PartUsage)\n",
      "      - rearWheel_2 (id = e26b6881-5503-462b-aeee-a58a4d02d134, type = PartUsage)\n",
      "      - rearWheel (id = 36a1f7e5-ab10-4320-8ee4-cb62c13aeb87, type = PartUsage)\n"
     ]
    }
   ],
   "source": [
    "get_member_features(parts_tree_project_id,parts_tree_commit_id,vehicle1_c1_id,'PartUsage',\" \")"
   ]
  },
  {
   "cell_type": "markdown",
   "id": "b7319e39",
   "metadata": {},
   "source": [
    "# Behavior Tree Navigation"
   ]
  },
  {
   "cell_type": "code",
   "execution_count": 9,
   "id": "c9c96cbe",
   "metadata": {},
   "outputs": [
    {
     "name": "stdout",
     "output_type": "stream",
     "text": [
      "[{'@id': 'cbac34f5-e684-457e-b5a9-11f03960583c',\n",
      "  '@type': 'Commit',\n",
      "  'owningProject': {'@id': '38865031-b14f-4eb9-9cfe-4242be523332'},\n",
      "  'previousCommit': None,\n",
      "  'timestamp': '2022-03-09T12:13:42.401302-05:00'}]\n"
     ]
    }
   ],
   "source": [
    "behavior_project_id = '38865031-b14f-4eb9-9cfe-4242be523332'\n",
    "behavior_project_commit_id = ''\n",
    "\n",
    "commits_url = f\"{host}/projects/{behavior_project_id}/commits\" \n",
    "commits_response = requests.get(commits_url)\n",
    "if commits_response.status_code == 200:\n",
    "    commits = commits_response.json()\n",
    "    pprint(commits)\n",
    "    behavior_project_commit_id = commits[0]['@id']"
   ]
  },
  {
   "cell_type": "markdown",
   "id": "5d7c309e",
   "metadata": {},
   "source": [
    "## Query to find Provide Power behavior (ActionUsage)"
   ]
  },
  {
   "cell_type": "code",
   "execution_count": 10,
   "id": "d5a63113",
   "metadata": {},
   "outputs": [
    {
     "name": "stdout",
     "output_type": "stream",
     "text": [
      "[{'@id': '8cdb0222-c23b-4a3f-97b7-dbe85d563f24',\n",
      "  '@type': 'ActionUsage',\n",
      "  'name': 'provide power',\n",
      "  'owner': {'@id': '5a2fbc37-abbd-4d15-bc1a-c207692b9d73'}}]\n"
     ]
    }
   ],
   "source": [
    "data = {\n",
    "  '@type':'Query',\n",
    "  'select': ['name','@id','@type','owner'],\n",
    "  'where': {\n",
    "    '@type': 'CompositeConstraint',\n",
    "    'operator': 'and',\n",
    "    'constraint': [\n",
    "        {\n",
    "            '@type': 'PrimitiveConstraint',\n",
    "            'inverse': False,\n",
    "            'operator': '=',\n",
    "            'property': 'name',\n",
    "            'value': 'provide power'\n",
    "        },\n",
    "        {\n",
    "            '@type': 'PrimitiveConstraint',\n",
    "            'inverse': False,\n",
    "            'operator': '=',\n",
    "            'property': '@type',\n",
    "            'value': 'ActionUsage'\n",
    "        }\n",
    "    ]\n",
    "  }\n",
    "}\n",
    "\n",
    "payload = json.dumps(data)\n",
    "\n",
    "provide_power_id = ''\n",
    "query_url = f\"{host}/projects/{behavior_project_id}/query-results\" \n",
    "\n",
    "query_response = requests.post(query_url, json=data)\n",
    "\n",
    "if query_response.status_code == 200:\n",
    "    query_response_json = query_response.json()\n",
    "    pprint(query_response_json)\n",
    "    provide_power_id = query_response_json[0]['@id']"
   ]
  },
  {
   "cell_type": "markdown",
   "id": "10018cd0",
   "metadata": {},
   "source": [
    "## Behavior tree for vehicle1 (recursive FeatureMembership relation navigation)"
   ]
  },
  {
   "cell_type": "code",
   "execution_count": 11,
   "id": "91193b07",
   "metadata": {},
   "outputs": [
    {
     "name": "stdout",
     "output_type": "stream",
     "text": [
      "  - provide power (id = 8cdb0222-c23b-4a3f-97b7-dbe85d563f24, type = ActionUsage)\n",
      "    - generate torque (id = 658fc445-4ad8-4214-bad2-705e3e89e8a2, type = ActionUsage)\n",
      "    - amplify torque (id = 669056b2-1c35-43b5-88e2-011decf4c8aa, type = ActionUsage)\n",
      "    - transfer torque (id = 7d8a580a-8f21-4a28-b449-938d02b4f528, type = ActionUsage)\n",
      "    - distribute torque (id = 0948ab11-2856-45be-b70a-44504759ebef, type = ActionUsage)\n",
      "    - start (id = 6a7609c8-85fa-4df5-bb92-23e3b14907ed, type = ActionUsage)\n"
     ]
    }
   ],
   "source": [
    "get_member_features(behavior_project_id, behavior_project_commit_id, provide_power_id,\"ActionUsage\",\" \")"
   ]
  },
  {
   "cell_type": "markdown",
   "id": "a07cc348",
   "metadata": {},
   "source": [
    "# Requirement tree for vehicle"
   ]
  },
  {
   "cell_type": "code",
   "execution_count": 12,
   "id": "89840b26",
   "metadata": {},
   "outputs": [
    {
     "name": "stdout",
     "output_type": "stream",
     "text": [
      "  - vehicleSpecification (id = e405e7de-a408-4aa1-898e-6d2b6eee03a7, type = RequirementUsage)\n",
      "    - vehicleMassRequirement (id = 9da27f21-7345-4ce4-8257-c90422ad5403, type = RequirementUsage)\n",
      "    - vehicleFuelEconomyRequirements (id = 94854c0a-e4ae-4136-b49c-74e05f6dea93, type = RequirementUsage)\n",
      "      - cityFuelEconomyRequirement (id = 9d8069c9-7a4f-4830-8efa-681eaad10bbc, type = RequirementUsage)\n",
      "      - highwayFuelEconomyRequirement (id = dfb84e6f-b940-44fe-865b-f3de59c16981, type = RequirementUsage)\n"
     ]
    }
   ],
   "source": [
    "vehicle_project = '4c5b2a9a-5bd1-4fd8-8c2f-548e0a8e5481'\n",
    "vehicle_commit = 'a6316295-5a01-4176-9a55-d01f058d0668'\n",
    "vehicle_spec = 'e405e7de-a408-4aa1-898e-6d2b6eee03a7'\n",
    "host = \"http://sysml2-sst.intercax.com:9000\"\n",
    "get_member_features(vehicle_project, vehicle_commit, vehicle_spec,\"RequirementUsage\",\" \")"
   ]
  },
  {
   "cell_type": "code",
   "execution_count": null,
   "id": "bd2276aa",
   "metadata": {},
   "outputs": [],
   "source": []
  }
 ],
 "metadata": {
  "kernelspec": {
   "display_name": "Python 3 (ipykernel)",
   "language": "python",
   "name": "python3"
  },
  "language_info": {
   "codemirror_mode": {
    "name": "ipython",
    "version": 3
   },
   "file_extension": ".py",
   "mimetype": "text/x-python",
   "name": "python",
   "nbconvert_exporter": "python",
   "pygments_lexer": "ipython3",
   "version": "3.9.10"
  }
 },
 "nbformat": 4,
 "nbformat_minor": 5
}
