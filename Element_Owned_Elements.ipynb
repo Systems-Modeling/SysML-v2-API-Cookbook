{
 "cells": [
  {
   "cell_type": "markdown",
   "id": "3ee4834f",
   "metadata": {},
   "source": [
    "# Initializing the SysML v2 API"
   ]
  },
  {
   "cell_type": "code",
   "execution_count": 12,
   "id": "6b5fef59",
   "metadata": {},
   "outputs": [],
   "source": [
    "from __future__ import print_function\n",
    "\n",
    "import time\n",
    "import requests\n",
    "from pprint import pprint\n",
    "import pandas as pd\n",
    "import json\n",
    "\n",
    "#host = \"<specify protocol://host:port of the server that is a provider of the SysML v2 REST/HTTP API\"\n",
    "host = \"Specify the URL of the SysML v2 API and Service Repository\""
   ]
  },
  {
   "cell_type": "markdown",
   "id": "04c1ff93",
   "metadata": {},
   "source": [
    "# Get projects"
   ]
  },
  {
   "cell_type": "code",
   "execution_count": 13,
   "id": "78788ed9",
   "metadata": {},
   "outputs": [
    {
     "data": {
      "text/html": [
       "<div>\n",
       "<style scoped>\n",
       "    .dataframe tbody tr th:only-of-type {\n",
       "        vertical-align: middle;\n",
       "    }\n",
       "\n",
       "    .dataframe tbody tr th {\n",
       "        vertical-align: top;\n",
       "    }\n",
       "\n",
       "    .dataframe thead th {\n",
       "        text-align: right;\n",
       "    }\n",
       "</style>\n",
       "<table border=\"1\" class=\"dataframe\">\n",
       "  <thead>\n",
       "    <tr style=\"text-align: right;\">\n",
       "      <th></th>\n",
       "      <th>Project Name</th>\n",
       "      <th>Project ID</th>\n",
       "    </tr>\n",
       "  </thead>\n",
       "  <tbody>\n",
       "    <tr>\n",
       "      <th>0</th>\n",
       "      <td>5-State-based Behavior-1a Fri Mar 10 17:37:14 ...</td>\n",
       "      <td>024b1aa6-7489-4106-bf2d-498f441f3d56</td>\n",
       "    </tr>\n",
       "    <tr>\n",
       "      <th>1</th>\n",
       "      <td>13a-Model Containment Fri Mar 10 16:52:40 EST ...</td>\n",
       "      <td>083a7c88-757c-41ff-89db-bc34a12b7794</td>\n",
       "    </tr>\n",
       "    <tr>\n",
       "      <th>2</th>\n",
       "      <td>SimpleQuadcopter Fri Mar 10 17:54:58 EST 2023</td>\n",
       "      <td>092dd68d-887f-4553-8ed2-05d405fb3a47</td>\n",
       "    </tr>\n",
       "    <tr>\n",
       "      <th>3</th>\n",
       "      <td>15_05-Unification of Expression and Constraint...</td>\n",
       "      <td>098d5715-5dee-46d1-bdf8-ab96f1cc9fc6</td>\n",
       "    </tr>\n",
       "    <tr>\n",
       "      <th>4</th>\n",
       "      <td>7b-Variant Configurations Fri Mar 10 17:38:53 ...</td>\n",
       "      <td>0b773e83-226e-4e20-ad89-5cbf1381b401</td>\n",
       "    </tr>\n",
       "    <tr>\n",
       "      <th>...</th>\n",
       "      <td>...</td>\n",
       "      <td>...</td>\n",
       "    </tr>\n",
       "    <tr>\n",
       "      <th>89</th>\n",
       "      <td>14b-Language Extensions Fri Mar 10 17:49:37 ES...</td>\n",
       "      <td>f97580aa-646c-4895-a8cb-006cd7538bb6</td>\n",
       "    </tr>\n",
       "    <tr>\n",
       "      <th>90</th>\n",
       "      <td>18-Use Case Fri Mar 10 17:00:37 EST 2023</td>\n",
       "      <td>fa2bae57-4b5e-46e0-a0ef-ede2f121ea1f</td>\n",
       "    </tr>\n",
       "    <tr>\n",
       "      <th>91</th>\n",
       "      <td>AnalysisAnnotation2 Wed Aug 30 04:36:12 UTC 2023</td>\n",
       "      <td>fb6d4f79-04e0-4a73-b11a-09263b79d7c3</td>\n",
       "    </tr>\n",
       "    <tr>\n",
       "      <th>92</th>\n",
       "      <td>11b-Safety and Security Feature Views Fri Mar ...</td>\n",
       "      <td>fc58c0ac-58ea-4a19-90d7-c9e2f1c6da84</td>\n",
       "    </tr>\n",
       "    <tr>\n",
       "      <th>93</th>\n",
       "      <td>5-State-based Behavior-1 Fri Mar 10 17:36:13 E...</td>\n",
       "      <td>fd341050-37b5-419e-be67-987ab836f668</td>\n",
       "    </tr>\n",
       "  </tbody>\n",
       "</table>\n",
       "<p>94 rows × 2 columns</p>\n",
       "</div>"
      ],
      "text/plain": [
       "                                         Project Name  \\\n",
       "0   5-State-based Behavior-1a Fri Mar 10 17:37:14 ...   \n",
       "1   13a-Model Containment Fri Mar 10 16:52:40 EST ...   \n",
       "2       SimpleQuadcopter Fri Mar 10 17:54:58 EST 2023   \n",
       "3   15_05-Unification of Expression and Constraint...   \n",
       "4   7b-Variant Configurations Fri Mar 10 17:38:53 ...   \n",
       "..                                                ...   \n",
       "89  14b-Language Extensions Fri Mar 10 17:49:37 ES...   \n",
       "90           18-Use Case Fri Mar 10 17:00:37 EST 2023   \n",
       "91   AnalysisAnnotation2 Wed Aug 30 04:36:12 UTC 2023   \n",
       "92  11b-Safety and Security Feature Views Fri Mar ...   \n",
       "93  5-State-based Behavior-1 Fri Mar 10 17:36:13 E...   \n",
       "\n",
       "                              Project ID  \n",
       "0   024b1aa6-7489-4106-bf2d-498f441f3d56  \n",
       "1   083a7c88-757c-41ff-89db-bc34a12b7794  \n",
       "2   092dd68d-887f-4553-8ed2-05d405fb3a47  \n",
       "3   098d5715-5dee-46d1-bdf8-ab96f1cc9fc6  \n",
       "4   0b773e83-226e-4e20-ad89-5cbf1381b401  \n",
       "..                                   ...  \n",
       "89  f97580aa-646c-4895-a8cb-006cd7538bb6  \n",
       "90  fa2bae57-4b5e-46e0-a0ef-ede2f121ea1f  \n",
       "91  fb6d4f79-04e0-4a73-b11a-09263b79d7c3  \n",
       "92  fc58c0ac-58ea-4a19-90d7-c9e2f1c6da84  \n",
       "93  fd341050-37b5-419e-be67-987ab836f668  \n",
       "\n",
       "[94 rows x 2 columns]"
      ]
     },
     "metadata": {},
     "output_type": "display_data"
    }
   ],
   "source": [
    "projects_url = f\"{host}/projects\" \n",
    "projects_response = requests.get(projects_url)\n",
    "\n",
    "if projects_response.status_code == 200:\n",
    "    projects = projects_response.json()\n",
    "    \n",
    "    df = pd.DataFrame({'Project Name':[], 'Project ID':[]})\n",
    "    for p in projects:\n",
    "        df = pd.concat([df, pd.DataFrame({'Project Name':[p['name']], 'Project ID':[p['@id']]})], ignore_index=True)\n",
    "    display(df)"
   ]
  },
  {
   "cell_type": "markdown",
   "id": "d815e4fe",
   "metadata": {},
   "source": [
    "# Define functions to get owned elements - immediate and recursive\n",
    "## Define a function to get an element and print its name and type"
   ]
  },
  {
   "cell_type": "code",
   "execution_count": 14,
   "id": "24e17d21-71ce-4573-960f-7533aca63337",
   "metadata": {},
   "outputs": [],
   "source": [
    "def get_element(project_id, commit_id, element_id, indent):\n",
    "     # Fetch the element in the given commit of the given project\n",
    "    element_url = f\"{host}/projects/{project_id}/commits/{commit_id}/elements/{element_id}\" \n",
    "    response = requests.get(element_url)\n",
    "    \n",
    "    if response.status_code == 200:\n",
    "        element_data = response.json()\n",
    "        element_name_to_print = element_data['name'] if element_data['name'] else 'N/A'\n",
    "        element_type = element_data ['@type']\n",
    "        print(f\"{indent} - {element_name_to_print} ({element_type})\")\n",
    "        return element_data\n",
    "    else:\n",
    "        return None"
   ]
  },
  {
   "cell_type": "markdown",
   "id": "6a004c71-9feb-4b7b-926c-c9378efd8587",
   "metadata": {},
   "source": [
    "## Define a function to get owned elements (immediate) for a given element"
   ]
  },
  {
   "cell_type": "code",
   "execution_count": 15,
   "id": "07216712-9c1c-4729-b940-cfa220bd8291",
   "metadata": {},
   "outputs": [],
   "source": [
    "# Returns direct / immediate owned elements for a given element in a given commit of a given project\n",
    "def get_owned_elements_immediate(project_id, commit_id, element_id, indent):\n",
    "    \n",
    "    # Fetch the element in the given commit of the given project\n",
    "    element_data = get_element(project_id, commit_id, element_id, indent)\n",
    "    \n",
    "    if element_data:\n",
    "        owned_elements = element_data['ownedElement']\n",
    "        if len(owned_elements) > 0:\n",
    "            for owned_element in owned_elements:\n",
    "                get_element(project_id, commit_id, owned_element['@id'], indent + '  ')\n",
    "    else:\n",
    "        print(f\"Unable to fetch element with id '{element_id}' in commit '{commit_id}' of project '{project_id}'\")"
   ]
  },
  {
   "cell_type": "markdown",
   "id": "65b74b05-7037-4382-b799-4df2cc6b0e03",
   "metadata": {},
   "source": [
    "## Define a function to get owned elements (recursive) for a given element"
   ]
  },
  {
   "cell_type": "code",
   "execution_count": 16,
   "id": "f55e9cb8-f693-461a-aeaa-6416d40d7858",
   "metadata": {},
   "outputs": [],
   "source": [
    "# Returns directly / immediate owned elements for a given element in a given commit of a given project\n",
    "def get_owned_elements(project_id, commit_id, element_id, indent):\n",
    "    \n",
    "    # Fetch the element in the given commit of the given project\n",
    "    element_data = get_element(project_id, commit_id, element_id, indent)\n",
    "    \n",
    "    if element_data:\n",
    "        owned_elements = element_data['ownedElement']\n",
    "        if len(owned_elements) > 0:\n",
    "            for owned_element in owned_elements:\n",
    "                get_owned_elements(project_id, commit_id, owned_element['@id'], indent+' ')\n",
    "    else:\n",
    "        print(f\"Unable to fetch element with id '{element_id}' in commit '{commit_id}' of project '{project_id}'\")"
   ]
  },
  {
   "cell_type": "markdown",
   "id": "f020a542-14fe-4f12-9680-0faa51819cce",
   "metadata": {},
   "source": [
    "# Test for an example element in a given commit of a project"
   ]
  },
  {
   "cell_type": "markdown",
   "id": "d718111e-1804-4a3c-b4cd-2719c8c78356",
   "metadata": {},
   "source": [
    "## Specify test project, commit, and element"
   ]
  },
  {
   "cell_type": "code",
   "execution_count": 17,
   "id": "3c378cb5-e7bb-48c4-ac27-67fd893aebc5",
   "metadata": {},
   "outputs": [],
   "source": [
    "# Specify a project id\n",
    "test_project_id = 'b0c4aec0-8fce-4d82-af3d-f9abdd25af19' # 1c-Parts Tree Redifinition project\n",
    "\n",
    "# Specify a commit id in the project\n",
    "test_commit_id = 'caa160a2-e964-4545-bb3c-c7686d5d2979' # Latest commit in the main branch of the project\n",
    "\n",
    "# Specify an element id in the commit of that project\n",
    "test_element_id = '2a361c0a-a332-4910-a288-c8b4b35bd2ab' #1c-Parts Tree Redifinition package"
   ]
  },
  {
   "cell_type": "markdown",
   "id": "27033be6-564c-4588-8404-0176b6d5f5df",
   "metadata": {},
   "source": [
    "## Get owned elements (immediate) for the given element in the given commit of the given project"
   ]
  },
  {
   "cell_type": "code",
   "execution_count": 18,
   "id": "1ae44ade-1147-4057-b253-84d564e432b2",
   "metadata": {},
   "outputs": [
    {
     "name": "stdout",
     "output_type": "stream",
     "text": [
      " - 1c-Parts Tree Redefinition (Package)\n",
      "   - Definitions (Package)\n",
      "   - Usages (Package)\n"
     ]
    }
   ],
   "source": [
    "get_owned_elements_immediate(test_project_id, test_commit_id, test_element_id, '')"
   ]
  },
  {
   "cell_type": "markdown",
   "id": "8adca507-c239-43c9-843a-ae77ff715c98",
   "metadata": {},
   "source": [
    "## Get owned elements (recursive) for the given element in the given commit of the given project"
   ]
  },
  {
   "cell_type": "code",
   "execution_count": 19,
   "id": "0288f81f-7513-42e0-a0c7-a7e873d92e91",
   "metadata": {},
   "outputs": [
    {
     "name": "stdout",
     "output_type": "stream",
     "text": [
      " - 1c-Parts Tree Redefinition (Package)\n",
      "  - Definitions (Package)\n",
      "   - Vehicle (PartDefinition)\n",
      "    - mass (AttributeUsage)\n",
      "     - N/A (Multiplicity)\n",
      "   - AxleAssembly (PartDefinition)\n",
      "   - Axle (PartDefinition)\n",
      "    - mass (AttributeUsage)\n",
      "     - N/A (Multiplicity)\n",
      "   - FrontAxle (PartDefinition)\n",
      "    - steeringAngle (AttributeUsage)\n",
      "     - N/A (Multiplicity)\n",
      "   - Wheel (PartDefinition)\n",
      "  - Usages (Package)\n",
      "   - vehicle1 (PartUsage)\n",
      "    - mass (AttributeUsage)\n",
      "     - N/A (OperatorExpression)\n",
      "      - x (Feature)\n",
      "       - N/A (LiteralInteger)\n",
      "        - result (Feature)\n",
      "      - y (Feature)\n",
      "       - N/A (FeatureReferenceExpression)\n",
      "        - result (Feature)\n",
      "      - result (Feature)\n",
      "     - N/A (Documentation)\n",
      "    - frontAxleAssembly (PartUsage)\n",
      "     - frontAxle (PartUsage)\n",
      "      - N/A (Multiplicity)\n",
      "     - frontWheel (PartUsage)\n",
      "      - N/A (MultiplicityRange)\n",
      "       - N/A (LiteralInteger)\n",
      "        - result (Feature)\n",
      "     - N/A (Multiplicity)\n",
      "    - rearAxleAssembly (PartUsage)\n",
      "     - rearAxle (PartUsage)\n",
      "      - N/A (Multiplicity)\n",
      "     - rearWheel (PartUsage)\n",
      "      - N/A (MultiplicityRange)\n",
      "       - N/A (LiteralInteger)\n",
      "        - result (Feature)\n",
      "     - N/A (Multiplicity)\n",
      "   - vehicle1_c1 (PartUsage)\n",
      "    - N/A (Comment)\n",
      "    - mass (AttributeUsage)\n",
      "     - N/A (OperatorExpression)\n",
      "      - x (Feature)\n",
      "       - N/A (LiteralInteger)\n",
      "        - result (Feature)\n",
      "      - y (Feature)\n",
      "       - N/A (FeatureReferenceExpression)\n",
      "        - result (Feature)\n",
      "      - result (Feature)\n",
      "     - N/A (Comment)\n",
      "    - frontAxleAssembly_c1 (PartUsage)\n",
      "     - frontAxle_c1 (PartUsage)\n",
      "      - N/A (Comment)\n",
      "     - N/A (Comment)\n",
      "     - frontWheel_1 (PartUsage)\n",
      "      - N/A (OperatorExpression)\n",
      "       - seq (Feature)\n",
      "        - N/A (FeatureReferenceExpression)\n",
      "         - result (Feature)\n",
      "       - index (Feature)\n",
      "        - N/A (LiteralInteger)\n",
      "         - result (Feature)\n",
      "       - result (Feature)\n",
      "     - frontWheel_2 (PartUsage)\n",
      "      - N/A (OperatorExpression)\n",
      "       - seq (Feature)\n",
      "        - N/A (FeatureReferenceExpression)\n",
      "         - result (Feature)\n",
      "       - index (Feature)\n",
      "        - N/A (LiteralInteger)\n",
      "         - result (Feature)\n",
      "       - result (Feature)\n",
      "    - rearAxleAssembly_c1 (PartUsage)\n",
      "     - rearAxle_c1 (PartUsage)\n",
      "      - N/A (Comment)\n",
      "     - rearWheel_1 (PartUsage)\n",
      "      - N/A (OperatorExpression)\n",
      "       - seq (Feature)\n",
      "        - N/A (FeatureReferenceExpression)\n",
      "         - result (Feature)\n",
      "       - index (Feature)\n",
      "        - N/A (LiteralInteger)\n",
      "         - result (Feature)\n",
      "       - result (Feature)\n",
      "     - rearWheel_2 (PartUsage)\n",
      "      - N/A (OperatorExpression)\n",
      "       - seq (Feature)\n",
      "        - N/A (FeatureReferenceExpression)\n",
      "         - result (Feature)\n",
      "       - index (Feature)\n",
      "        - N/A (LiteralInteger)\n",
      "         - result (Feature)\n",
      "       - result (Feature)\n"
     ]
    }
   ],
   "source": [
    "get_owned_elements(test_project_id, test_commit_id, test_element_id, '')"
   ]
  },
  {
   "cell_type": "code",
   "execution_count": null,
   "id": "3aca7044-3063-47b6-8916-f4a2ef8e3105",
   "metadata": {},
   "outputs": [],
   "source": []
  }
 ],
 "metadata": {
  "kernelspec": {
   "display_name": "Python 3 (ipykernel)",
   "language": "python",
   "name": "python3"
  },
  "language_info": {
   "codemirror_mode": {
    "name": "ipython",
    "version": 3
   },
   "file_extension": ".py",
   "mimetype": "text/x-python",
   "name": "python",
   "nbconvert_exporter": "python",
   "pygments_lexer": "ipython3",
   "version": "3.8.16"
  }
 },
 "nbformat": 4,
 "nbformat_minor": 5
}
